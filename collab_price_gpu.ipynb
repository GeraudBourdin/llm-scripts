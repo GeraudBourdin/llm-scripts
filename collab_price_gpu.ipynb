{
  "nbformat": 4,
  "nbformat_minor": 0,
  "metadata": {
    "colab": {
      "provenance": [],
      "authorship_tag": "ABX9TyMlXPA2W+SOAscobUuw2Jkr",
      "include_colab_link": true
    },
    "kernelspec": {
      "name": "python3",
      "display_name": "Python 3"
    },
    "language_info": {
      "name": "python"
    }
  },
  "cells": [
    {
      "cell_type": "markdown",
      "metadata": {
        "id": "view-in-github",
        "colab_type": "text"
      },
      "source": [
        "<a href=\"https://colab.research.google.com/github/GeraudBourdin/llm-scripts/blob/main/collab_price_gpu.ipynb\" target=\"_parent\"><img src=\"https://colab.research.google.com/assets/colab-badge.svg\" alt=\"Open In Colab\"/></a>"
      ]
    },
    {
      "cell_type": "code",
      "execution_count": 2,
      "metadata": {
        "colab": {
          "base_uri": "https://localhost:8080/"
        },
        "id": "YneOI66-owcU",
        "outputId": "a087de5c-2e3f-4632-ed0c-a7ccf9d24e56"
      },
      "outputs": [
        {
          "output_type": "stream",
          "name": "stdout",
          "text": [
            "        Modèle   RAM  VRAM   HD    U/H  €/H(500U)  €/H(100U)\n",
            "0          CPU  12.7   N/A  225   0.07   0.007098    0.00777\n",
            "1         CPU+    51   N/A  226   0.13   0.013182    0.01443\n",
            "2         A100    85    40  201  11.77   1.193478    1.30647\n",
            "3         V100    12    16  201   4.82   0.488748    0.53502\n",
            "4        V100+    51    16  201   4.91   0.497874    0.54501\n",
            "5           L4    62  22.5  201   4.82   0.488748    0.53502\n",
            "6       T4 GPU    12    15  201   1.76   0.178464    0.19536\n",
            "7   T4 GPU ram    51    15  201   1.84   0.186576    0.20424\n",
            "8          TPU    12   N/A  225   1.76   0.178464    0.19536\n",
            "9         TPU+    22   N/A  225   2.18   0.221052    0.24198\n",
            "10      TPU v2   N/A   N/A  N/A   1.76   0.178464    0.19536\n",
            "11.10 € pour 100 U\n",
            "50.70 € pour 500 U\n"
          ]
        }
      ],
      "source": [
        "import pandas as pd\n",
        "\n",
        "data = {\n",
        "    'Modèle': ['CPU', 'CPU+', 'A100', 'V100', 'V100+', 'L4', 'T4', 'T4 ram', 'TPU', 'TPU+', 'TPU v2'],\n",
        "    'RAM': [12.7, 51, 85, 12, 51, 62, 12, 51, 12, 22, 'N/A'],\n",
        "    'VRAM': ['N/A', 'N/A', 40, 16, 16, 22.5, 15, 15, 'N/A', 'N/A', 'N/A'],\n",
        "    'HD': [225, 226, 201, 201, 201, 201, 201, 201, 225, 225, 'N/A'],\n",
        "    'U/H': [0.07, 0.13, 11.77, 4.82, 4.91, 4.82, 1.76, 1.84, 1.76, 2.18, 1.76]\n",
        "}\n",
        "\n",
        "df = pd.DataFrame(data)\n",
        "\n",
        "df['€/H(500U)'] = df['U/H'] * (50.70/500)\n",
        "df['€/H(100U)'] = df['U/H'] * (11.10/100)\n",
        "\n",
        "\n",
        "print(df)\n",
        "\n",
        "print('11.10 € pour 100 U')\n",
        "print('50.70 € pour 500 U')"
      ]
    }
  ]
}
