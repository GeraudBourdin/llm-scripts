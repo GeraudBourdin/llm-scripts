{
  "nbformat": 4,
  "nbformat_minor": 0,
  "metadata": {
    "colab": {
      "provenance": [],
      "authorship_tag": "ABX9TyOXGiDdoveWumFsLSfWOPEe",
      "include_colab_link": true
    },
    "kernelspec": {
      "name": "python3",
      "display_name": "Python 3"
    },
    "language_info": {
      "name": "python"
    }
  },
  "cells": [
    {
      "cell_type": "markdown",
      "metadata": {
        "id": "view-in-github",
        "colab_type": "text"
      },
      "source": [
        "<a href=\"https://colab.research.google.com/github/GeraudBourdin/llm-scripts/blob/main/collab_price_gpu.ipynb\" target=\"_parent\"><img src=\"https://colab.research.google.com/assets/colab-badge.svg\" alt=\"Open In Colab\"/></a>"
      ]
    },
    {
      "cell_type": "code",
      "source": [
        "import pandas as pd\n",
        "\n",
        "data = {\n",
        "    'Method': ['Full', 'Full', 'GaLore', 'Freeze', 'LoRA+', 'QLoRA', 'QLoRA', 'QLoRA'],\n",
        "    'Bits': ['AMP', 16, 16, 16, 16, 8, 4, 2],\n",
        "    '7B': ['120GB', '60GB', '16GB', '20GB', '16GB', '10GB', '6GB', '4GB'],\n",
        "    '13B': ['240GB', '120GB', '32GB', '40GB', '32GB', '20GB', '12GB', '8GB'],\n",
        "    '30B': ['600GB', '300GB', '64GB', '80GB', '64GB', '40GB', '24GB', '16GB'],\n",
        "    '70': ['1200GB', '600GB', '160GB', '200GB', '160GB', '80GB', '48GB', '24GB'],\n",
        "    '8x7': ['900GB', '400GB', '120GB', '160GB', '120GB', '60GB', '30GB', '18GB'],\n",
        "\n",
        "}\n",
        "\n",
        "df = pd.DataFrame(data)\n",
        "\n",
        "print(df)"
      ],
      "metadata": {
        "id": "MENDlkX7Vygo",
        "outputId": "a0e24f78-44a5-4fc7-90d2-0b969c8a63e3",
        "colab": {
          "base_uri": "https://localhost:8080/"
        }
      },
      "execution_count": 4,
      "outputs": [
        {
          "output_type": "stream",
          "name": "stdout",
          "text": [
            "   Method Bits     7B    13B    30B      70    8x7\n",
            "0    Full  AMP  120GB  240GB  600GB  1200GB  900GB\n",
            "1    Full   16   60GB  120GB  300GB   600GB  400GB\n",
            "2  GaLore   16   16GB   32GB   64GB   160GB  120GB\n",
            "3  Freeze   16   20GB   40GB   80GB   200GB  160GB\n",
            "4   LoRA+   16   16GB   32GB   64GB   160GB  120GB\n",
            "5   QLoRA    8   10GB   20GB   40GB    80GB   60GB\n",
            "6   QLoRA    4    6GB   12GB   24GB    48GB   30GB\n",
            "7   QLoRA    2    4GB    8GB   16GB    24GB   18GB\n"
          ]
        }
      ]
    },
    {
      "cell_type": "code",
      "execution_count": null,
      "metadata": {
        "colab": {
          "base_uri": "https://localhost:8080/"
        },
        "id": "YneOI66-owcU",
        "outputId": "636ff300-ac1f-4d18-8211-64081770cbdb"
      },
      "outputs": [
        {
          "output_type": "stream",
          "name": "stdout",
          "text": [
            "    Modèle   RAM  VRAM   HD    U/H  €/H(500U)  €/H(100U)\n",
            "0      CPU  12.7   N/A  225   0.07   0.007098    0.00777\n",
            "1     CPU+    51   N/A  226   0.13   0.013182    0.01443\n",
            "2     A100    85    40  201  11.77   1.193478    1.30647\n",
            "3     V100    12    16  201   4.82   0.488748    0.53502\n",
            "4    V100+    51    16  201   4.91   0.497874    0.54501\n",
            "5       L4    62  22.5  201   4.82   0.488748    0.53502\n",
            "6       T4    12    15  201   1.76   0.178464    0.19536\n",
            "7      T4+    51    15  201   1.84   0.186576    0.20424\n",
            "8      TPU    12   N/A  225   1.76   0.178464    0.19536\n",
            "9     TPU+    22   N/A  225   2.18   0.221052    0.24198\n",
            "10  TPU v2   N/A   N/A  N/A   1.76   0.178464    0.19536\n"
          ]
        }
      ],
      "source": [
        "import pandas as pd\n",
        "\n",
        "data = {\n",
        "    'Modèle': ['CPU', 'CPU+', 'A100', 'V100', 'V100+', 'L4', 'T4', 'T4+', 'TPU', 'TPU+', 'TPU v2'],\n",
        "    'RAM': [12.7, 51, 85, 12, 51, 62, 12, 51, 12, 22, 'N/A'],\n",
        "    'VRAM': ['N/A', 'N/A', 40, 16, 16, 22.5, 15, 15, 'N/A', 'N/A', 'N/A'],\n",
        "    'HD': [225, 226, 201, 201, 201, 201, 201, 201, 225, 225, 'N/A'],\n",
        "    'U/H': [0.07, 0.13, 11.77, 4.82, 4.91, 4.82, 1.76, 1.84, 1.76, 2.18, 1.76]\n",
        "}\n",
        "\n",
        "df = pd.DataFrame(data)\n",
        "\n",
        "df['€/H(500U)'] = df['U/H'] * (50.70/500)\n",
        "df['€/H(100U)'] = df['U/H'] * (11.10/100)\n",
        "\n",
        "\n",
        "print(df)\n"
      ]
    },
    {
      "cell_type": "markdown",
      "source": [],
      "metadata": {
        "id": "lzRwZawqpLOL"
      }
    },
    {
      "cell_type": "code",
      "source": [],
      "metadata": {
        "id": "AyORS8PVssyU"
      },
      "execution_count": null,
      "outputs": []
    }
  ]
}