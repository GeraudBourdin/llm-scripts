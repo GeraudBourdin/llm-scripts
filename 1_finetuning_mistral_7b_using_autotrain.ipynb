{
  "nbformat": 4,
  "nbformat_minor": 0,
  "metadata": {
    "colab": {
      "provenance": [],
      "gpuType": "T4",
      "include_colab_link": true
    },
    "kernelspec": {
      "name": "python3",
      "display_name": "Python 3"
    },
    "language_info": {
      "name": "python"
    },
    "accelerator": "GPU",
    "widgets": {
      "application/vnd.jupyter.widget-state+json": {
        "fcb820b4909e413e98603c195818e0d4": {
          "model_module": "@jupyter-widgets/controls",
          "model_name": "HBoxModel",
          "model_module_version": "1.5.0",
          "state": {
            "_dom_classes": [],
            "_model_module": "@jupyter-widgets/controls",
            "_model_module_version": "1.5.0",
            "_model_name": "HBoxModel",
            "_view_count": null,
            "_view_module": "@jupyter-widgets/controls",
            "_view_module_version": "1.5.0",
            "_view_name": "HBoxView",
            "box_style": "",
            "children": [
              "IPY_MODEL_6b0a6739adbe41e8a5c34f8a8868b977",
              "IPY_MODEL_0b9514defba84991b4f36485b7e630fb",
              "IPY_MODEL_6a7973751e4d4ca08ef4c53c97103868"
            ],
            "layout": "IPY_MODEL_0deb9610aaff49c488b6e89139fe31df"
          }
        },
        "6b0a6739adbe41e8a5c34f8a8868b977": {
          "model_module": "@jupyter-widgets/controls",
          "model_name": "HTMLModel",
          "model_module_version": "1.5.0",
          "state": {
            "_dom_classes": [],
            "_model_module": "@jupyter-widgets/controls",
            "_model_module_version": "1.5.0",
            "_model_name": "HTMLModel",
            "_view_count": null,
            "_view_module": "@jupyter-widgets/controls",
            "_view_module_version": "1.5.0",
            "_view_name": "HTMLView",
            "description": "",
            "description_tooltip": null,
            "layout": "IPY_MODEL_89f149a2080f4721a483ff535b6e6602",
            "placeholder": "​",
            "style": "IPY_MODEL_4f62c475347944d6b18ce79d125386fc",
            "value": "Loading checkpoint shards: 100%"
          }
        },
        "0b9514defba84991b4f36485b7e630fb": {
          "model_module": "@jupyter-widgets/controls",
          "model_name": "FloatProgressModel",
          "model_module_version": "1.5.0",
          "state": {
            "_dom_classes": [],
            "_model_module": "@jupyter-widgets/controls",
            "_model_module_version": "1.5.0",
            "_model_name": "FloatProgressModel",
            "_view_count": null,
            "_view_module": "@jupyter-widgets/controls",
            "_view_module_version": "1.5.0",
            "_view_name": "ProgressView",
            "bar_style": "success",
            "description": "",
            "description_tooltip": null,
            "layout": "IPY_MODEL_996db8f083904106913a3e4b4d6627c9",
            "max": 11,
            "min": 0,
            "orientation": "horizontal",
            "style": "IPY_MODEL_f6b2ea40822a41899aae6768c5a34c73",
            "value": 11
          }
        },
        "6a7973751e4d4ca08ef4c53c97103868": {
          "model_module": "@jupyter-widgets/controls",
          "model_name": "HTMLModel",
          "model_module_version": "1.5.0",
          "state": {
            "_dom_classes": [],
            "_model_module": "@jupyter-widgets/controls",
            "_model_module_version": "1.5.0",
            "_model_name": "HTMLModel",
            "_view_count": null,
            "_view_module": "@jupyter-widgets/controls",
            "_view_module_version": "1.5.0",
            "_view_name": "HTMLView",
            "description": "",
            "description_tooltip": null,
            "layout": "IPY_MODEL_4523834103534e2b9fb804bdb5265a1e",
            "placeholder": "​",
            "style": "IPY_MODEL_3912010e0694457f9f777c1bbb996967",
            "value": " 11/11 [01:22&lt;00:00,  5.56s/it]"
          }
        },
        "0deb9610aaff49c488b6e89139fe31df": {
          "model_module": "@jupyter-widgets/base",
          "model_name": "LayoutModel",
          "model_module_version": "1.2.0",
          "state": {
            "_model_module": "@jupyter-widgets/base",
            "_model_module_version": "1.2.0",
            "_model_name": "LayoutModel",
            "_view_count": null,
            "_view_module": "@jupyter-widgets/base",
            "_view_module_version": "1.2.0",
            "_view_name": "LayoutView",
            "align_content": null,
            "align_items": null,
            "align_self": null,
            "border": null,
            "bottom": null,
            "display": null,
            "flex": null,
            "flex_flow": null,
            "grid_area": null,
            "grid_auto_columns": null,
            "grid_auto_flow": null,
            "grid_auto_rows": null,
            "grid_column": null,
            "grid_gap": null,
            "grid_row": null,
            "grid_template_areas": null,
            "grid_template_columns": null,
            "grid_template_rows": null,
            "height": null,
            "justify_content": null,
            "justify_items": null,
            "left": null,
            "margin": null,
            "max_height": null,
            "max_width": null,
            "min_height": null,
            "min_width": null,
            "object_fit": null,
            "object_position": null,
            "order": null,
            "overflow": null,
            "overflow_x": null,
            "overflow_y": null,
            "padding": null,
            "right": null,
            "top": null,
            "visibility": null,
            "width": null
          }
        },
        "89f149a2080f4721a483ff535b6e6602": {
          "model_module": "@jupyter-widgets/base",
          "model_name": "LayoutModel",
          "model_module_version": "1.2.0",
          "state": {
            "_model_module": "@jupyter-widgets/base",
            "_model_module_version": "1.2.0",
            "_model_name": "LayoutModel",
            "_view_count": null,
            "_view_module": "@jupyter-widgets/base",
            "_view_module_version": "1.2.0",
            "_view_name": "LayoutView",
            "align_content": null,
            "align_items": null,
            "align_self": null,
            "border": null,
            "bottom": null,
            "display": null,
            "flex": null,
            "flex_flow": null,
            "grid_area": null,
            "grid_auto_columns": null,
            "grid_auto_flow": null,
            "grid_auto_rows": null,
            "grid_column": null,
            "grid_gap": null,
            "grid_row": null,
            "grid_template_areas": null,
            "grid_template_columns": null,
            "grid_template_rows": null,
            "height": null,
            "justify_content": null,
            "justify_items": null,
            "left": null,
            "margin": null,
            "max_height": null,
            "max_width": null,
            "min_height": null,
            "min_width": null,
            "object_fit": null,
            "object_position": null,
            "order": null,
            "overflow": null,
            "overflow_x": null,
            "overflow_y": null,
            "padding": null,
            "right": null,
            "top": null,
            "visibility": null,
            "width": null
          }
        },
        "4f62c475347944d6b18ce79d125386fc": {
          "model_module": "@jupyter-widgets/controls",
          "model_name": "DescriptionStyleModel",
          "model_module_version": "1.5.0",
          "state": {
            "_model_module": "@jupyter-widgets/controls",
            "_model_module_version": "1.5.0",
            "_model_name": "DescriptionStyleModel",
            "_view_count": null,
            "_view_module": "@jupyter-widgets/base",
            "_view_module_version": "1.2.0",
            "_view_name": "StyleView",
            "description_width": ""
          }
        },
        "996db8f083904106913a3e4b4d6627c9": {
          "model_module": "@jupyter-widgets/base",
          "model_name": "LayoutModel",
          "model_module_version": "1.2.0",
          "state": {
            "_model_module": "@jupyter-widgets/base",
            "_model_module_version": "1.2.0",
            "_model_name": "LayoutModel",
            "_view_count": null,
            "_view_module": "@jupyter-widgets/base",
            "_view_module_version": "1.2.0",
            "_view_name": "LayoutView",
            "align_content": null,
            "align_items": null,
            "align_self": null,
            "border": null,
            "bottom": null,
            "display": null,
            "flex": null,
            "flex_flow": null,
            "grid_area": null,
            "grid_auto_columns": null,
            "grid_auto_flow": null,
            "grid_auto_rows": null,
            "grid_column": null,
            "grid_gap": null,
            "grid_row": null,
            "grid_template_areas": null,
            "grid_template_columns": null,
            "grid_template_rows": null,
            "height": null,
            "justify_content": null,
            "justify_items": null,
            "left": null,
            "margin": null,
            "max_height": null,
            "max_width": null,
            "min_height": null,
            "min_width": null,
            "object_fit": null,
            "object_position": null,
            "order": null,
            "overflow": null,
            "overflow_x": null,
            "overflow_y": null,
            "padding": null,
            "right": null,
            "top": null,
            "visibility": null,
            "width": null
          }
        },
        "f6b2ea40822a41899aae6768c5a34c73": {
          "model_module": "@jupyter-widgets/controls",
          "model_name": "ProgressStyleModel",
          "model_module_version": "1.5.0",
          "state": {
            "_model_module": "@jupyter-widgets/controls",
            "_model_module_version": "1.5.0",
            "_model_name": "ProgressStyleModel",
            "_view_count": null,
            "_view_module": "@jupyter-widgets/base",
            "_view_module_version": "1.2.0",
            "_view_name": "StyleView",
            "bar_color": null,
            "description_width": ""
          }
        },
        "4523834103534e2b9fb804bdb5265a1e": {
          "model_module": "@jupyter-widgets/base",
          "model_name": "LayoutModel",
          "model_module_version": "1.2.0",
          "state": {
            "_model_module": "@jupyter-widgets/base",
            "_model_module_version": "1.2.0",
            "_model_name": "LayoutModel",
            "_view_count": null,
            "_view_module": "@jupyter-widgets/base",
            "_view_module_version": "1.2.0",
            "_view_name": "LayoutView",
            "align_content": null,
            "align_items": null,
            "align_self": null,
            "border": null,
            "bottom": null,
            "display": null,
            "flex": null,
            "flex_flow": null,
            "grid_area": null,
            "grid_auto_columns": null,
            "grid_auto_flow": null,
            "grid_auto_rows": null,
            "grid_column": null,
            "grid_gap": null,
            "grid_row": null,
            "grid_template_areas": null,
            "grid_template_columns": null,
            "grid_template_rows": null,
            "height": null,
            "justify_content": null,
            "justify_items": null,
            "left": null,
            "margin": null,
            "max_height": null,
            "max_width": null,
            "min_height": null,
            "min_width": null,
            "object_fit": null,
            "object_position": null,
            "order": null,
            "overflow": null,
            "overflow_x": null,
            "overflow_y": null,
            "padding": null,
            "right": null,
            "top": null,
            "visibility": null,
            "width": null
          }
        },
        "3912010e0694457f9f777c1bbb996967": {
          "model_module": "@jupyter-widgets/controls",
          "model_name": "DescriptionStyleModel",
          "model_module_version": "1.5.0",
          "state": {
            "_model_module": "@jupyter-widgets/controls",
            "_model_module_version": "1.5.0",
            "_model_name": "DescriptionStyleModel",
            "_view_count": null,
            "_view_module": "@jupyter-widgets/base",
            "_view_module_version": "1.2.0",
            "_view_name": "StyleView",
            "description_width": ""
          }
        },
        "087a0ba7423347f68e5a6aa03df93b9e": {
          "model_module": "@jupyter-widgets/controls",
          "model_name": "TextModel",
          "model_module_version": "1.5.0",
          "state": {
            "_dom_classes": [],
            "_model_module": "@jupyter-widgets/controls",
            "_model_module_version": "1.5.0",
            "_model_name": "TextModel",
            "_view_count": null,
            "_view_module": "@jupyter-widgets/controls",
            "_view_module_version": "1.5.0",
            "_view_name": "TextView",
            "continuous_update": true,
            "description": "Dépôt:",
            "description_tooltip": null,
            "disabled": false,
            "layout": "IPY_MODEL_ef5d44b38bc84755ad52c30f02c37104",
            "placeholder": "Entrez le nom du dépôt",
            "style": "IPY_MODEL_616e2976f31d43158cb10d856846e833",
            "value": "Bourdin/dataset"
          }
        },
        "ef5d44b38bc84755ad52c30f02c37104": {
          "model_module": "@jupyter-widgets/base",
          "model_name": "LayoutModel",
          "model_module_version": "1.2.0",
          "state": {
            "_model_module": "@jupyter-widgets/base",
            "_model_module_version": "1.2.0",
            "_model_name": "LayoutModel",
            "_view_count": null,
            "_view_module": "@jupyter-widgets/base",
            "_view_module_version": "1.2.0",
            "_view_name": "LayoutView",
            "align_content": null,
            "align_items": null,
            "align_self": null,
            "border": null,
            "bottom": null,
            "display": null,
            "flex": null,
            "flex_flow": null,
            "grid_area": null,
            "grid_auto_columns": null,
            "grid_auto_flow": null,
            "grid_auto_rows": null,
            "grid_column": null,
            "grid_gap": null,
            "grid_row": null,
            "grid_template_areas": null,
            "grid_template_columns": null,
            "grid_template_rows": null,
            "height": null,
            "justify_content": null,
            "justify_items": null,
            "left": null,
            "margin": null,
            "max_height": null,
            "max_width": null,
            "min_height": null,
            "min_width": null,
            "object_fit": null,
            "object_position": null,
            "order": null,
            "overflow": null,
            "overflow_x": null,
            "overflow_y": null,
            "padding": null,
            "right": null,
            "top": null,
            "visibility": null,
            "width": null
          }
        },
        "616e2976f31d43158cb10d856846e833": {
          "model_module": "@jupyter-widgets/controls",
          "model_name": "DescriptionStyleModel",
          "model_module_version": "1.5.0",
          "state": {
            "_model_module": "@jupyter-widgets/controls",
            "_model_module_version": "1.5.0",
            "_model_name": "DescriptionStyleModel",
            "_view_count": null,
            "_view_module": "@jupyter-widgets/base",
            "_view_module_version": "1.2.0",
            "_view_name": "StyleView",
            "description_width": ""
          }
        },
        "9b75342f07bf4001a3cd9231b3cddcfc": {
          "model_module": "@jupyter-widgets/controls",
          "model_name": "TextModel",
          "model_module_version": "1.5.0",
          "state": {
            "_dom_classes": [],
            "_model_module": "@jupyter-widgets/controls",
            "_model_module_version": "1.5.0",
            "_model_name": "TextModel",
            "_view_count": null,
            "_view_module": "@jupyter-widgets/controls",
            "_view_module_version": "1.5.0",
            "_view_name": "TextView",
            "continuous_update": true,
            "description": "Fichier:",
            "description_tooltip": null,
            "disabled": false,
            "layout": "IPY_MODEL_b78f7aef326c44c3b852c9f0256010cf",
            "placeholder": "Entrez le nom du fichier",
            "style": "IPY_MODEL_95cd6dad32b74a7cb0777f984b7909f0",
            "value": "train_hyundai.csv"
          }
        },
        "b78f7aef326c44c3b852c9f0256010cf": {
          "model_module": "@jupyter-widgets/base",
          "model_name": "LayoutModel",
          "model_module_version": "1.2.0",
          "state": {
            "_model_module": "@jupyter-widgets/base",
            "_model_module_version": "1.2.0",
            "_model_name": "LayoutModel",
            "_view_count": null,
            "_view_module": "@jupyter-widgets/base",
            "_view_module_version": "1.2.0",
            "_view_name": "LayoutView",
            "align_content": null,
            "align_items": null,
            "align_self": null,
            "border": null,
            "bottom": null,
            "display": null,
            "flex": null,
            "flex_flow": null,
            "grid_area": null,
            "grid_auto_columns": null,
            "grid_auto_flow": null,
            "grid_auto_rows": null,
            "grid_column": null,
            "grid_gap": null,
            "grid_row": null,
            "grid_template_areas": null,
            "grid_template_columns": null,
            "grid_template_rows": null,
            "height": null,
            "justify_content": null,
            "justify_items": null,
            "left": null,
            "margin": null,
            "max_height": null,
            "max_width": null,
            "min_height": null,
            "min_width": null,
            "object_fit": null,
            "object_position": null,
            "order": null,
            "overflow": null,
            "overflow_x": null,
            "overflow_y": null,
            "padding": null,
            "right": null,
            "top": null,
            "visibility": null,
            "width": null
          }
        },
        "95cd6dad32b74a7cb0777f984b7909f0": {
          "model_module": "@jupyter-widgets/controls",
          "model_name": "DescriptionStyleModel",
          "model_module_version": "1.5.0",
          "state": {
            "_model_module": "@jupyter-widgets/controls",
            "_model_module_version": "1.5.0",
            "_model_name": "DescriptionStyleModel",
            "_view_count": null,
            "_view_module": "@jupyter-widgets/base",
            "_view_module_version": "1.2.0",
            "_view_name": "StyleView",
            "description_width": ""
          }
        },
        "49385c08fd644914a25a05df13cf19de": {
          "model_module": "@jupyter-widgets/controls",
          "model_name": "ButtonModel",
          "model_module_version": "1.5.0",
          "state": {
            "_dom_classes": [],
            "_model_module": "@jupyter-widgets/controls",
            "_model_module_version": "1.5.0",
            "_model_name": "ButtonModel",
            "_view_count": null,
            "_view_module": "@jupyter-widgets/controls",
            "_view_module_version": "1.5.0",
            "_view_name": "ButtonView",
            "button_style": "",
            "description": "Télécharger",
            "disabled": false,
            "icon": "",
            "layout": "IPY_MODEL_cdd12c076bee4e7e86b0b11c6bf6e9d1",
            "style": "IPY_MODEL_eba1a2943b4545a8b04173a2ebfd2d93",
            "tooltip": ""
          }
        },
        "cdd12c076bee4e7e86b0b11c6bf6e9d1": {
          "model_module": "@jupyter-widgets/base",
          "model_name": "LayoutModel",
          "model_module_version": "1.2.0",
          "state": {
            "_model_module": "@jupyter-widgets/base",
            "_model_module_version": "1.2.0",
            "_model_name": "LayoutModel",
            "_view_count": null,
            "_view_module": "@jupyter-widgets/base",
            "_view_module_version": "1.2.0",
            "_view_name": "LayoutView",
            "align_content": null,
            "align_items": null,
            "align_self": null,
            "border": null,
            "bottom": null,
            "display": null,
            "flex": null,
            "flex_flow": null,
            "grid_area": null,
            "grid_auto_columns": null,
            "grid_auto_flow": null,
            "grid_auto_rows": null,
            "grid_column": null,
            "grid_gap": null,
            "grid_row": null,
            "grid_template_areas": null,
            "grid_template_columns": null,
            "grid_template_rows": null,
            "height": null,
            "justify_content": null,
            "justify_items": null,
            "left": null,
            "margin": null,
            "max_height": null,
            "max_width": null,
            "min_height": null,
            "min_width": null,
            "object_fit": null,
            "object_position": null,
            "order": null,
            "overflow": null,
            "overflow_x": null,
            "overflow_y": null,
            "padding": null,
            "right": null,
            "top": null,
            "visibility": null,
            "width": null
          }
        },
        "eba1a2943b4545a8b04173a2ebfd2d93": {
          "model_module": "@jupyter-widgets/controls",
          "model_name": "ButtonStyleModel",
          "model_module_version": "1.5.0",
          "state": {
            "_model_module": "@jupyter-widgets/controls",
            "_model_module_version": "1.5.0",
            "_model_name": "ButtonStyleModel",
            "_view_count": null,
            "_view_module": "@jupyter-widgets/base",
            "_view_module_version": "1.2.0",
            "_view_name": "StyleView",
            "button_color": null,
            "font_weight": ""
          }
        }
      }
    }
  },
  "cells": [
    {
      "cell_type": "markdown",
      "metadata": {
        "id": "view-in-github",
        "colab_type": "text"
      },
      "source": [
        "<a href=\"https://colab.research.google.com/github/GeraudBourdin/llm-scripts/blob/main/1_finetuning_mistral_7b_using_autotrain.ipynb\" target=\"_parent\"><img src=\"https://colab.research.google.com/assets/colab-badge.svg\" alt=\"Open In Colab\"/></a>"
      ]
    },
    {
      "cell_type": "markdown",
      "source": [
        "## Fine-tuning Mistral 7b with AutoTrain"
      ],
      "metadata": {
        "id": "7oRhTab-3Isg"
      }
    },
    {
      "cell_type": "markdown",
      "source": [
        "**Mise en place**\n",
        "\n",
        "Un GPU est necessaire pour le fintune de Llama ou Mistral:\n",
        "\n",
        "- Aller dans `Runtime` (En haut à droite de Colab).\n",
        "- Selectionner `Change Runtime Type`.\n",
        "- Choisir un environnement de type `T4 GPU` (ou supérieur).\n",
        "- Aller dans le menu latéral gauche de la page Collab.\n",
        "- Ajouter un env: HF_TOKEN et mettez-y votre token \"write\" d'accès à hugging face.\n",
        "- Ajoutez DATASET_REPO le nom de votre dépot huggingface (doit être de type dataset)\n",
        "- Ajouter DATASET_FILE le nom du fichier situé dans votre dépot (DATASET_REPO/monfichier.csv)"
      ],
      "metadata": {
        "id": "yhDioAdc3ML5"
      }
    },
    {
      "cell_type": "markdown",
      "source": [
        "### Step 1: installation des dépendances"
      ],
      "metadata": {
        "id": "IJZt3QI73kWF"
      }
    },
    {
      "cell_type": "code",
      "source": [
        "!pip install pandas autotrain-advanced -q"
      ],
      "metadata": {
        "id": "UgvqeBz_3XvO"
      },
      "execution_count": 38,
      "outputs": []
    },
    {
      "cell_type": "code",
      "execution_count": 39,
      "metadata": {
        "id": "kwStofw4257S",
        "outputId": "e6f401b1-e3d2-4e90-cbde-8037ede75e2c",
        "colab": {
          "base_uri": "https://localhost:8080/"
        }
      },
      "outputs": [
        {
          "output_type": "stream",
          "name": "stdout",
          "text": [
            "> \u001b[1mINFO    Installing latest xformers\u001b[0m\n",
            "> \u001b[1mINFO    Successfully installed latest xformers\u001b[0m\n",
            "> \u001b[1mINFO    Installing latest PyTorch\u001b[0m\n",
            "> \u001b[1mINFO    Successfully installed latest PyTorch\u001b[0m\n"
          ]
        }
      ],
      "source": [
        "!autotrain setup --update-torch"
      ]
    },
    {
      "cell_type": "code",
      "source": [
        "!pip install huggingface_hub ipywidgets"
      ],
      "metadata": {
        "id": "pXusr_FsnEu2"
      },
      "execution_count": null,
      "outputs": []
    },
    {
      "cell_type": "markdown",
      "source": [
        "## Step 2: Connection à votre dépot huggingface pour uploader le model\n",
        "### Connection Hugging Face\n",
        "Pour vous assurer que le modèle peut être téléchargé et être utilisé pour l'inférence, il est nécessaire de se connecter au hub Hugging Face.\n",
        "- Lancez la commande suivant et renseignez votre `token`. Votre token doit avoir la permission en écriture."
      ],
      "metadata": {
        "id": "H-zXccJMZEx2"
      }
    },
    {
      "cell_type": "code",
      "source": [
        "from huggingface_hub import notebook_login\n",
        "notebook_login()"
      ],
      "metadata": {
        "id": "VzMLmLP86Ub-"
      },
      "execution_count": null,
      "outputs": []
    },
    {
      "cell_type": "markdown",
      "source": [
        "## Step 3: Récupération de votre dataset\n"
      ],
      "metadata": {
        "id": "qY932JBNZmtA"
      }
    },
    {
      "cell_type": "code",
      "source": [
        "# @title dépot du dataset\n",
        "\n",
        "# Importation des bibliothèques\n",
        "from huggingface_hub import hf_hub_download\n",
        "import ipywidgets as widgets\n",
        "from IPython.display import display\n",
        "import shutil\n",
        "import os\n",
        "from google.colab import userdata\n",
        "\n",
        "\n",
        "\n",
        "# Création de widgets pour la saisie de l'utilisateur\n",
        "repo_input = widgets.Text(\n",
        "    value=userdata.get('DATASET_REPO'),\n",
        "    placeholder='Entrez le nom du dépôt',\n",
        "    description='Dépôt:',\n",
        "    disabled=False\n",
        ")\n",
        "\n",
        "file_input = widgets.Text(\n",
        "    value=userdata.get('DATASET_FILE'),\n",
        "    placeholder='Entrez le nom du fichier',\n",
        "    description='Fichier:',\n",
        "    disabled=False\n",
        ")\n",
        "\n",
        "button = widgets.Button(description=\"Télécharger\")\n",
        "\n",
        "# Fonction à exécuter lors du clic sur le bouton\n",
        "def on_button_clicked(b):\n",
        "    repo_id = repo_input.value\n",
        "    filename = file_input.value\n",
        "    file_path = hf_hub_download(repo_id=repo_id, filename=filename, repo_type=\"dataset\", local_dir_use_symlinks=False, local_dir='./')\n",
        "    print(f\"Le fichier a été téléchargé à l'emplacement : {file_path}\")\n",
        "    # Déplacer et renommer le fichier\n",
        "    new_file_path = 'train.csv'\n",
        "    # Si le chemin est un lien symbolique -> chemin réel du fichier\n",
        "    if os.path.islink(file_path):\n",
        "        real_path = os.readlink(file_path)\n",
        "    else:\n",
        "        real_path = file_path\n",
        "    print(f\" {real_path}\")\n",
        "    shutil.move(real_path, new_file_path)\n",
        "    print(f\"Le fichier a été déplacé à l'emplacement : {new_file_path}\")\n",
        "\n",
        "button.on_click(on_button_clicked)\n",
        "\n",
        "# Affichage des widgets\n",
        "display(repo_input, file_input, button)\n"
      ],
      "metadata": {
        "colab": {
          "base_uri": "https://localhost:8080/",
          "height": 163,
          "referenced_widgets": [
            "087a0ba7423347f68e5a6aa03df93b9e",
            "ef5d44b38bc84755ad52c30f02c37104",
            "616e2976f31d43158cb10d856846e833",
            "9b75342f07bf4001a3cd9231b3cddcfc",
            "b78f7aef326c44c3b852c9f0256010cf",
            "95cd6dad32b74a7cb0777f984b7909f0",
            "49385c08fd644914a25a05df13cf19de",
            "cdd12c076bee4e7e86b0b11c6bf6e9d1",
            "eba1a2943b4545a8b04173a2ebfd2d93"
          ]
        },
        "id": "fcz-C-wThm2_",
        "outputId": "8c119821-0437-4bd6-f862-6c6d1612e4b5"
      },
      "execution_count": 48,
      "outputs": [
        {
          "output_type": "display_data",
          "data": {
            "text/plain": [
              "Text(value='Bourdin/dataset', description='Dépôt:', placeholder='Entrez le nom du dépôt')"
            ],
            "application/vnd.jupyter.widget-view+json": {
              "version_major": 2,
              "version_minor": 0,
              "model_id": "087a0ba7423347f68e5a6aa03df93b9e"
            }
          },
          "metadata": {}
        },
        {
          "output_type": "display_data",
          "data": {
            "text/plain": [
              "Text(value='train_hyundai.csv', description='Fichier:', placeholder='Entrez le nom du fichier')"
            ],
            "application/vnd.jupyter.widget-view+json": {
              "version_major": 2,
              "version_minor": 0,
              "model_id": "9b75342f07bf4001a3cd9231b3cddcfc"
            }
          },
          "metadata": {}
        },
        {
          "output_type": "display_data",
          "data": {
            "text/plain": [
              "Button(description='Télécharger', style=ButtonStyle())"
            ],
            "application/vnd.jupyter.widget-view+json": {
              "version_major": 2,
              "version_minor": 0,
              "model_id": "49385c08fd644914a25a05df13cf19de"
            }
          },
          "metadata": {}
        },
        {
          "output_type": "stream",
          "name": "stdout",
          "text": [
            "Le fichier a été téléchargé à l'emplacement : ./train_hyundai.csv\n",
            " ./train_hyundai.csv\n",
            "Le fichier a été déplacé à l'emplacement : train.csv\n"
          ]
        }
      ]
    },
    {
      "cell_type": "code",
      "source": [
        "%ls -la\n",
        "%cat train.csv\n"
      ],
      "metadata": {
        "id": "vQOo8mc_rO7X",
        "outputId": "0ca1f599-ec3b-4a3f-9342-c60993b886d3",
        "colab": {
          "base_uri": "https://localhost:8080/"
        }
      },
      "execution_count": 50,
      "outputs": [
        {
          "output_type": "stream",
          "name": "stdout",
          "text": [
            "total 72\n",
            "drwxr-xr-x 1 root root  4096 Jan 23 14:52 \u001b[0m\u001b[01;34m.\u001b[0m/\n",
            "drwxr-xr-x 1 root root  4096 Jan 23 13:51 \u001b[01;34m..\u001b[0m/\n",
            "drwxr-xr-x 4 root root  4096 Jan 19 14:19 \u001b[01;34m.config\u001b[0m/\n",
            "drwxr-xr-x 1 root root  4096 Jan 19 14:20 \u001b[01;34msample_data\u001b[0m/\n",
            "-rw-r--r-- 1 root root 56103 Jan 23 14:52 train.csv\n",
            "instruction,input,output,text\n",
            "\"Je veux une liste des voitures les plus puissantes disponibles.\",,\"Les modèles de voitures les plus puissantes disponibles incluent l'Audi RS6 Avant, la Porsche 911, et la Tesla Model S.\",\"Below is an instruction that describes a task. Write a response that appropriately completes the request.### Instruction:\n",
            "Je veux une liste des voitures les plus puissantes disponibles.\n",
            "### Response:\n",
            "Les modèles de voitures les plus puissantes disponibles incluent l&#039;Audi RS6 Avant, la Porsche 911, et la Tesla Model S.\"\n",
            "\"Quelles sont les voitures les plus classes en stock ?\",,\"Pour une voiture de classe, je vous recommande la Mercedes Classe S, la Jaguar XF, et l'Audi A8.\",\"Below is an instruction that describes a task. Write a response that appropriately completes the request.### Instruction:\n",
            "Quelles sont les voitures les plus classes en stock ?\n",
            "### Response:\n",
            "Pour une voiture de classe, je vous recommande la Mercedes Classe S, la Jaguar XF, et l&#039;Audi A8.\"\n",
            "\"Je cherche une voiture familiale, quelles sont mes options ?\",,\"Les voitures familiales dans notre inventaire incluent la Peugeot 5008, la Citroën C4 Picasso, et la Volkswagen Touran.\",\"Below is an instruction that describes a task. Write a response that appropriately completes the request.### Instruction:\n",
            "Je cherche une voiture familiale, quelles sont mes options ?\n",
            "### Response:\n",
            "Les voitures familiales dans notre inventaire incluent la Peugeot 5008, la Citroën C4 Picasso, et la Volkswagen Touran.\"\n",
            "\"Montre-moi des voitures écologiques.\",,\"Nos véhicules écologiques comprennent la Nissan Leaf, la BMW i3, et la Tesla Model 3.\",\"Below is an instruction that describes a task. Write a response that appropriately completes the request.### Instruction:\n",
            "Montre-moi des voitures écologiques.\n",
            "### Response:\n",
            "Nos véhicules écologiques comprennent la Nissan Leaf, la BMW i3, et la Tesla Model 3.\"\n",
            "\"Je veux une voiture sportive, que pouvez-vous me proposer ?\",,\"Nous avons des voitures sportives telles que la Alpine A110, la BMW Serie 4 Coupé, et l'Audi TT.\",\"Below is an instruction that describes a task. Write a response that appropriately completes the request.### Instruction:\n",
            "Je veux une voiture sportive, que pouvez-vous me proposer ?\n",
            "### Response:\n",
            "Nous avons des voitures sportives telles que la Alpine A110, la BMW Serie 4 Coupé, et l&#039;Audi TT.\"\n",
            "\"Quels SUVs avez-vous actuellement ?\",,\"Dans notre gamme de SUV, vous trouverez le Volvo XC90, l'Audi Q7, et le BMW X5.\",\"Below is an instruction that describes a task. Write a response that appropriately completes the request.### Instruction:\n",
            "Quels SUVs avez-vous actuellement ?\n",
            "### Response:\n",
            "Dans notre gamme de SUV, vous trouverez le Volvo XC90, l&#039;Audi Q7, et le BMW X5.\"\n",
            "\"Quelles sont les options pour des véhicules haute performance ?\",,\"Les véhicules haute performance disponibles incluent l'Audi RS3, l'Audi TT RS, la BMW M3, la Porsche 911, la Tesla Model S P100D, et la Mercedes-Benz Classe C AMG.\",\"Below is an instruction that describes a task. Write a response that appropriately completes the request.### Instruction:\n",
            "Quelles sont les options pour des véhicules haute performance ?\n",
            "### Response:\n",
            "Les véhicules haute performance disponibles incluent l&#039;Audi RS3, l&#039;Audi TT RS, la BMW M3, la Porsche 911, la Tesla Model S P100D, et la Mercedes-Benz Classe C AMG.\"\n",
            "\"Je recherche une voiture luxueuse, quelles sont les meilleures options ?\",,\"Pour le luxe, nous avons la Mercedes Classe S, l'Audi A8, la Jaguar XF, la BMW Série 7, la Lexus LS, et la Maserati Quattroporte.\",\"Below is an instruction that describes a task. Write a response that appropriately completes the request.### Instruction:\n",
            "Je recherche une voiture luxueuse, quelles sont les meilleures options ?\n",
            "### Response:\n",
            "Pour le luxe, nous avons la Mercedes Classe S, l&#039;Audi A8, la Jaguar XF, la BMW Série 7, la Lexus LS, et la Maserati Quattroporte.\"\n",
            "\"Je cherche une voiture économique et respectueuse de l'environnement, quelles sont les recommandations ?\",,\"Nos recommandations pour des véhicules économiques et écologiques comprennent la Toyota Prius, la Hyundai Ioniq, la Nissan Leaf, la Renault Zoe, et la Tesla Model 3.\",\"Below is an instruction that describes a task. Write a response that appropriately completes the request.### Instruction:\n",
            "Je cherche une voiture économique et respectueuse de l&#039;environnement, quelles sont les recommandations ?\n",
            "### Response:\n",
            "Nos recommandations pour des véhicules économiques et écologiques comprennent la Toyota Prius, la Hyundai Ioniq, la Nissan Leaf, la Renault Zoe, et la Tesla Model 3.\"\n",
            "\"Quelles voitures familiales offrez-vous avec de l'espace pour les bagages ?\",,\"Les voitures familiales avec un bon espace de bagage comprennent la Volkswagen Passat SW, la Peugeot 5008, la Citroën Grand C4 SpaceTourer, la Ford S-Max, et la Renault Espace.\",\"Below is an instruction that describes a task. Write a response that appropriately completes the request.### Instruction:\n",
            "Quelles voitures familiales offrez-vous avec de l&#039;espace pour les bagages ?\n",
            "### Response:\n",
            "Les voitures familiales avec un bon espace de bagage comprennent la Volkswagen Passat SW, la Peugeot 5008, la Citroën Grand C4 SpaceTourer, la Ford S-Max, et la Renault Espace.\"\n",
            "\"Je suis intéressé par les SUVs, quels modèles sont disponibles ?\",,\"Nous avons une variété de SUVs tels que le Peugeot 3008, le Volvo XC60, l'Audi Q5, le BMW X3, le Mercedes-Benz GLC, et le Land Rover Discovery Sport.\",\"Below is an instruction that describes a task. Write a response that appropriately completes the request.### Instruction:\n",
            "Je suis intéressé par les SUVs, quels modèles sont disponibles ?\n",
            "### Response:\n",
            "Nous avons une variété de SUVs tels que le Peugeot 3008, le Volvo XC60, l&#039;Audi Q5, le BMW X3, le Mercedes-Benz GLC, et le Land Rover Discovery Sport.\"\n",
            "\"Listez-moi des voitures sportives que vous avez en ce moment.\",,\"Les voitures sportives dans notre stock incluent l'Alpine A110, la BMW Serie 4 Coupé, l'Audi TT, la Porsche Cayman, la Ford Mustang, et la Mercedes-Benz Classe CLA.\",\"Below is an instruction that describes a task. Write a response that appropriately completes the request.### Instruction:\n",
            "Listez-moi des voitures sportives que vous avez en ce moment.\n",
            "### Response:\n",
            "Les voitures sportives dans notre stock incluent l&#039;Alpine A110, la BMW Serie 4 Coupé, l&#039;Audi TT, la Porsche Cayman, la Ford Mustang, et la Mercedes-Benz Classe CLA.\"\n",
            "\"Je voudrais voir vos modèles de voitures compactes, s'il vous plaît.\",,\"Nos modèles compacts disponibles sont la Volkswagen Golf, l'Audi A3, la Mercedes-Benz Classe A, la BMW Serie 1, la Peugeot 308, et la Renault Megane.\",\"Below is an instruction that describes a task. Write a response that appropriately completes the request.### Instruction:\n",
            "Je voudrais voir vos modèles de voitures compactes, s&#039;il vous plaît.\n",
            "### Response:\n",
            "Nos modèles compacts disponibles sont la Volkswagen Golf, l&#039;Audi A3, la Mercedes-Benz Classe A, la BMW Serie 1, la Peugeot 308, et la Renault Megane.\"\n",
            "\"Quels sont les modèles de voitures les mieux notés en termes de sécurité et de confort ?\",,\"Les modèles qui se distinguent par leur sécurité et leur confort incluent la Volvo XC60, équipée de systèmes avancés de sécurité, la Mercedes Classe E avec ses sièges ergonomiques, la Audi Q5 et ses nombreuses fonctionnalités de confort, la BMW X3 avec son package de sécurité intégrale, et la Lexus RX qui allie luxe et sécurité.\",\"Below is an instruction that describes a task. Write a response that appropriately completes the request.### Instruction:\n",
            "Quels sont les modèles de voitures les mieux notés en termes de sécurité et de confort ?\n",
            "### Response:\n",
            "Les modèles qui se distinguent par leur sécurité et leur confort incluent la Volvo XC60, équipée de systèmes avancés de sécurité, la Mercedes Classe E avec ses sièges ergonomiques, la Audi Q5 et ses nombreuses fonctionnalités de confort, la BMW X3 avec son package de sécurité intégrale, et la Lexus RX qui allie luxe et sécurité.\"\n",
            "\"Je suis à la recherche d'une voiture économique en carburant et compacte pour la ville. Que pouvez-vous me proposer ?\",,\"Pour une utilisation urbaine économique et compacte, je vous recommande la Toyota Yaris, connue pour son efficacité énergétique, la Honda Jazz avec son espace intérieur modulable, la Peugeot 208 pour son design compact et son économie de carburant, la Ford Fiesta qui est agréable à conduire et économique, et la Volkswagen Polo qui est à la fois compacte et efficiente.\",\"Below is an instruction that describes a task. Write a response that appropriately completes the request.### Instruction:\n",
            "Je suis à la recherche d&#039;une voiture économique en carburant et compacte pour la ville. Que pouvez-vous me proposer ?\n",
            "### Response:\n",
            "Pour une utilisation urbaine économique et compacte, je vous recommande la Toyota Yaris, connue pour son efficacité énergétique, la Honda Jazz avec son espace intérieur modulable, la Peugeot 208 pour son design compact et son économie de carburant, la Ford Fiesta qui est agréable à conduire et économique, et la Volkswagen Polo qui est à la fois compacte et efficiente.\"\n",
            "\"Quelles voitures allient puissance et design attrayant ?\",,\"Si vous recherchez puissance et design, les modèles suivants devraient vous intéresser : l'Alfa Romeo Giulia Quadrifoglio avec son style italien et ses performances élevées, la Porsche Panamera qui combine luxe et puissance, l'Audi S5 Sportback connue pour son design sportif et son moteur puissant, la Tesla Model S qui offre une esthétique moderne avec une accélération impressionnante, et la BMW Serie 8 qui est le symbole de l'élégance sportive.\",\"Below is an instruction that describes a task. Write a response that appropriately completes the request.### Instruction:\n",
            "Quelles voitures allient puissance et design attrayant ?\n",
            "### Response:\n",
            "Si vous recherchez puissance et design, les modèles suivants devraient vous intéresser : l&#039;Alfa Romeo Giulia Quadrifoglio avec son style italien et ses performances élevées, la Porsche Panamera qui combine luxe et puissance, l&#039;Audi S5 Sportback connue pour son design sportif et son moteur puissant, la Tesla Model S qui offre une esthétique moderne avec une accélération impressionnante, et la BMW Serie 8 qui est le symbole de l&#039;élégance sportive.\"\n",
            "\"Je cherche un véhicule innovant et écologique, quels sont les derniers modèles disponibles ?\",,\"Pour les dernières innovations en matière d'écologie, considérez la Tesla Model 3 avec ses technologies de conduite autonome, la BMW i3 qui est pionnière dans l'électromobilité, la Hyundai Kona Electric qui offre une grande autonomie électrique, la Nissan Leaf récemment mise à jour avec des fonctionnalités de connectivité avancées, et la Polestar 2 qui représente le futur de la mobilité durable avec un design scandinave.\",\"Below is an instruction that describes a task. Write a response that appropriately completes the request.### Instruction:\n",
            "Je cherche un véhicule innovant et écologique, quels sont les derniers modèles disponibles ?\n",
            "### Response:\n",
            "Pour les dernières innovations en matière d&#039;écologie, considérez la Tesla Model 3 avec ses technologies de conduite autonome, la BMW i3 qui est pionnière dans l&#039;électromobilité, la Hyundai Kona Electric qui offre une grande autonomie électrique, la Nissan Leaf récemment mise à jour avec des fonctionnalités de connectivité avancées, et la Polestar 2 qui représente le futur de la mobilité durable avec un design scandinave.\"\n",
            "\"Je souhaite une voiture avec un profil sportif et une excellente aérodynamique, quels choix s'offrent à moi ?\",,\"Les voitures qui se distinguent par leur caractère sportif et leur aérodynamisme incluent la Audi TT avec son design iconique, la Mercedes-Benz Classe CLA Coupé qui allie sportivité et élégance, la Porsche 911 reconnue pour sa silhouette aérodynamique et ses performances sur piste, la Ferrari Portofino qui est le summum de la performance et du design, et la Jaguar F-TYPE qui est une véritable sportive avec un profil aérodynamique optimisé.\",\"Below is an instruction that describes a task. Write a response that appropriately completes the request.### Instruction:\n",
            "Je souhaite une voiture avec un profil sportif et une excellente aérodynamique, quels choix s&#039;offrent à moi ?\n",
            "### Response:\n",
            "Les voitures qui se distinguent par leur caractère sportif et leur aérodynamisme incluent la Audi TT avec son design iconique, la Mercedes-Benz Classe CLA Coupé qui allie sportivité et élégance, la Porsche 911 reconnue pour sa silhouette aérodynamique et ses performances sur piste, la Ferrari Portofino qui est le summum de la performance et du design, et la Jaguar F-TYPE qui est une véritable sportive avec un profil aérodynamique optimisé.\"\n",
            "\"Quels sont les modèles d'entrée de gamme les plus abordables que vous proposez ?\",,\"Pour les véhicules d'entrée de gamme abordables, nous avons la Dacia Sandero, reconnue pour son excellent rapport qualité-prix, la Fiat Panda qui est économique à l'achat comme à l'utilisation, la Suzuki Celerio qui est compacte et très accessible, et la Kia Picanto, qui offre une garantie exceptionnelle pour sa catégorie.\",\"Below is an instruction that describes a task. Write a response that appropriately completes the request.### Instruction:\n",
            "Quels sont les modèles d&#039;entrée de gamme les plus abordables que vous proposez ?\n",
            "### Response:\n",
            "Pour les véhicules d&#039;entrée de gamme abordables, nous avons la Dacia Sandero, reconnue pour son excellent rapport qualité-prix, la Fiat Panda qui est économique à l&#039;achat comme à l&#039;utilisation, la Suzuki Celerio qui est compacte et très accessible, et la Kia Picanto, qui offre une garantie exceptionnelle pour sa catégorie.\"\n",
            "\"Je recherche un véhicule robuste pour le tout-terrain, quels modèles recommandez-vous ?\",,\"Nos modèles tout-terrain incluent le Land Rover Defender, conçu pour affronter les terrains les plus rudes, le Jeep Wrangler, qui est un icône de la conduite hors route, le Toyota Land Cruiser, reconnu pour sa fiabilité en conditions extrêmes, et le Mitsubishi L200, qui est un pick-up capable de transporter des charges lourdes en tout-terrain.\",\"Below is an instruction that describes a task. Write a response that appropriately completes the request.### Instruction:\n",
            "Je recherche un véhicule robuste pour le tout-terrain, quels modèles recommandez-vous ?\n",
            "### Response:\n",
            "Nos modèles tout-terrain incluent le Land Rover Defender, conçu pour affronter les terrains les plus rudes, le Jeep Wrangler, qui est un icône de la conduite hors route, le Toyota Land Cruiser, reconnu pour sa fiabilité en conditions extrêmes, et le Mitsubishi L200, qui est un pick-up capable de transporter des charges lourdes en tout-terrain.\"\n",
            "\"Quelle voiture serait idéale pour de longs trajets sur autoroute ?\",,\"Pour les longs trajets, je recommande la Volkswagen Passat pour son confort de conduite et son insonorisation, la Skoda Octavia Combi pour son espace de chargement et son efficacité énergétique, la Ford Mondeo pour son assise et son confort général, et la Renault Talisman pour son confort de suspension et ses sièges ergonomiques.\",\"Below is an instruction that describes a task. Write a response that appropriately completes the request.### Instruction:\n",
            "Quelle voiture serait idéale pour de longs trajets sur autoroute ?\n",
            "### Response:\n",
            "Pour les longs trajets, je recommande la Volkswagen Passat pour son confort de conduite et son insonorisation, la Skoda Octavia Combi pour son espace de chargement et son efficacité énergétique, la Ford Mondeo pour son assise et son confort général, et la Renault Talisman pour son confort de suspension et ses sièges ergonomiques.\"\n",
            "\"Je cherche une citadine élégante et bien équipée, qu'avez-vous à offrir ?\",,\"Dans notre gamme de citadines élégantes, vous trouverez la Mini Hatch, qui combine style et caractère, la Audi A1 Sportback, qui offre un design premium et des finitions haut de gamme, la Fiat 500, connue pour son look rétro chic, et la DS 3, qui propose un design distinctif et des options de personnalisation.\",\"Below is an instruction that describes a task. Write a response that appropriately completes the request.### Instruction:\n",
            "Je cherche une citadine élégante et bien équipée, qu&#039;avez-vous à offrir ?\n",
            "### Response:\n",
            "Dans notre gamme de citadines élégantes, vous trouverez la Mini Hatch, qui combine style et caractère, la Audi A1 Sportback, qui offre un design premium et des finitions haut de gamme, la Fiat 500, connue pour son look rétro chic, et la DS 3, qui propose un design distinctif et des options de personnalisation.\"\n",
            "\"﻿Montrez-moi des véhicules hybrides ou rechargeables avec une bonne autonomie.\",,\"Parmi les véhicules hybrides et rechargeables, nous proposons la Toyota Prius Rechargeable, pionnière dans le domaine des hybrides, la Hyundai Ioniq Plug-in, qui offre une excellente autonomie en mode électrique, la Kia Niro Plug-in Hybrid, qui est polyvalente et économique, et la Volvo XC60 Recharge, qui combine luxe et technologie hybride.\",\"Below is an instruction that describes a task. Write a response that appropriately completes the request.### Instruction:\n",
            "﻿Montrez-moi des véhicules hybrides ou rechargeables avec une bonne autonomie.\n",
            "### Response:\n",
            "Parmi les véhicules hybrides et rechargeables, nous proposons la Toyota Prius Rechargeable, pionnière dans le domaine des hybrides, la Hyundai Ioniq Plug-in, qui offre une excellente autonomie en mode électrique, la Kia Niro Plug-in Hybrid, qui est polyvalente et économique, et la Volvo XC60 Recharge, qui combine luxe et technologie hybride.\"\n",
            "\"J'ai besoin d'un véhicule spacieux pour mon activité professionnelle, quelles sont les meilleures options ?\",,\"Pour les besoins professionnels, les véhicules spacieux tels que le Peugeot Expert, idéal pour le transport de marchandises, le Ford Transit Custom, qui est polyvalent et robuste, le Renault Trafic, qui offre un grand volume de chargement, et le Mercedes-Benz Vito, qui associe espace et confort de conduite, sont d'excellents choix.\",\"Below is an instruction that describes a task. Write a response that appropriately completes the request.### Instruction:\n",
            "J&#039;ai besoin d&#039;un véhicule spacieux pour mon activité professionnelle, quelles sont les meilleures options ?\n",
            "### Response:\n",
            "Pour les besoins professionnels, les véhicules spacieux tels que le Peugeot Expert, idéal pour le transport de marchandises, le Ford Transit Custom, qui est polyvalent et robuste, le Renault Trafic, qui offre un grand volume de chargement, et le Mercedes-Benz Vito, qui associe espace et confort de conduite, sont d&#039;excellents choix.\"\n",
            "\"Je suis intéressé par un cabriolet ou un roadster pour profiter des beaux jours, quels modèles proposez-vous ?\",,\"Pour profiter du soleil, nous avons le Mazda MX-5, qui est un roadster amusant à conduire, le BMW Z4, qui allie luxe et performance, la Audi TT Roadster pour une expérience de conduite sportive à ciel ouvert, et la Mercedes-Benz Classe SLK, qui est à la fois élégante et performante.\",\"Below is an instruction that describes a task. Write a response that appropriately completes the request.### Instruction:\n",
            "Je suis intéressé par un cabriolet ou un roadster pour profiter des beaux jours, quels modèles proposez-vous ?\n",
            "### Response:\n",
            "Pour profiter du soleil, nous avons le Mazda MX-5, qui est un roadster amusant à conduire, le BMW Z4, qui allie luxe et performance, la Audi TT Roadster pour une expérience de conduite sportive à ciel ouvert, et la Mercedes-Benz Classe SLK, qui est à la fois élégante et performante.\"\n",
            "\"Quelles voitures compactes offrent la meilleure visibilité et facilité de stationnement ?\",,\"Pour une bonne visibilité et une facilité de stationnement dans la catégorie des compactes, je recommande la Honda Civic, avec sa grande surface vitrée, la Hyundai i20, qui dispose d'une caméra de recul, la Peugeot 208, connue pour sa maniabilité, et la Renault Clio, qui offre une excellente vue d'ensemble grâce à sa conception.\",\"Below is an instruction that describes a task. Write a response that appropriately completes the request.### Instruction:\n",
            "Quelles voitures compactes offrent la meilleure visibilité et facilité de stationnement ?\n",
            "### Response:\n",
            "Pour une bonne visibilité et une facilité de stationnement dans la catégorie des compactes, je recommande la Honda Civic, avec sa grande surface vitrée, la Hyundai i20, qui dispose d&#039;une caméra de recul, la Peugeot 208, connue pour sa maniabilité, et la Renault Clio, qui offre une excellente vue d&#039;ensemble grâce à sa conception.\"\n",
            "\"Quels sont les véhicules capables de remorquer de lourdes charges ?\",,\"Si vous avez besoin d'une capacité de remorquage élevée, considérez le Land Rover Discovery, qui est un leader dans sa catégorie, le Ford Ranger, robuste et durable, le Volkswagen Amarok, qui allie confort et capacité de remorquage, et le Nissan NP300 Navara, qui est un choix populaire parmi les véhicules utilitaires.\",\"Below is an instruction that describes a task. Write a response that appropriately completes the request.### Instruction:\n",
            "Quels sont les véhicules capables de remorquer de lourdes charges ?\n",
            "### Response:\n",
            "Si vous avez besoin d&#039;une capacité de remorquage élevée, considérez le Land Rover Discovery, qui est un leader dans sa catégorie, le Ford Ranger, robuste et durable, le Volkswagen Amarok, qui allie confort et capacité de remorquage, et le Nissan NP300 Navara, qui est un choix populaire parmi les véhicules utilitaires.\"\n",
            "\"Je souhaite acquérir un véhicule de luxe intégrant les dernières technologies, que me conseillez-vous ?\",,\"Dans le segment de luxe avec des technologies de pointe, je vous suggère la Tesla Model S, avec son autopilote avancé, la BMW Série 7, équipée d'une technologie de commande gestuelle, la Audi A8, avec son système MMI touch response, et la Mercedes-Benz Classe S, qui dispose de l'assistant vocal MBUX et d'un tableau de bord numérique.\",\"Below is an instruction that describes a task. Write a response that appropriately completes the request.### Instruction:\n",
            "Je souhaite acquérir un véhicule de luxe intégrant les dernières technologies, que me conseillez-vous ?\n",
            "### Response:\n",
            "Dans le segment de luxe avec des technologies de pointe, je vous suggère la Tesla Model S, avec son autopilote avancé, la BMW Série 7, équipée d&#039;une technologie de commande gestuelle, la Audi A8, avec son système MMI touch response, et la Mercedes-Benz Classe S, qui dispose de l&#039;assistant vocal MBUX et d&#039;un tableau de bord numérique.\"\n",
            "\"Quelle citadine électrique recommandez-vous pour des trajets quotidiens en ville ?\",,\"Pour vos trajets urbains quotidiens, l'idéal serait une Renault Zoe, qui est l'une des meilleures ventes de citadines électriques, une BMW i3, qui propose un design innovant et une conduite agile, ou encore une Fiat 500 électrique, parfaite pour les petites rues et facile à garer.\",\"Below is an instruction that describes a task. Write a response that appropriately completes the request.### Instruction:\n",
            "Quelle citadine électrique recommandez-vous pour des trajets quotidiens en ville ?\n",
            "### Response:\n",
            "Pour vos trajets urbains quotidiens, l&#039;idéal serait une Renault Zoe, qui est l&#039;une des meilleures ventes de citadines électriques, une BMW i3, qui propose un design innovant et une conduite agile, ou encore une Fiat 500 électrique, parfaite pour les petites rues et facile à garer.\"\n",
            "\"Quelle berline confortable conseillez-vous pour un usage commercial intensif ?\",,\"Pour un usage commercial, la Skoda Superb est reconnue pour son espace et son confort, la Volkswagen Passat offre une conduite souple et un intérieur spacieux, la Audi A4 est appréciée pour son intérieur raffiné et sa technologie embarquée, et la Ford Mondeo est bien équilibrée en termes de confort et de fiabilité.\",\"Below is an instruction that describes a task. Write a response that appropriately completes the request.### Instruction:\n",
            "Quelle berline confortable conseillez-vous pour un usage commercial intensif ?\n",
            "### Response:\n",
            "Pour un usage commercial, la Skoda Superb est reconnue pour son espace et son confort, la Volkswagen Passat offre une conduite souple et un intérieur spacieux, la Audi A4 est appréciée pour son intérieur raffiné et sa technologie embarquée, et la Ford Mondeo est bien équilibrée en termes de confort et de fiabilité.\"\n",
            "\"Quel véhicule recommanderiez-vous pour une famille nombreuse ayant besoin de 7 places ?\",,\"Pour les familles nombreuses, le Peugeot 5008 offre sept places et une modularité intéressante, le Citroën Grand C4 SpaceTourer est spacieux et confortable, le Seat Alhambra est une alternative abordable avec beaucoup d'espace, et le Volkswagen Sharan est également une option de choix avec son intérieur flexible et ses nombreuses commodités.\",\"Below is an instruction that describes a task. Write a response that appropriately completes the request.### Instruction:\n",
            "Quel véhicule recommanderiez-vous pour une famille nombreuse ayant besoin de 7 places ?\n",
            "### Response:\n",
            "Pour les familles nombreuses, le Peugeot 5008 offre sept places et une modularité intéressante, le Citroën Grand C4 SpaceTourer est spacieux et confortable, le Seat Alhambra est une alternative abordable avec beaucoup d&#039;espace, et le Volkswagen Sharan est également une option de choix avec son intérieur flexible et ses nombreuses commodités.\"\n",
            "\"﻿Quels véhicules offrent les meilleures performances pour les conditions hivernales ?\",,\"Pour les conditions hivernales, les modèles équipés de la transmission intégrale comme la Subaru XV, l'Audi Q4 e-tron avec son option quattro, le Volvo XC40 avec sa capacité à affronter les routes glissantes, et le Land Rover Range Rover Evoque réputé pour sa robustesse sont tous d'excellents choix.\",\"Below is an instruction that describes a task. Write a response that appropriately completes the request.### Instruction:\n",
            "﻿Quels véhicules offrent les meilleures performances pour les conditions hivernales ?\n",
            "### Response:\n",
            "Pour les conditions hivernales, les modèles équipés de la transmission intégrale comme la Subaru XV, l&#039;Audi Q4 e-tron avec son option quattro, le Volvo XC40 avec sa capacité à affronter les routes glissantes, et le Land Rover Range Rover Evoque réputé pour sa robustesse sont tous d&#039;excellents choix.\"\n",
            "\"Je suis à la recherche d'une voiture sportive abordable. Que me recommandez-vous ?\",,\"Pour une option sportive abordable, vous pouvez considérer la Mazda MX-5 pour sa maniabilité et son plaisir de conduite, la Ford Fiesta ST pour son rapport prix-performance, ou la Toyota GT86 pour son expérience de conduite axée sur le conducteur à un prix raisonnable.\",\"Below is an instruction that describes a task. Write a response that appropriately completes the request.### Instruction:\n",
            "Je suis à la recherche d&#039;une voiture sportive abordable. Que me recommandez-vous ?\n",
            "### Response:\n",
            "Pour une option sportive abordable, vous pouvez considérer la Mazda MX-5 pour sa maniabilité et son plaisir de conduite, la Ford Fiesta ST pour son rapport prix-performance, ou la Toyota GT86 pour son expérience de conduite axée sur le conducteur à un prix raisonnable.\"\n",
            "\"Quels véhicules électriques offrent la plus longue autonomie ?\",,\"Parmi les véhicules électriques avec une longue autonomie, nous avons la Tesla Model 3 Long Range, qui peut parcourir jusqu'à 568 kilomètres sur une seule charge selon le WLTP, la Volkswagen ID.4 avec une autonomie respectable, et le Hyundai Kona Electric, qui offre également une grande autonomie pour des voyages plus longs sans recharge.\",\"Below is an instruction that describes a task. Write a response that appropriately completes the request.### Instruction:\n",
            "Quels véhicules électriques offrent la plus longue autonomie ?\n",
            "### Response:\n",
            "Parmi les véhicules électriques avec une longue autonomie, nous avons la Tesla Model 3 Long Range, qui peut parcourir jusqu&#039;à 568 kilomètres sur une seule charge selon le WLTP, la Volkswagen ID.4 avec une autonomie respectable, et le Hyundai Kona Electric, qui offre également une grande autonomie pour des voyages plus longs sans recharge.\"\n",
            "\"Je cherche un cabriolet qui offre des sensations fortes. Avez-vous des suggestions ?\",,\"Pour les amateurs de sensations fortes, le Porsche 718 Boxster offre une expérience de conduite exaltante, la BMW Z4 M40i est à la fois puissante et élégante, et l'Audi TT Roadster allie performances et design ouvert.\",\"Below is an instruction that describes a task. Write a response that appropriately completes the request.### Instruction:\n",
            "Je cherche un cabriolet qui offre des sensations fortes. Avez-vous des suggestions ?\n",
            "### Response:\n",
            "Pour les amateurs de sensations fortes, le Porsche 718 Boxster offre une expérience de conduite exaltante, la BMW Z4 M40i est à la fois puissante et élégante, et l&#039;Audi TT Roadster allie performances et design ouvert.\"\n",
            "\"Je veux une voiture hybride qui est également respectueuse de l'environnement. Quelles sont mes options ?\",,\"Les options hybrides respectueuses de l'environnement comprennent la Toyota Prius, leader dans cette catégorie, la Honda CR-V Hybrid, qui offre une bonne efficacité énergétique et du confort, et la Ford Kuga PHEV, qui combine les avantages d'un SUV avec une propulsion hybride rechargeable.\",\"Below is an instruction that describes a task. Write a response that appropriately completes the request.### Instruction:\n",
            "Je veux une voiture hybride qui est également respectueuse de l&#039;environnement. Quelles sont mes options ?\n",
            "### Response:\n",
            "Les options hybrides respectueuses de l&#039;environnement comprennent la Toyota Prius, leader dans cette catégorie, la Honda CR-V Hybrid, qui offre une bonne efficacité énergétique et du confort, et la Ford Kuga PHEV, qui combine les avantages d&#039;un SUV avec une propulsion hybride rechargeable.\"\n",
            "\"﻿Je recherche un véhicule de luxe qui répond aux attentes des conducteurs les plus exigeants. Des recommandations ?\",,\"Pour ceux qui cherchent le summum du luxe et des performances, nous proposons la Mercedes-Benz Classe S, qui définit l'excellence dans le segment du luxe, la Audi A8, avec son mélange de sophistication et de technologie, et la BMW Série 7, qui offre une expérience de conduite inégalée avec des matériaux haut de gamme et une attention aux détails.\",\"Below is an instruction that describes a task. Write a response that appropriately completes the request.### Instruction:\n",
            "﻿Je recherche un véhicule de luxe qui répond aux attentes des conducteurs les plus exigeants. Des recommandations ?\n",
            "### Response:\n",
            "Pour ceux qui cherchent le summum du luxe et des performances, nous proposons la Mercedes-Benz Classe S, qui définit l&#039;excellence dans le segment du luxe, la Audi A8, avec son mélange de sophistication et de technologie, et la BMW Série 7, qui offre une expérience de conduite inégalée avec des matériaux haut de gamme et une attention aux détails.\"\n",
            "\"Quel pick-up me conseillez-vous pour le travail et les activités de loisir ?\",,\"Le Ford Ranger est très apprécié pour sa polyvalence et sa fiabilité, le Toyota Hilux est réputé pour sa robustesse et sa durabilité, et le Nissan Navara offre un bon équilibre entre fonctionnalité de travail et confort pour les loisirs.\",\"Below is an instruction that describes a task. Write a response that appropriately completes the request.### Instruction:\n",
            "Quel pick-up me conseillez-vous pour le travail et les activités de loisir ?\n",
            "### Response:\n",
            "Le Ford Ranger est très apprécié pour sa polyvalence et sa fiabilité, le Toyota Hilux est réputé pour sa robustesse et sa durabilité, et le Nissan Navara offre un bon équilibre entre fonctionnalité de travail et confort pour les loisirs.\"\n",
            "\"Je suis un nouveau conducteur. Quelles voitures me suggérez-vous qui soient sûres et faciles à conduire ?\",,\"Pour les nouveaux conducteurs, la sécurité et la facilité de conduite sont primordiales. Je recommande la Toyota Corolla, connue pour sa fiabilité et ses caractéristiques de sécurité, la Honda Civic, qui est également bien cotée pour la sécurité et offre une conduite intuitive, ou la Ford Fiesta, qui est compacte et offre une excellente visibilité tout autour, ce qui la rend facile à manoeuvrer.\",\"Below is an instruction that describes a task. Write a response that appropriately completes the request.### Instruction:\n",
            "Je suis un nouveau conducteur. Quelles voitures me suggérez-vous qui soient sûres et faciles à conduire ?\n",
            "### Response:\n",
            "Pour les nouveaux conducteurs, la sécurité et la facilité de conduite sont primordiales. Je recommande la Toyota Corolla, connue pour sa fiabilité et ses caractéristiques de sécurité, la Honda Civic, qui est également bien cotée pour la sécurité et offre une conduite intuitive, ou la Ford Fiesta, qui est compacte et offre une excellente visibilité tout autour, ce qui la rend facile à manoeuvrer.\"\n",
            "\"Nous avons une grande famille. Quels monospaces avec beaucoup d'espace et des sièges modulables avez-vous ?\",,\"Les monospaces sont idéaux pour les grandes familles grâce à leur espace et leur modularité. Le Citroën Berlingo est une option très pratique avec ses nombreux rangements et son espace généreux. Le Renault Grand Scenic offre un intérieur versatile et un design attractif. Le Volkswagen Touran est également un choix judicieux avec des sièges réglables et un grand coffre.\",\"Below is an instruction that describes a task. Write a response that appropriately completes the request.### Instruction:\n",
            "Nous avons une grande famille. Quels monospaces avec beaucoup d&#039;espace et des sièges modulables avez-vous ?\n",
            "### Response:\n",
            "Les monospaces sont idéaux pour les grandes familles grâce à leur espace et leur modularité. Le Citroën Berlingo est une option très pratique avec ses nombreux rangements et son espace généreux. Le Renault Grand Scenic offre un intérieur versatile et un design attractif. Le Volkswagen Touran est également un choix judicieux avec des sièges réglables et un grand coffre.\"\n",
            "\"Je cherche un coupé sportif pour m'amuser le weekend. Quels modèles offrez-vous ?\",,\"Pour les weekends placés sous le signe du plaisir de conduite, le BMW Série 2 Coupé est un choix excellent avec sa dynamique de conduite engageante. L'Audi TT est également un coupé sportif avec un intérieur haut de gamme et une performance solide. Le Toyota GT86 pourrait également être une option avec son centre de gravité bas et sa propulsion arrière pour une expérience de conduite pure.\",\"Below is an instruction that describes a task. Write a response that appropriately completes the request.### Instruction:\n",
            "Je cherche un coupé sportif pour m&#039;amuser le weekend. Quels modèles offrez-vous ?\n",
            "### Response:\n",
            "Pour les weekends placés sous le signe du plaisir de conduite, le BMW Série 2 Coupé est un choix excellent avec sa dynamique de conduite engageante. L&#039;Audi TT est également un coupé sportif avec un intérieur haut de gamme et une performance solide. Le Toyota GT86 pourrait également être une option avec son centre de gravité bas et sa propulsion arrière pour une expérience de conduite pure.\"\n",
            "\"Je suis aventurier et j'ai besoin d'un SUV capable de me suivre dans mes explorations. Quelles sont vos recommandations ?\",,\"Pour les aventuriers, le Land Rover Range Rover est inégalé en matière de capacités hors route et de luxe. Le Jeep Grand Cherokee est également une option robuste avec de solides capacités tout-terrain. Pour un choix plus économique, le Subaru Forester est réputé pour sa traction intégrale symétrique et sa résistance.\",\"Below is an instruction that describes a task. Write a response that appropriately completes the request.### Instruction:\n",
            "Je suis aventurier et j&#039;ai besoin d&#039;un SUV capable de me suivre dans mes explorations. Quelles sont vos recommandations ?\n",
            "### Response:\n",
            "Pour les aventuriers, le Land Rover Range Rover est inégalé en matière de capacités hors route et de luxe. Le Jeep Grand Cherokee est également une option robuste avec de solides capacités tout-terrain. Pour un choix plus économique, le Subaru Forester est réputé pour sa traction intégrale symétrique et sa résistance.\"\n",
            "\"Je suis intéressé par une voiture électrique haut de gamme. Que proposez-vous dans cette catégorie ?\",,\"Dans la catégorie premium des voitures électriques, la Tesla Model X se démarque avec ses portes falcon et son intérieur spacieux. La Audi e-tron offre un intérieur luxueux et une conduite douce. La Jaguar I-PACE est également un excellent choix avec son design élégant et ses performances impressionnantes.\",\"Below is an instruction that describes a task. Write a response that appropriately completes the request.### Instruction:\n",
            "Je suis intéressé par une voiture électrique haut de gamme. Que proposez-vous dans cette catégorie ?\n",
            "### Response:\n",
            "Dans la catégorie premium des voitures électriques, la Tesla Model X se démarque avec ses portes falcon et son intérieur spacieux. La Audi e-tron offre un intérieur luxueux et une conduite douce. La Jaguar I-PACE est également un excellent choix avec son design élégant et ses performances impressionnantes.\"\n",
            "\"Je vis près de la plage et je souhaite un convertible pour profiter du soleil. Des suggestions ?\",,\"Rien n'est comparable à la conduite d'un convertible en bord de mer. La MINI Convertible est parfaite pour cela avec son style emblématique et sa toiture facile à ouvrir. La Mercedes-Benz Classe C Cabriolet est également idéale pour une expérience luxueuse. Si vous recherchez quelque chose d'unique, la Mazda MX-5 Miata offre une conduite amusante et vivante.\",\"Below is an instruction that describes a task. Write a response that appropriately completes the request.### Instruction:\n",
            "Je vis près de la plage et je souhaite un convertible pour profiter du soleil. Des suggestions ?\n",
            "### Response:\n",
            "Rien n&#039;est comparable à la conduite d&#039;un convertible en bord de mer. La MINI Convertible est parfaite pour cela avec son style emblématique et sa toiture facile à ouvrir. La Mercedes-Benz Classe C Cabriolet est également idéale pour une expérience luxueuse. Si vous recherchez quelque chose d&#039;unique, la Mazda MX-5 Miata offre une conduite amusante et vivante.\"\n",
            "\"J'ai besoin d'une berline économique pour les longues distances. Quelles options ai-je ?\",,\"Pour les longues distances, l'économie de carburant est clé. La Hyundai Sonata est connue pour son efficacité et son confort sur les longues distances. La Honda Accord offre également une bonne économie de carburant avec une conduite souple. La Volkswagen Passat TDI est une autre option qui combine l'espace, le confort et une excellente économie de carburant.\",\"Below is an instruction that describes a task. Write a response that appropriately completes the request.### Instruction:\n",
            "J&#039;ai besoin d&#039;une berline économique pour les longues distances. Quelles options ai-je ?\n",
            "### Response:\n",
            "Pour les longues distances, l&#039;économie de carburant est clé. La Hyundai Sonata est connue pour son efficacité et son confort sur les longues distances. La Honda Accord offre également une bonne économie de carburant avec une conduite souple. La Volkswagen Passat TDI est une autre option qui combine l&#039;espace, le confort et une excellente économie de carburant.\"\n",
            "\"Je mesure plus de 1m90. Quels véhicules offrent le plus d'espace pour les jambes et la tête ?\",,\"Pour les personnes de grande taille, l'espace intérieur est crucial. Je vous recommanderais le Skoda Kodiaq, qui offre beaucoup d'espace pour les jambes et la tête, le Nissan Qashqai, connu pour son habitacle spacieux, ou encore le Ford Kuga, qui offre un excellent dégagement au niveau des sièges avant et arrière.\",\"Below is an instruction that describes a task. Write a response that appropriately completes the request.### Instruction:\n",
            "Je mesure plus de 1m90. Quels véhicules offrent le plus d&#039;espace pour les jambes et la tête ?\n",
            "### Response:\n",
            "Pour les personnes de grande taille, l&#039;espace intérieur est crucial. Je vous recommanderais le Skoda Kodiaq, qui offre beaucoup d&#039;espace pour les jambes et la tête, le Nissan Qashqai, connu pour son habitacle spacieux, ou encore le Ford Kuga, qui offre un excellent dégagement au niveau des sièges avant et arrière.\"\n",
            "\"Quelles sont les voitures disponibles avec la meilleure économie de carburant pour des trajets quotidiens ?\",,\"Pour une faible consommation de carburant, envisagez la Volkswagen Polo ou la Toyota Corolla Hybrid, qui sont toutes deux excellentes pour les trajets quotidiens. La Kia Rio et la Honda Fit sont également connues pour leur efficacité en matière de carburant.\",\"Below is an instruction that describes a task. Write a response that appropriately completes the request.### Instruction:\n",
            "Quelles sont les voitures disponibles avec la meilleure économie de carburant pour des trajets quotidiens ?\n",
            "### Response:\n",
            "Pour une faible consommation de carburant, envisagez la Volkswagen Polo ou la Toyota Corolla Hybrid, qui sont toutes deux excellentes pour les trajets quotidiens. La Kia Rio et la Honda Fit sont également connues pour leur efficacité en matière de carburant.\"\n",
            "\"Avez-vous des véhicules adaptés pour les personnes à mobilité réduite ?\",,\"Nous avons plusieurs options adaptées aux personnes à mobilité réduite, comme le Renault Kangoo avec des aménagements spéciaux pour un accès facilité, ou le Peugeot Partner équipé pour le transport de personnes en fauteuil roulant.\",\"Below is an instruction that describes a task. Write a response that appropriately completes the request.### Instruction:\n",
            "Avez-vous des véhicules adaptés pour les personnes à mobilité réduite ?\n",
            "### Response:\n",
            "Nous avons plusieurs options adaptées aux personnes à mobilité réduite, comme le Renault Kangoo avec des aménagements spéciaux pour un accès facilité, ou le Peugeot Partner équipé pour le transport de personnes en fauteuil roulant.\"\n",
            "\"Quel véhicule recommandez-vous pour une jeune famille ayant besoin de sécurité et de praticité ?\",,\"Pour une jeune famille, la sécurité et la praticité sont essentielles. Le Volvo XC60 est une option formidable, dotée de systèmes de sécurité avancés. Le Honda CR-V est également une excellente option avec beaucoup d'espace et des caractéristiques familiales pratiques. La Volkswagen Tiguan offre un bon équilibre avec son système Isofix pour sièges enfants et de nombreux rangements.\",\"Below is an instruction that describes a task. Write a response that appropriately completes the request.### Instruction:\n",
            "Quel véhicule recommandez-vous pour une jeune famille ayant besoin de sécurité et de praticité ?\n",
            "### Response:\n",
            "Pour une jeune famille, la sécurité et la praticité sont essentielles. Le Volvo XC60 est une option formidable, dotée de systèmes de sécurité avancés. Le Honda CR-V est également une excellente option avec beaucoup d&#039;espace et des caractéristiques familiales pratiques. La Volkswagen Tiguan offre un bon équilibre avec son système Isofix pour sièges enfants et de nombreux rangements.\"\n",
            "\"Je suis passionné de conduite et je cherche une voiture de sport qui offre une expérience de conduite pure. Quels modèles avez-vous ?\",,\"Pour une expérience de conduite authentique, la Porsche 718 Cayman est une excellente option avec son équilibre et sa maniabilité. L'Alfa Romeo 4C est aussi une pure voiture de sport avec un châssis léger et un moteur performant. La Nissan 370Z est une autre option avec son pedigree de voiture de sport et une transmission manuelle pour une connexion plus directe avec la voiture.\",\"Below is an instruction that describes a task. Write a response that appropriately completes the request.### Instruction:\n",
            "Je suis passionné de conduite et je cherche une voiture de sport qui offre une expérience de conduite pure. Quels modèles avez-vous ?\n",
            "### Response:\n",
            "Pour une expérience de conduite authentique, la Porsche 718 Cayman est une excellente option avec son équilibre et sa maniabilité. L&#039;Alfa Romeo 4C est aussi une pure voiture de sport avec un châssis léger et un moteur performant. La Nissan 370Z est une autre option avec son pedigree de voiture de sport et une transmission manuelle pour une connexion plus directe avec la voiture.\"\n",
            "\"Nous partons souvent en vacances en famille. Quel break spacieux et confortable me conseillez-vous ?\",,\"Pour les voyages en famille, un break comme la Volkswagen Passat Variant offre beaucoup d'espace et de confort pour les longs trajets. La Subaru Outback est également une option polyvalente avec une bonne capacité de chargement et des capacités tout-terrain. La Audi A6 Avant est une option plus luxueuse avec une grande capacité de coffre et une conduite douce.\",\"Below is an instruction that describes a task. Write a response that appropriately completes the request.### Instruction:\n",
            "Nous partons souvent en vacances en famille. Quel break spacieux et confortable me conseillez-vous ?\n",
            "### Response:\n",
            "Pour les voyages en famille, un break comme la Volkswagen Passat Variant offre beaucoup d&#039;espace et de confort pour les longs trajets. La Subaru Outback est également une option polyvalente avec une bonne capacité de chargement et des capacités tout-terrain. La Audi A6 Avant est une option plus luxueuse avec une grande capacité de coffre et une conduite douce.\"\n",
            "\"Je suis un professionnel de la route et je passe beaucoup de temps en voiture. Quels véhicules offrent le meilleur confort et la meilleure connectivité pour travailler en déplacement ?\",,\"Pour les professionnels qui passent beaucoup de temps sur la route, la Mercedes-Benz Classe E est équipée de sièges confortables et d'un système d'infodivertissement de pointe pour rester connecté. La Audi A4 offre également un intérieur raffiné avec des fonctionnalités de connectivité avancées. La BMW Série 5, avec son cockpit orienté conducteur et son système iDrive intuitif, est aussi une excellente voiture pour travailler en déplacement.\",\"Below is an instruction that describes a task. Write a response that appropriately completes the request.### Instruction:\n",
            "Je suis un professionnel de la route et je passe beaucoup de temps en voiture. Quels véhicules offrent le meilleur confort et la meilleure connectivité pour travailler en déplacement ?\n",
            "### Response:\n",
            "Pour les professionnels qui passent beaucoup de temps sur la route, la Mercedes-Benz Classe E est équipée de sièges confortables et d&#039;un système d&#039;infodivertissement de pointe pour rester connecté. La Audi A4 offre également un intérieur raffiné avec des fonctionnalités de connectivité avancées. La BMW Série 5, avec son cockpit orienté conducteur et son système iDrive intuitif, est aussi une excellente voiture pour travailler en déplacement.\"\n",
            "\"Quelles voitures ont le plus grand espace de coffre pour les bagages et les équipements sportifs ?\",,\"Si vous avez besoin de beaucoup d'espace de coffre, je recommande le Škoda Superb Estate, qui offre un volume impressionnant, la Peugeot 508 SW, connue pour son coffre spacieux, ou le Volkswagen Touareg, qui est un SUV avec un grand espace de chargement. Ces modèles sont parfaits pour transporter des bagages ou des équipements sportifs.\",\"Below is an instruction that describes a task. Write a response that appropriately completes the request.### Instruction:\n",
            "Quelles voitures ont le plus grand espace de coffre pour les bagages et les équipements sportifs ?\n",
            "### Response:\n",
            "Si vous avez besoin de beaucoup d&#039;espace de coffre, je recommande le Škoda Superb Estate, qui offre un volume impressionnant, la Peugeot 508 SW, connue pour son coffre spacieux, ou le Volkswagen Touareg, qui est un SUV avec un grand espace de chargement. Ces modèles sont parfaits pour transporter des bagages ou des équipements sportifs.\"\n",
            "\"Je suis un geek de la technologie. Quelles voitures offrent les meilleurs gadgets et innovations technologiques ?\",,\"Pour les amateurs de technologie, la Tesla Model 3 est un choix de premier plan avec son tableau de bord minimaliste et ses mises à jour logicielles régulières. La Audi A4 est également à la pointe de la technologie avec son Virtual Cockpit. La BMW Série 3 avec son système iDrive et les dernières aides à la conduite est également une excellente option.\",\"Below is an instruction that describes a task. Write a response that appropriately completes the request.### Instruction:\n",
            "Je suis un geek de la technologie. Quelles voitures offrent les meilleurs gadgets et innovations technologiques ?\n",
            "### Response:\n",
            "Pour les amateurs de technologie, la Tesla Model 3 est un choix de premier plan avec son tableau de bord minimaliste et ses mises à jour logicielles régulières. La Audi A4 est également à la pointe de la technologie avec son Virtual Cockpit. La BMW Série 3 avec son système iDrive et les dernières aides à la conduite est également une excellente option.\"\n",
            "\"Je suis étudiant et j'ai besoin d'une voiture économique. Quelles sont les options les plus abordables ?\",,\"﻿Pour les étudiants, l'abordabilité est clé. La Dacia Logan est l'une des voitures les plus économiques sur le marché. La Hyundai i10 et la Kia Picanto sont également des options abordables avec des coûts de fonctionnement faibles et une garantie solide.\",\"Below is an instruction that describes a task. Write a response that appropriately completes the request.### Instruction:\n",
            "Je suis étudiant et j&#039;ai besoin d&#039;une voiture économique. Quelles sont les options les plus abordables ?\n",
            "### Response:\n",
            "﻿Pour les étudiants, l&#039;abordabilité est clé. La Dacia Logan est l&#039;une des voitures les plus économiques sur le marché. La Hyundai i10 et la Kia Picanto sont également des options abordables avec des coûts de fonctionnement faibles et une garantie solide.\"\n",
            "\"En tant qu'artisan, j'ai besoin d'un véhicule utilitaire fiable. Quelles sont vos recommandations ?\",,\"Pour les artisans nécessitant un véhicule utilitaire, le Ford Transit est réputé pour sa fiabilité et sa polyvalence. Le Renault Trafic offre un bon compromis entre taille et maniabilité. Le Mercedes Sprinter est également une option solide avec une grande variété de configurations pour s'adapter à différents métiers.\",\"Below is an instruction that describes a task. Write a response that appropriately completes the request.### Instruction:\n",
            "En tant qu&#039;artisan, j&#039;ai besoin d&#039;un véhicule utilitaire fiable. Quelles sont vos recommandations ?\n",
            "### Response:\n",
            "Pour les artisans nécessitant un véhicule utilitaire, le Ford Transit est réputé pour sa fiabilité et sa polyvalence. Le Renault Trafic offre un bon compromis entre taille et maniabilité. Le Mercedes Sprinter est également une option solide avec une grande variété de configurations pour s&#039;adapter à différents métiers.\"\n",
            "\"Je cherche un crossover polyvalent pour les activités de loisirs et l'usage quotidien. Qu'avez-vous à proposer ?\",,\"Les crossovers tels que le Peugeot 3008 combinent confort et polyvalence, idéal pour les loisirs et le quotidien. Le Nissan Qashqai est également un choix populaire qui offre un bon équilibre entre la taille et la fonctionnalité. Le Subaru Crosstrek est recommandé pour sa capacité hors route et sa fiabilité.\",\"Below is an instruction that describes a task. Write a response that appropriately completes the request.### Instruction:\n",
            "Je cherche un crossover polyvalent pour les activités de loisirs et l&#039;usage quotidien. Qu&#039;avez-vous à proposer ?\n",
            "### Response:\n",
            "Les crossovers tels que le Peugeot 3008 combinent confort et polyvalence, idéal pour les loisirs et le quotidien. Le Nissan Qashqai est également un choix populaire qui offre un bon équilibre entre la taille et la fonctionnalité. Le Subaru Crosstrek est recommandé pour sa capacité hors route et sa fiabilité.\"\n",
            "\"Quels véhicules viennent avec les meilleures garanties ?\",,\"Les véhicules Kia sont réputés pour leurs garanties exceptionnelles qui peuvent aller jusqu'à 7 ans ou 100 000 miles. Hyundai offre également une garantie complète de 5 ans sans limite de kilométrage, tandis que Toyota offre une garantie de 5 ans ou 100 000 miles, connue pour sa fiabilité.\",\"Below is an instruction that describes a task. Write a response that appropriately completes the request.### Instruction:\n",
            "Quels véhicules viennent avec les meilleures garanties ?\n",
            "### Response:\n",
            "Les véhicules Kia sont réputés pour leurs garanties exceptionnelles qui peuvent aller jusqu&#039;à 7 ans ou 100 000 miles. Hyundai offre également une garantie complète de 5 ans sans limite de kilométrage, tandis que Toyota offre une garantie de 5 ans ou 100 000 miles, connue pour sa fiabilité.\"\n",
            "\"Quelle voiture recommandez-vous pour un conducteur senior qui privilégie le confort et la facilité d'utilisation ?\",,\"Pour les conducteurs seniors, je suggère des voitures avec un accès facile et une conduite confortable comme la Honda Accord, qui a des sièges confortables et une bonne visibilité. La Subaru Forester est également une bonne option avec son accès sans effort et sa visibilité panoramique. La Toyota Camry avec ses commandes intuitives et son rideau est également adaptée.\",\"Below is an instruction that describes a task. Write a response that appropriately completes the request.### Instruction:\n",
            "Quelle voiture recommandez-vous pour un conducteur senior qui privilégie le confort et la facilité d&#039;utilisation ?\n",
            "### Response:\n",
            "Pour les conducteurs seniors, je suggère des voitures avec un accès facile et une conduite confortable comme la Honda Accord, qui a des sièges confortables et une bonne visibilité. La Subaru Forester est également une bonne option avec son accès sans effort et sa visibilité panoramique. La Toyota Camry avec ses commandes intuitives et son rideau est également adaptée.\"\n",
            "\"Je recherche une voiture économique, quels choix ai-je ?\",,\"Les options économiques comprennent la Renault Clio, la Peugeot 208, et la Toyota Yaris.\",\"Below is an instruction that describes a task. Write a response that appropriately completes the request.### Instruction:\n",
            "Je recherche une voiture économique, quels choix ai-je ?\n",
            "### Response:\n",
            "Les options économiques comprennent la Renault Clio, la Peugeot 208, et la Toyota Yaris.\"\n",
            "\"Je veux une voiture familiale spacieuse avec les dernières technologies intégrées, qu'avez-vous à offrir ?\",,\"Nos voitures familiales offrant espace et technologies modernes comprennent la Skoda Superb Combi avec son système d'infodivertissement de pointe, la Peugeot 5008 qui propose un cockpit numérique, la Renault Espace équipée de l'assistant de conduite ADAS, la Citroën C5 Aircross avec son confort de suspension et son interface connectée, et la Volkswagen Sharan qui offre de l'espace et des aides à la conduite avancées.\",\"Below is an instruction that describes a task. Write a response that appropriately completes the request.### Instruction:\n",
            "Je veux une voiture familiale spacieuse avec les dernières technologies intégrées, qu&#039;avez-vous à offrir ?\n",
            "### Response:\n",
            "Nos voitures familiales offrant espace et technologies modernes comprennent la Skoda Superb Combi avec son système d&#039;infodivertissement de pointe, la Peugeot 5008 qui propose un cockpit numérique, la Renault Espace équipée de l&#039;assistant de conduite ADAS, la Citroën C5 Aircross avec son confort de suspension et son interface connectée, et la Volkswagen Sharan qui offre de l&#039;espace et des aides à la conduite avancées.\"\n"
          ]
        }
      ]
    },
    {
      "cell_type": "code",
      "source": [
        "!git clone https://github.com/joshbickett/finetune-llama-2.git\n",
        "%cd finetune-llama-2\n",
        "%mv train.csv ../train.csv\n",
        "%cd .."
      ],
      "metadata": {
        "id": "JxTn4r_YZdkY"
      },
      "execution_count": null,
      "outputs": []
    },
    {
      "cell_type": "code",
      "source": [
        "import pandas as pd\n",
        "df = pd.read_csv(\"train.csv@\")\n",
        "df"
      ],
      "metadata": {
        "colab": {
          "base_uri": "https://localhost:8080/",
          "height": 425
        },
        "id": "NUb-rkeoZzZ6",
        "outputId": "6743d41c-7ef2-4306-91eb-b827bcf6be18"
      },
      "execution_count": null,
      "outputs": [
        {
          "output_type": "error",
          "ename": "FileNotFoundError",
          "evalue": "[Errno 2] No such file or directory: 'train.csv@'",
          "traceback": [
            "\u001b[0;31m---------------------------------------------------------------------------\u001b[0m",
            "\u001b[0;31mFileNotFoundError\u001b[0m                         Traceback (most recent call last)",
            "\u001b[0;32m<ipython-input-24-0997ac794a52>\u001b[0m in \u001b[0;36m<cell line: 2>\u001b[0;34m()\u001b[0m\n\u001b[1;32m      1\u001b[0m \u001b[0;32mimport\u001b[0m \u001b[0mpandas\u001b[0m \u001b[0;32mas\u001b[0m \u001b[0mpd\u001b[0m\u001b[0;34m\u001b[0m\u001b[0;34m\u001b[0m\u001b[0m\n\u001b[0;32m----> 2\u001b[0;31m \u001b[0mdf\u001b[0m \u001b[0;34m=\u001b[0m \u001b[0mpd\u001b[0m\u001b[0;34m.\u001b[0m\u001b[0mread_csv\u001b[0m\u001b[0;34m(\u001b[0m\u001b[0;34m\"train.csv@\"\u001b[0m\u001b[0;34m)\u001b[0m\u001b[0;34m\u001b[0m\u001b[0;34m\u001b[0m\u001b[0m\n\u001b[0m\u001b[1;32m      3\u001b[0m \u001b[0mdf\u001b[0m\u001b[0;34m\u001b[0m\u001b[0;34m\u001b[0m\u001b[0m\n",
            "\u001b[0;32m/usr/local/lib/python3.10/dist-packages/pandas/util/_decorators.py\u001b[0m in \u001b[0;36mwrapper\u001b[0;34m(*args, **kwargs)\u001b[0m\n\u001b[1;32m    209\u001b[0m                 \u001b[0;32melse\u001b[0m\u001b[0;34m:\u001b[0m\u001b[0;34m\u001b[0m\u001b[0;34m\u001b[0m\u001b[0m\n\u001b[1;32m    210\u001b[0m                     \u001b[0mkwargs\u001b[0m\u001b[0;34m[\u001b[0m\u001b[0mnew_arg_name\u001b[0m\u001b[0;34m]\u001b[0m \u001b[0;34m=\u001b[0m \u001b[0mnew_arg_value\u001b[0m\u001b[0;34m\u001b[0m\u001b[0;34m\u001b[0m\u001b[0m\n\u001b[0;32m--> 211\u001b[0;31m             \u001b[0;32mreturn\u001b[0m \u001b[0mfunc\u001b[0m\u001b[0;34m(\u001b[0m\u001b[0;34m*\u001b[0m\u001b[0margs\u001b[0m\u001b[0;34m,\u001b[0m \u001b[0;34m**\u001b[0m\u001b[0mkwargs\u001b[0m\u001b[0;34m)\u001b[0m\u001b[0;34m\u001b[0m\u001b[0;34m\u001b[0m\u001b[0m\n\u001b[0m\u001b[1;32m    212\u001b[0m \u001b[0;34m\u001b[0m\u001b[0m\n\u001b[1;32m    213\u001b[0m         \u001b[0;32mreturn\u001b[0m \u001b[0mcast\u001b[0m\u001b[0;34m(\u001b[0m\u001b[0mF\u001b[0m\u001b[0;34m,\u001b[0m \u001b[0mwrapper\u001b[0m\u001b[0;34m)\u001b[0m\u001b[0;34m\u001b[0m\u001b[0;34m\u001b[0m\u001b[0m\n",
            "\u001b[0;32m/usr/local/lib/python3.10/dist-packages/pandas/util/_decorators.py\u001b[0m in \u001b[0;36mwrapper\u001b[0;34m(*args, **kwargs)\u001b[0m\n\u001b[1;32m    329\u001b[0m                     \u001b[0mstacklevel\u001b[0m\u001b[0;34m=\u001b[0m\u001b[0mfind_stack_level\u001b[0m\u001b[0;34m(\u001b[0m\u001b[0;34m)\u001b[0m\u001b[0;34m,\u001b[0m\u001b[0;34m\u001b[0m\u001b[0;34m\u001b[0m\u001b[0m\n\u001b[1;32m    330\u001b[0m                 )\n\u001b[0;32m--> 331\u001b[0;31m             \u001b[0;32mreturn\u001b[0m \u001b[0mfunc\u001b[0m\u001b[0;34m(\u001b[0m\u001b[0;34m*\u001b[0m\u001b[0margs\u001b[0m\u001b[0;34m,\u001b[0m \u001b[0;34m**\u001b[0m\u001b[0mkwargs\u001b[0m\u001b[0;34m)\u001b[0m\u001b[0;34m\u001b[0m\u001b[0;34m\u001b[0m\u001b[0m\n\u001b[0m\u001b[1;32m    332\u001b[0m \u001b[0;34m\u001b[0m\u001b[0m\n\u001b[1;32m    333\u001b[0m         \u001b[0;31m# error: \"Callable[[VarArg(Any), KwArg(Any)], Any]\" has no\u001b[0m\u001b[0;34m\u001b[0m\u001b[0;34m\u001b[0m\u001b[0m\n",
            "\u001b[0;32m/usr/local/lib/python3.10/dist-packages/pandas/io/parsers/readers.py\u001b[0m in \u001b[0;36mread_csv\u001b[0;34m(filepath_or_buffer, sep, delimiter, header, names, index_col, usecols, squeeze, prefix, mangle_dupe_cols, dtype, engine, converters, true_values, false_values, skipinitialspace, skiprows, skipfooter, nrows, na_values, keep_default_na, na_filter, verbose, skip_blank_lines, parse_dates, infer_datetime_format, keep_date_col, date_parser, dayfirst, cache_dates, iterator, chunksize, compression, thousands, decimal, lineterminator, quotechar, quoting, doublequote, escapechar, comment, encoding, encoding_errors, dialect, error_bad_lines, warn_bad_lines, on_bad_lines, delim_whitespace, low_memory, memory_map, float_precision, storage_options)\u001b[0m\n\u001b[1;32m    948\u001b[0m     \u001b[0mkwds\u001b[0m\u001b[0;34m.\u001b[0m\u001b[0mupdate\u001b[0m\u001b[0;34m(\u001b[0m\u001b[0mkwds_defaults\u001b[0m\u001b[0;34m)\u001b[0m\u001b[0;34m\u001b[0m\u001b[0;34m\u001b[0m\u001b[0m\n\u001b[1;32m    949\u001b[0m \u001b[0;34m\u001b[0m\u001b[0m\n\u001b[0;32m--> 950\u001b[0;31m     \u001b[0;32mreturn\u001b[0m \u001b[0m_read\u001b[0m\u001b[0;34m(\u001b[0m\u001b[0mfilepath_or_buffer\u001b[0m\u001b[0;34m,\u001b[0m \u001b[0mkwds\u001b[0m\u001b[0;34m)\u001b[0m\u001b[0;34m\u001b[0m\u001b[0;34m\u001b[0m\u001b[0m\n\u001b[0m\u001b[1;32m    951\u001b[0m \u001b[0;34m\u001b[0m\u001b[0m\n\u001b[1;32m    952\u001b[0m \u001b[0;34m\u001b[0m\u001b[0m\n",
            "\u001b[0;32m/usr/local/lib/python3.10/dist-packages/pandas/io/parsers/readers.py\u001b[0m in \u001b[0;36m_read\u001b[0;34m(filepath_or_buffer, kwds)\u001b[0m\n\u001b[1;32m    603\u001b[0m \u001b[0;34m\u001b[0m\u001b[0m\n\u001b[1;32m    604\u001b[0m     \u001b[0;31m# Create the parser.\u001b[0m\u001b[0;34m\u001b[0m\u001b[0;34m\u001b[0m\u001b[0m\n\u001b[0;32m--> 605\u001b[0;31m     \u001b[0mparser\u001b[0m \u001b[0;34m=\u001b[0m \u001b[0mTextFileReader\u001b[0m\u001b[0;34m(\u001b[0m\u001b[0mfilepath_or_buffer\u001b[0m\u001b[0;34m,\u001b[0m \u001b[0;34m**\u001b[0m\u001b[0mkwds\u001b[0m\u001b[0;34m)\u001b[0m\u001b[0;34m\u001b[0m\u001b[0;34m\u001b[0m\u001b[0m\n\u001b[0m\u001b[1;32m    606\u001b[0m \u001b[0;34m\u001b[0m\u001b[0m\n\u001b[1;32m    607\u001b[0m     \u001b[0;32mif\u001b[0m \u001b[0mchunksize\u001b[0m \u001b[0;32mor\u001b[0m \u001b[0miterator\u001b[0m\u001b[0;34m:\u001b[0m\u001b[0;34m\u001b[0m\u001b[0;34m\u001b[0m\u001b[0m\n",
            "\u001b[0;32m/usr/local/lib/python3.10/dist-packages/pandas/io/parsers/readers.py\u001b[0m in \u001b[0;36m__init__\u001b[0;34m(self, f, engine, **kwds)\u001b[0m\n\u001b[1;32m   1440\u001b[0m \u001b[0;34m\u001b[0m\u001b[0m\n\u001b[1;32m   1441\u001b[0m         \u001b[0mself\u001b[0m\u001b[0;34m.\u001b[0m\u001b[0mhandles\u001b[0m\u001b[0;34m:\u001b[0m \u001b[0mIOHandles\u001b[0m \u001b[0;34m|\u001b[0m \u001b[0;32mNone\u001b[0m \u001b[0;34m=\u001b[0m \u001b[0;32mNone\u001b[0m\u001b[0;34m\u001b[0m\u001b[0;34m\u001b[0m\u001b[0m\n\u001b[0;32m-> 1442\u001b[0;31m         \u001b[0mself\u001b[0m\u001b[0;34m.\u001b[0m\u001b[0m_engine\u001b[0m \u001b[0;34m=\u001b[0m \u001b[0mself\u001b[0m\u001b[0;34m.\u001b[0m\u001b[0m_make_engine\u001b[0m\u001b[0;34m(\u001b[0m\u001b[0mf\u001b[0m\u001b[0;34m,\u001b[0m \u001b[0mself\u001b[0m\u001b[0;34m.\u001b[0m\u001b[0mengine\u001b[0m\u001b[0;34m)\u001b[0m\u001b[0;34m\u001b[0m\u001b[0;34m\u001b[0m\u001b[0m\n\u001b[0m\u001b[1;32m   1443\u001b[0m \u001b[0;34m\u001b[0m\u001b[0m\n\u001b[1;32m   1444\u001b[0m     \u001b[0;32mdef\u001b[0m \u001b[0mclose\u001b[0m\u001b[0;34m(\u001b[0m\u001b[0mself\u001b[0m\u001b[0;34m)\u001b[0m \u001b[0;34m->\u001b[0m \u001b[0;32mNone\u001b[0m\u001b[0;34m:\u001b[0m\u001b[0;34m\u001b[0m\u001b[0;34m\u001b[0m\u001b[0m\n",
            "\u001b[0;32m/usr/local/lib/python3.10/dist-packages/pandas/io/parsers/readers.py\u001b[0m in \u001b[0;36m_make_engine\u001b[0;34m(self, f, engine)\u001b[0m\n\u001b[1;32m   1733\u001b[0m                 \u001b[0;32mif\u001b[0m \u001b[0;34m\"b\"\u001b[0m \u001b[0;32mnot\u001b[0m \u001b[0;32min\u001b[0m \u001b[0mmode\u001b[0m\u001b[0;34m:\u001b[0m\u001b[0;34m\u001b[0m\u001b[0;34m\u001b[0m\u001b[0m\n\u001b[1;32m   1734\u001b[0m                     \u001b[0mmode\u001b[0m \u001b[0;34m+=\u001b[0m \u001b[0;34m\"b\"\u001b[0m\u001b[0;34m\u001b[0m\u001b[0;34m\u001b[0m\u001b[0m\n\u001b[0;32m-> 1735\u001b[0;31m             self.handles = get_handle(\n\u001b[0m\u001b[1;32m   1736\u001b[0m                 \u001b[0mf\u001b[0m\u001b[0;34m,\u001b[0m\u001b[0;34m\u001b[0m\u001b[0;34m\u001b[0m\u001b[0m\n\u001b[1;32m   1737\u001b[0m                 \u001b[0mmode\u001b[0m\u001b[0;34m,\u001b[0m\u001b[0;34m\u001b[0m\u001b[0;34m\u001b[0m\u001b[0m\n",
            "\u001b[0;32m/usr/local/lib/python3.10/dist-packages/pandas/io/common.py\u001b[0m in \u001b[0;36mget_handle\u001b[0;34m(path_or_buf, mode, encoding, compression, memory_map, is_text, errors, storage_options)\u001b[0m\n\u001b[1;32m    854\u001b[0m         \u001b[0;32mif\u001b[0m \u001b[0mioargs\u001b[0m\u001b[0;34m.\u001b[0m\u001b[0mencoding\u001b[0m \u001b[0;32mand\u001b[0m \u001b[0;34m\"b\"\u001b[0m \u001b[0;32mnot\u001b[0m \u001b[0;32min\u001b[0m \u001b[0mioargs\u001b[0m\u001b[0;34m.\u001b[0m\u001b[0mmode\u001b[0m\u001b[0;34m:\u001b[0m\u001b[0;34m\u001b[0m\u001b[0;34m\u001b[0m\u001b[0m\n\u001b[1;32m    855\u001b[0m             \u001b[0;31m# Encoding\u001b[0m\u001b[0;34m\u001b[0m\u001b[0;34m\u001b[0m\u001b[0m\n\u001b[0;32m--> 856\u001b[0;31m             handle = open(\n\u001b[0m\u001b[1;32m    857\u001b[0m                 \u001b[0mhandle\u001b[0m\u001b[0;34m,\u001b[0m\u001b[0;34m\u001b[0m\u001b[0;34m\u001b[0m\u001b[0m\n\u001b[1;32m    858\u001b[0m                 \u001b[0mioargs\u001b[0m\u001b[0;34m.\u001b[0m\u001b[0mmode\u001b[0m\u001b[0;34m,\u001b[0m\u001b[0;34m\u001b[0m\u001b[0;34m\u001b[0m\u001b[0m\n",
            "\u001b[0;31mFileNotFoundError\u001b[0m: [Errno 2] No such file or directory: 'train.csv@'"
          ]
        }
      ]
    },
    {
      "cell_type": "code",
      "source": [
        "df['text'][15]"
      ],
      "metadata": {
        "id": "3mr4WrwHZ0pv"
      },
      "execution_count": null,
      "outputs": []
    },
    {
      "cell_type": "markdown",
      "source": [
        "## Step 4: Overview of AutoTrain command\n",
        "\n",
        "#### Short overview of what the command flags do.\n",
        "\n",
        "- `!autotrain`: Command executed in environments like a Jupyter notebook to run shell commands directly. `autotrain` is an automatic training utility.\n",
        "\n",
        "- `llm`: A sub-command or argument specifying the type of task\n",
        "\n",
        "- `--train`: Initiates the training process.\n",
        "\n",
        "- `--project_name`: Sets the name of the project\n",
        "\n",
        "- `--model abhishek/llama-2-7b-hf-small-shards`: Specifies original model that is hosted on Hugging Face named \"llama-2-7b-hf-small-shards\" under the \"abhishek\".\n",
        "\n",
        "- `--data_path .`: The path to the dataset for training. The \".\" refers to the current directory. The `train.csv` file needs to be located in this directory.\n",
        "\n",
        "- `--use_int4`: Use of INT4 quantization to reduce model size and speed up inference times at the cost of some precision.\n",
        "\n",
        "- `--learning_rate 2e-4`: Sets the learning rate for training to 0.0002.\n",
        "\n",
        "- `--train_batch_size 12`: Sets the batch size for training to 12.\n",
        "\n",
        "- `--num_train_epochs 3`: The training process will iterate over the dataset 3 times.\n",
        "\n",
        "### Steps needed before running\n",
        "Go to the `!autotrain` code cell below and update it by following the steps below:\n",
        "\n",
        "1. After `--project_name` replace `*enter-a-project-name*` with the name that you'd like to call the project\n",
        "2. After `--repo_id` replace `*username*/*repository*`. Replace `*username*` with your Hugging Face username and `*repository*` with the repository name you'd like it to be created under. You don't need to create this repository before hand, it will automatically be created and uploaded once the training is completed.\n",
        "3. Confirm that `train.csv` is in the root directory in the Colab. The `--data_path .` flag will make it so that AutoTrain looks for your data there.\n",
        "4. Make sure to add the LoRA Target Modules to be trained `--target-modules q_proj, v_proj`\n",
        "5. Once you've made these changes you're all set, run the command below!"
      ],
      "metadata": {
        "id": "LEFbHxoPaDE_"
      }
    },
    {
      "cell_type": "code",
      "source": [
        "!autotrain llm --train --project_name mistral-7b-mj-finetuned --model bn22/Mistral-7B-Instruct-v0.1-sharded --data_path . --use_peft --use_int4 --learning_rate 2e-4 --train_batch_size 12 --num_train_epochs 3 --trainer sft --target_modules q_proj,v_proj --push_to_hub --repo_id ashishpatel26/mistral-7b-mj-finetuned"
      ],
      "metadata": {
        "id": "wFS31VJsZ-pa"
      },
      "execution_count": null,
      "outputs": []
    },
    {
      "cell_type": "markdown",
      "source": [
        "## Step 5: Completed 🎉\n",
        "After the command above is completed your Model will be uploaded to Hugging Face.\n",
        "\n",
        "#### Learn more about AutoTrain (optional)\n",
        "If you want to learn more about what command-line flags are available"
      ],
      "metadata": {
        "id": "gEf6G0iPc0Nr"
      }
    },
    {
      "cell_type": "markdown",
      "source": [
        "## Step 6: Inference Engine"
      ],
      "metadata": {
        "id": "FIoxuAEAfJ4z"
      }
    },
    {
      "cell_type": "code",
      "source": [
        "!autotrain llm -h"
      ],
      "metadata": {
        "id": "aYsYyXmrc0xu"
      },
      "execution_count": null,
      "outputs": []
    },
    {
      "cell_type": "code",
      "source": [
        "!pip install -q peft  accelerate bitsandbytes safetensors"
      ],
      "metadata": {
        "id": "5m1ouhWhc2fr"
      },
      "execution_count": null,
      "outputs": []
    },
    {
      "cell_type": "code",
      "source": [
        "import torch\n",
        "from peft import PeftModel\n",
        "from transformers import AutoModelForCausalLM, AutoTokenizer\n",
        "import transformers\n",
        "adapters_name = \"ashishpatel26/mistral-7b-mj-finetuned\"\n",
        "model_name = \"bn22/Mistral-7B-Instruct-v0.1-sharded\" #\"mistralai/Mistral-7B-Instruct-v0.1\"\n",
        "\n",
        "\n",
        "device = \"cuda\" # the device to load the model onto"
      ],
      "metadata": {
        "id": "8s-nDnnPc--U"
      },
      "execution_count": null,
      "outputs": []
    },
    {
      "cell_type": "code",
      "source": [
        "bnb_config = transformers.BitsAndBytesConfig(\n",
        "    load_in_4bit=True,\n",
        "    bnb_4bit_use_double_quant=True,\n",
        "    bnb_4bit_quant_type=\"nf4\",\n",
        "    bnb_4bit_compute_dtype=torch.bfloat16\n",
        ")"
      ],
      "metadata": {
        "id": "HosPywN_dEpl"
      },
      "execution_count": null,
      "outputs": []
    },
    {
      "cell_type": "code",
      "source": [
        "model = AutoModelForCausalLM.from_pretrained(\n",
        "    model_name,\n",
        "    load_in_4bit=True,\n",
        "    torch_dtype=torch.bfloat16,\n",
        "    quantization_config=bnb_config,\n",
        "    device_map='auto'\n",
        ")"
      ],
      "metadata": {
        "colab": {
          "base_uri": "https://localhost:8080/",
          "height": 49,
          "referenced_widgets": [
            "fcb820b4909e413e98603c195818e0d4",
            "6b0a6739adbe41e8a5c34f8a8868b977",
            "0b9514defba84991b4f36485b7e630fb",
            "6a7973751e4d4ca08ef4c53c97103868",
            "0deb9610aaff49c488b6e89139fe31df",
            "89f149a2080f4721a483ff535b6e6602",
            "4f62c475347944d6b18ce79d125386fc",
            "996db8f083904106913a3e4b4d6627c9",
            "f6b2ea40822a41899aae6768c5a34c73",
            "4523834103534e2b9fb804bdb5265a1e",
            "3912010e0694457f9f777c1bbb996967"
          ]
        },
        "id": "GtZx4CZUdt1f",
        "outputId": "c01df71d-a70e-48d3-d651-0061856f1b57"
      },
      "execution_count": null,
      "outputs": [
        {
          "output_type": "display_data",
          "data": {
            "text/plain": [
              "Loading checkpoint shards:   0%|          | 0/11 [00:00<?, ?it/s]"
            ],
            "application/vnd.jupyter.widget-view+json": {
              "version_major": 2,
              "version_minor": 0,
              "model_id": "fcb820b4909e413e98603c195818e0d4"
            }
          },
          "metadata": {}
        }
      ]
    },
    {
      "cell_type": "markdown",
      "source": [
        "## Step 7: Peft Model Loading with upload model"
      ],
      "metadata": {
        "id": "Uh5Xc0clfQkZ"
      }
    },
    {
      "cell_type": "code",
      "source": [
        "model = PeftModel.from_pretrained(model, adapters_name)"
      ],
      "metadata": {
        "id": "Rt6sOPFVdvWX"
      },
      "execution_count": null,
      "outputs": []
    },
    {
      "cell_type": "code",
      "source": [
        "tokenizer = AutoTokenizer.from_pretrained(model_name)\n",
        "tokenizer.bos_token_id = 1\n",
        "\n",
        "stop_token_ids = [0]\n",
        "\n",
        "print(f\"Successfully loaded the model {model_name} into memory\")"
      ],
      "metadata": {
        "colab": {
          "base_uri": "https://localhost:8080/"
        },
        "id": "q3OArVILeoZH",
        "outputId": "af68bc96-c9a8-4801-f8d6-5f2095101988"
      },
      "execution_count": null,
      "outputs": [
        {
          "output_type": "stream",
          "name": "stderr",
          "text": [
            "Special tokens have been added in the vocabulary, make sure the associated word embeddings are fine-tuned or trained.\n"
          ]
        },
        {
          "output_type": "stream",
          "name": "stdout",
          "text": [
            "Successfully loaded the model bn22/Mistral-7B-Instruct-v0.1-sharded into memory\n"
          ]
        }
      ]
    },
    {
      "cell_type": "code",
      "source": [
        "text = \"[INST] generate a midjourney prompt for A person walks in the rain [/INST]\"\n",
        "\n",
        "encoded = tokenizer(text, return_tensors=\"pt\", add_special_tokens=False)\n",
        "model_input = encoded\n",
        "model.to(device)\n",
        "generated_ids = model.generate(**model_input, max_new_tokens=200, do_sample=True)\n",
        "decoded = tokenizer.batch_decode(generated_ids)\n",
        "print(decoded[0])"
      ],
      "metadata": {
        "colab": {
          "base_uri": "https://localhost:8080/"
        },
        "id": "ZbOOX8cve0lR",
        "outputId": "3052b329-7bf5-4bb4-bec5-b71e881bbc21"
      },
      "execution_count": null,
      "outputs": [
        {
          "output_type": "stream",
          "name": "stderr",
          "text": [
            "Setting `pad_token_id` to `eos_token_id`:2 for open-end generation.\n",
            "/usr/local/lib/python3.10/dist-packages/transformers/generation/utils.py:1539: UserWarning: You are calling .generate() with the `input_ids` being on a device type different than your model's device. `input_ids` is on cpu, whereas the model is on cuda. You may experience unexpected behaviors or slower generation. Please make sure that you have put `input_ids` to the correct device by calling for example input_ids = input_ids.to('cuda') before running `.generate()`.\n",
            "  warnings.warn(\n"
          ]
        },
        {
          "output_type": "stream",
          "name": "stdout",
          "text": [
            "[INST] generate a midjourney prompt for A person walks in the rain [/INST] \"As you wander through the pouring rain, you can't help but wonder what the world would be like if things were different. What if the rain was a symbol of the turmoil in your life, and the sunshine promised a brighter future? What if you suddenly found yourself lost in a small town where time stood still, and the people were trapped in a time loop? As you struggle to find your way back to reality, you discover a mysterious stranger who seems to hold the key to unlocking the secrets of the town and your own past.\"</s>\n"
          ]
        }
      ]
    }
  ]
}