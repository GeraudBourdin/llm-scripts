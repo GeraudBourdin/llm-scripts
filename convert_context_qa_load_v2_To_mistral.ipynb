{
  "nbformat": 4,
  "nbformat_minor": 0,
  "metadata": {
    "colab": {
      "provenance": [],
      "authorship_tag": "ABX9TyOY7LbJJ+zsqE7t4PLBSvvu",
      "include_colab_link": true
    },
    "kernelspec": {
      "name": "python3",
      "display_name": "Python 3"
    },
    "language_info": {
      "name": "python"
    }
  },
  "cells": [
    {
      "cell_type": "markdown",
      "metadata": {
        "id": "view-in-github",
        "colab_type": "text"
      },
      "source": [
        "<a href=\"https://colab.research.google.com/github/GeraudBourdin/llm-scripts/blob/main/convert_context_qa_load_v2_To_mistral.ipynb\" target=\"_parent\"><img src=\"https://colab.research.google.com/assets/colab-badge.svg\" alt=\"Open In Colab\"/></a>"
      ]
    },
    {
      "cell_type": "markdown",
      "source": [
        "### convert context_qa.load_v2 To mistral"
      ],
      "metadata": {
        "id": "tAJwz5UEm9UT"
      }
    },
    {
      "cell_type": "code",
      "source": [
        "!pip install transformers mistral_common datasets"
      ],
      "metadata": {
        "id": "fXD4y1EgFeRU"
      },
      "execution_count": null,
      "outputs": []
    },
    {
      "cell_type": "code",
      "source": [
        "from datasets import Dataset, load_dataset\n",
        "import json\n",
        "from typing import Dict\n",
        "from mistral_common.protocol.instruct.request import ChatCompletionRequest\n",
        "from mistral_common.tokens.tokenizers.mistral import MistralTokenizer\n",
        "from transformers import AutoTokenizer\n",
        "\n",
        "mistralTokenizer = MistralTokenizer.v1()\n",
        "hf_tokenizer = AutoTokenizer.from_pretrained(\"mistralai/Mistral-7B-Instruct-v0.3\", revision=\"pr/51\")\n",
        "# ## variable servant a connaître le max de tokens de notre dataset\n",
        "# max_dataset_token_length = 0\n",
        "\n",
        "def format_data_from_mistral_common(data: Dict, instruct: str = '') -> Dict:\n",
        "    global max_dataset_token_length\n",
        "\n",
        "    dataset = {}\n",
        "    chat = conver_to_chat(data, instruct)\n",
        "\n",
        "    tokenized = mistralTokenizer.encode_chat_completion(ChatCompletionRequest(messages=chat))\n",
        "    dataset['chat'] = chat\n",
        "    dataset['json'] = data\n",
        "    dataset['text'] = tokenized.text.replace('[INST][/INST]', '').replace('▁[INST]▁▁[/INST]', '')\n",
        "    dataset['length'] = len(tokenized.tokens)\n",
        "    ## si jamais la taille de notre instruction dépasse la derniere\n",
        "    if dataset['length'] > max_dataset_token_length :\n",
        "      max_dataset_token_length = dataset['length']\n",
        "    return dataset\n",
        "\n",
        "def conver_to_chat(data: Dict, instruct: str = '') -> Dict:\n",
        "    prompt = \"\"\n",
        "    answer = \"\"\n",
        "    print(instruct)\n",
        "    if instruct != '':\n",
        "        prompt += instruct.strip()\n",
        "        prompt += \"\\n\"\n",
        "\n",
        "    if \"system_prompt\" in data:\n",
        "        prompt += data[\"system_prompt\"].strip()\n",
        "        prompt += \"\\n\"\n",
        "\n",
        "    if \"context\" in data:\n",
        "        prompt += data[\"context\"].strip()\n",
        "        prompt += \"\\n\"\n",
        "\n",
        "    if \"question\" in data:\n",
        "        prompt += data[\"question\"].strip()\n",
        "\n",
        "    if \"answer\" in data:\n",
        "        answer += data[\"answer\"].strip()\n",
        "\n",
        "    if \"response\" in data:\n",
        "        answer += data[\"response\"].strip()\n",
        "\n",
        "    chat = [\n",
        "      {\"role\": \"user\", \"content\": prompt},\n",
        "      {\"role\": \"assistant\", \"content\": answer},\n",
        "      {\"role\": \"user\", \"content\": \"\"},\n",
        "    ]\n",
        "    del prompt, answer\n",
        "    return chat\n",
        "\n",
        "def format_data_from_hf_tokenizer(data: Dict, instruct: str = '') -> Dict:\n",
        "    global max_dataset_token_length\n",
        "    global hf_tokenizer\n",
        "\n",
        "    dataset = {}\n",
        "    chat = conver_to_chat(data, instruct)\n",
        "\n",
        "    hf_text = hf_tokenizer.apply_chat_template(chat, tokenize=False)\n",
        "    hf_tokens = hf_tokenizer.apply_chat_template(chat, tokenize=True)\n",
        "\n",
        "    tokenized = mistralTokenizer.encode_chat_completion(ChatCompletionRequest(messages=chat))\n",
        "    dataset['chat'] = chat\n",
        "    dataset['json'] = data\n",
        "    dataset['text'] = hf_tokenizer.apply_chat_template(chat, tokenize=False).replace('[INST][/INST]', '').replace('▁[INST]▁▁[/INST]', '').replace('[INST] [/INST]', '')\n",
        "    dataset['length'] = len(hf_tokenizer.apply_chat_template(chat, tokenize=True))\n",
        "    ## si jamais la taille de notre instruction dépasse la derniere\n",
        "    if dataset['length'] > max_dataset_token_length :\n",
        "      max_dataset_token_length = dataset['length']\n",
        "    del chat, hf_text, hf_tokens\n",
        "    return dataset\n",
        "\n",
        "def get_dataset_from_file(file: str, mode: str = 'hf', instruct: str = '') -> Dataset:\n",
        "    global max_dataset_token_length\n",
        "\n",
        "    ## variable servant a connaître le max de tokens de notre dataset\n",
        "    max_dataset_token_length = 0\n",
        "\n",
        "    trainDatas = []\n",
        "    ## on ouvre le fichier\n",
        "    with open(file, 'r') as f:\n",
        "      ## on boucle sur chacune des lignes\n",
        "      for line in f:\n",
        "        ## on mets dans data un equivalent de json_decode()\n",
        "        data = json.loads(line)\n",
        "\n",
        "        if mode == 'hf':\n",
        "          ## on passe notre array json a note fonction chargée d'encoder nos informations\n",
        "          ## par huggingface chatTemplate\n",
        "          formatted_data = format_data_from_hf_tokenizer(data, instruct)\n",
        "        elif mode == 'mistral':\n",
        "          ## on passe notre array json a note fonction chargée d'encoder nos informations\n",
        "          ## par mistralcommom\n",
        "          formatted_data = format_data_from_mistral_common(data, instruct)\n",
        "        else:\n",
        "            raise ValueError('Invalid mode, mistral ou hf (for huggingface tokenizer) only.')\n",
        "\n",
        "        ## on pousse dans notre array les informations décodés\n",
        "        trainDatas.append(formatted_data)\n",
        "\n",
        "    ## On cree un objet Dataset (de hugging face) contenant notre array trainDatas\n",
        "    train_dataset = Dataset.from_dict({'text': [item['text'] for item in trainDatas] })\n",
        "\n",
        "    return {'dataset': train_dataset, 'max_token': max_dataset_token_length}\n",
        "\n",
        "#file = 'train.jsonl'\n",
        "file = 'test.jsonl'\n",
        "instruct = \"You are a nice bot.\"\n",
        "train_dataset = get_dataset_from_file(file, 'mistral', instruct)\n",
        "\n",
        "print(train_dataset['dataset'][0])\n",
        "print(train_dataset['max_token'])\n",
        "\n",
        "train_dataset = get_dataset_from_file(file, 'hf', instruct)\n",
        "\n",
        "print(train_dataset['dataset'][0])\n",
        "print(train_dataset['max_token'])\n",
        "\n",
        "\n",
        "train_dataset = get_dataset_from_file(file)\n",
        "\n",
        "print(train_dataset['dataset'][0])\n",
        "print(train_dataset['max_token'])"
      ],
      "metadata": {
        "colab": {
          "base_uri": "https://localhost:8080/"
        },
        "id": "beEsdfk4M4Zg",
        "outputId": "0f3bee88-1b87-4fe2-ab0b-10286fe3a068"
      },
      "execution_count": 38,
      "outputs": [
        {
          "output_type": "stream",
          "name": "stdout",
          "text": [
            "You are a nice bot.\n",
            "You are a nice bot.\n",
            "{'text': \"<s>▁[INST]▁You▁are▁a▁nice▁bot.<0x0A>Le▁texte▁décrit▁les▁avantages▁de▁la▁gamme▁de▁véhicules▁électriques▁Hyundai,▁qui▁comprend▁des▁modèles▁hybrides▁légers,▁hybrides,▁hybrides▁rechargeables,▁moteurs▁électriques▁et▁voitures▁à▁pile▁à▁hydrogène.▁Les▁clients▁peuvent▁consulter▁des▁conseillers▁connectés▁pour▁choisir▁leur▁modèle▁préféré,▁commander▁en▁ligne▁et▁utiliser▁le▁service▁Charge▁myHyundai▁pour▁recharger▁leur▁véhicule▁électrique▁partout▁en▁Europe.▁Hyundai▁offre▁également▁une▁garantie▁de▁5▁ans▁kilométrage▁illimité▁et▁une▁garantie▁de▁8▁ans▁pour▁la▁batterie▁haute▁tension▁de▁leurs▁véhicules▁hybrides,▁plug-in▁et▁électriques.▁Enfin,▁le▁service▁Cl!ck▁to▁Buy▁permet▁aux▁clients▁de▁rechercher,▁configurer▁et▁commander▁leur▁voiture▁en▁ligne.\\r▁#▁Commandez▁en▁ligne▁via▁Cl!ck▁to▁Buy<0x0A>Ce▁service▁vous▁permet▁de▁simplifier▁le▁processus▁d'acquisition▁en▁recherchant▁le▁modèle▁désiré▁selon▁les▁disponibilités.▁Vous▁pouvez▁le▁configurer▁et▁commander▁votre▁voiture▁en▁ligne▁en▁quelques▁clics▁seulement.▁#▁Reprise▁en▁ligne<0x0A>Estimer▁et▁revendre▁votre▁véhicule▁en▁toute▁confiance▁n’a▁jamais▁été▁aussi▁facile▁grâce▁au▁nouvel▁outil▁100%▁digital▁et▁ultra▁rapide▁de▁Hyundai.▁#▁Entrez▁dans▁le▁monde▁de▁la▁mobilité▁électrifiée.<0x0A>La▁gamme▁de▁véhicules▁électrifiés▁la▁plus▁large▁du▁marché.▁De▁l’hybridation▁légère▁48V▁à▁l’hybride▁et▁l’hybride▁rechargeable▁en▁passant▁par▁le▁moteur▁électrique▁ou▁la▁pile▁à▁hydrogène,▁Hyundai▁est▁la▁seule▁marque▁automobile▁à▁proposer▁un▁si▁large▁choix▁de▁voitures▁électriques▁et▁de▁motorisations▁électrifiées.▁#▁Charge▁MyHyundai<0x0A>Avec▁Charge▁myHyundai,▁nos▁clients▁bénéficient▁d’un▁service▁complet▁de▁recharge▁publique▁partout▁en▁Europe▁grâce▁à▁l’e-roaming▁–▁qui▁permet▁de▁recharger▁à▁partir▁de▁plusieurs▁bornes▁sans▁avoir▁à▁multiplier▁les▁contrats▁auprès▁d’autres▁fournisseurs.▁Le▁portail▁Charge▁myHyundai▁offre▁de▁nombreux▁services▁:▁carte▁du▁réseau▁de▁bornes,▁détails▁des▁produits,▁tarifs,▁factures▁et▁gestion▁du▁compte.▁#▁Garantie▁5▁ans▁kilométrage▁illimité<0x0A>5▁ans▁de▁garantie▁kilométrage▁illimité▁:▁Hyundai▁garantit▁ses▁produits▁pendant▁5▁ans▁quel▁que▁soit▁le▁kilométrage▁du▁véhicule.▁#▁Batterie▁haute▁tension▁garantie▁8▁ans<0x0A>La▁batterie▁haute-tension▁de▁nos▁véhicules▁hybrides▁,▁plug-in▁et▁électriques▁est▁garantie▁8▁ans▁ou▁160▁000▁km,▁premier▁terme▁échu.▁Voir▁conditions▁dans▁le▁manuel▁de▁garantie.▁#▁Hyundai▁Motor▁France▁|▁3ème▁groupe▁automobile▁mondial.<0x0A>Découvrez▁notre▁large▁gamme▁de▁véhicules▁électrifiés▁Hyundai.▁Profitez▁de▁services▁connectés▁et▁garanties▁exclusives.▁Entrez▁dans▁le▁futur▁de▁la▁mobilité▁électrifiée.▁#▁Conseiller▁connecté<0x0A>Découvrez▁votre▁modèle▁Hyundai▁préféré▁depuis▁chez▁vous.▁Discutez▁en▁vidéo▁avec▁le▁distributeur▁de▁votre▁choix▁pour▁en▁savoir▁plus▁sur▁le▁véhicule▁qui▁vous▁intéresse▁comme▁si▁vous▁étiez▁en▁concession.▁Prenez▁rendez-vous▁en▁ligne▁dès▁maintenant▁pour▁discuter▁avec▁un▁conseiller.<0x0A>Quels▁sont▁les▁types▁de▁véhicules▁électrifiés▁proposés▁par▁Hyundai▁?▁[/INST]▁Hyundai▁propose▁une▁gamme▁complète▁de▁véhicules▁électrifiés▁allant▁des▁voitures▁électriques▁aux▁motorisations▁électrifiées,▁en▁passant▁par▁les▁hybrides,▁plug-in▁et▁les▁véhicules▁à▁pile▁à▁hydrogène.</s>\"}\n",
            "971\n",
            "You are a nice bot.\n",
            "You are a nice bot.\n",
            "{'text': \"<s>[INST] You are a nice bot.\\nLe texte décrit les avantages de la gamme de véhicules électriques Hyundai, qui comprend des modèles hybrides légers, hybrides, hybrides rechargeables, moteurs électriques et voitures à pile à hydrogène. Les clients peuvent consulter des conseillers connectés pour choisir leur modèle préféré, commander en ligne et utiliser le service Charge myHyundai pour recharger leur véhicule électrique partout en Europe. Hyundai offre également une garantie de 5 ans kilométrage illimité et une garantie de 8 ans pour la batterie haute tension de leurs véhicules hybrides, plug-in et électriques. Enfin, le service Cl!ck to Buy permet aux clients de rechercher, configurer et commander leur voiture en ligne.\\r # Commandez en ligne via Cl!ck to Buy\\nCe service vous permet de simplifier le processus d'acquisition en recherchant le modèle désiré selon les disponibilités. Vous pouvez le configurer et commander votre voiture en ligne en quelques clics seulement. # Reprise en ligne\\nEstimer et revendre votre véhicule en toute confiance n’a jamais été aussi facile grâce au nouvel outil 100% digital et ultra rapide de Hyundai. # Entrez dans le monde de la mobilité électrifiée.\\nLa gamme de véhicules électrifiés la plus large du marché. De l’hybridation légère 48V à l’hybride et l’hybride rechargeable en passant par le moteur électrique ou la pile à hydrogène, Hyundai est la seule marque automobile à proposer un si large choix de voitures électriques et de motorisations électrifiées. # Charge MyHyundai\\nAvec Charge myHyundai, nos clients bénéficient d’un service complet de recharge publique partout en Europe grâce à l’e-roaming – qui permet de recharger à partir de plusieurs bornes sans avoir à multiplier les contrats auprès d’autres fournisseurs. Le portail Charge myHyundai offre de nombreux services : carte du réseau de bornes, détails des produits, tarifs, factures et gestion du compte. # Garantie 5 ans kilométrage illimité\\n5 ans de garantie kilométrage illimité : Hyundai garantit ses produits pendant 5 ans quel que soit le kilométrage du véhicule. # Batterie haute tension garantie 8 ans\\nLa batterie haute-tension de nos véhicules hybrides , plug-in et électriques est garantie 8 ans ou 160 000 km, premier terme échu. Voir conditions dans le manuel de garantie. # Hyundai Motor France | 3ème groupe automobile mondial.\\nDécouvrez notre large gamme de véhicules électrifiés Hyundai. Profitez de services connectés et garanties exclusives. Entrez dans le futur de la mobilité électrifiée. # Conseiller connecté\\nDécouvrez votre modèle Hyundai préféré depuis chez vous. Discutez en vidéo avec le distributeur de votre choix pour en savoir plus sur le véhicule qui vous intéresse comme si vous étiez en concession. Prenez rendez-vous en ligne dès maintenant pour discuter avec un conseiller.\\nQuels sont les types de véhicules électrifiés proposés par Hyundai ?[/INST] Hyundai propose une gamme complète de véhicules électrifiés allant des voitures électriques aux motorisations électrifiées, en passant par les hybrides, plug-in et les véhicules à pile à hydrogène.</s>\"}\n",
            "961\n",
            "\n",
            "\n",
            "{'text': \"<s>[INST] Le texte décrit les avantages de la gamme de véhicules électriques Hyundai, qui comprend des modèles hybrides légers, hybrides, hybrides rechargeables, moteurs électriques et voitures à pile à hydrogène. Les clients peuvent consulter des conseillers connectés pour choisir leur modèle préféré, commander en ligne et utiliser le service Charge myHyundai pour recharger leur véhicule électrique partout en Europe. Hyundai offre également une garantie de 5 ans kilométrage illimité et une garantie de 8 ans pour la batterie haute tension de leurs véhicules hybrides, plug-in et électriques. Enfin, le service Cl!ck to Buy permet aux clients de rechercher, configurer et commander leur voiture en ligne.\\r # Commandez en ligne via Cl!ck to Buy\\nCe service vous permet de simplifier le processus d'acquisition en recherchant le modèle désiré selon les disponibilités. Vous pouvez le configurer et commander votre voiture en ligne en quelques clics seulement. # Reprise en ligne\\nEstimer et revendre votre véhicule en toute confiance n’a jamais été aussi facile grâce au nouvel outil 100% digital et ultra rapide de Hyundai. # Entrez dans le monde de la mobilité électrifiée.\\nLa gamme de véhicules électrifiés la plus large du marché. De l’hybridation légère 48V à l’hybride et l’hybride rechargeable en passant par le moteur électrique ou la pile à hydrogène, Hyundai est la seule marque automobile à proposer un si large choix de voitures électriques et de motorisations électrifiées. # Charge MyHyundai\\nAvec Charge myHyundai, nos clients bénéficient d’un service complet de recharge publique partout en Europe grâce à l’e-roaming – qui permet de recharger à partir de plusieurs bornes sans avoir à multiplier les contrats auprès d’autres fournisseurs. Le portail Charge myHyundai offre de nombreux services : carte du réseau de bornes, détails des produits, tarifs, factures et gestion du compte. # Garantie 5 ans kilométrage illimité\\n5 ans de garantie kilométrage illimité : Hyundai garantit ses produits pendant 5 ans quel que soit le kilométrage du véhicule. # Batterie haute tension garantie 8 ans\\nLa batterie haute-tension de nos véhicules hybrides , plug-in et électriques est garantie 8 ans ou 160 000 km, premier terme échu. Voir conditions dans le manuel de garantie. # Hyundai Motor France | 3ème groupe automobile mondial.\\nDécouvrez notre large gamme de véhicules électrifiés Hyundai. Profitez de services connectés et garanties exclusives. Entrez dans le futur de la mobilité électrifiée. # Conseiller connecté\\nDécouvrez votre modèle Hyundai préféré depuis chez vous. Discutez en vidéo avec le distributeur de votre choix pour en savoir plus sur le véhicule qui vous intéresse comme si vous étiez en concession. Prenez rendez-vous en ligne dès maintenant pour discuter avec un conseiller.\\nQuels sont les types de véhicules électrifiés proposés par Hyundai ?[/INST] Hyundai propose une gamme complète de véhicules électrifiés allant des voitures électriques aux motorisations électrifiées, en passant par les hybrides, plug-in et les véhicules à pile à hydrogène.</s>\"}\n",
            "954\n"
          ]
        }
      ]
    }
  ]
}