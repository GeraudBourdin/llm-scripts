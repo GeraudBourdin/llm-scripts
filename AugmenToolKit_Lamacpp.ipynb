{
  "cells": [
    {
      "cell_type": "markdown",
      "source": [
        "# Installation"
      ],
      "metadata": {
        "id": "aaFr0CgkCW8W"
      }
    },
    {
      "cell_type": "markdown",
      "source": [
        "*important you need to set verbose=True on Llamacpp args in order to make this workging on collab.*"
      ],
      "metadata": {
        "id": "b_Fh6xFn-TZL"
      }
    },
    {
      "cell_type": "code",
      "source": [],
      "metadata": {
        "id": "V5yegnGkCWhY"
      },
      "execution_count": null,
      "outputs": []
    },
    {
      "cell_type": "code",
      "source": [
        "!df -h /content\n",
        "!cat /proc/meminfo | grep MemTotal\n",
        "!nvidia-smi"
      ],
      "metadata": {
        "id": "e-tVsKEI0IZn"
      },
      "execution_count": null,
      "outputs": []
    },
    {
      "cell_type": "code",
      "source": [
        "!CMAKE_ARGS=\"-DLLAMA_CUBLAS=on\" FORCE_CMAKE=1 pip install llama-cpp-python"
      ],
      "metadata": {
        "id": "DL4RGFBh0fEz"
      },
      "execution_count": null,
      "outputs": []
    },
    {
      "cell_type": "code",
      "source": [
        "## run once restart vm, run a second time\n",
        "\n",
        "!apt install -y build-essential\n",
        "!pip install -q condacolab\n",
        "import condacolab\n",
        "condacolab.install()\n",
        "\n",
        "!conda install -y cmake\n",
        "!conda install -y cuda-toolkit cuda-nvcc"
      ],
      "metadata": {
        "id": "xfYb0jXx0J38"
      },
      "execution_count": null,
      "outputs": []
    },
    {
      "cell_type": "code",
      "source": [
        "import condacolab\n",
        "condacolab.check()"
      ],
      "metadata": {
        "id": "iL-_gkBi0GCn"
      },
      "execution_count": null,
      "outputs": []
    },
    {
      "cell_type": "code",
      "source": [
        "!pip install  kaleido python-multipart cohere\n"
      ],
      "metadata": {
        "id": "PW1vy0qK6k0L"
      },
      "execution_count": null,
      "outputs": []
    },
    {
      "cell_type": "code",
      "source": [
        "%env HF_HUB_ENABLE_HF_TRANSFER=1\n",
        "\n",
        "!mkdir -p logical_model\n",
        "!rm -Rf augmentool\n",
        "!pip install --upgrade pip\n",
        "!pip install kaleido python-multipart cohere\n",
        "!pip install -Uqq protobuf sentencepiece transformers matplotlib nltk aphrodite-engine hf-transfer ipdb huggingface-hub\n",
        "!pip cache purge\n",
        "\n",
        "!git clone  --branch master https://github.com/e-p-armstrong/augmentool.git\n",
        "!mv -f augmentool/* .\n",
        "\n",
        "!huggingface-cli download TheBloke/FlatOrcamaid-13B-v0.2-GGUF flatorcamaid-13b-v0.2.Q6_K.gguf --local-dir logical_model --local-dir-use-symlinks False\n",
        "!huggingface-cli download TheBloke/Airoboros-L2-70B-3.1.2-GGUF airoboros-l2-70b-3.1.2.Q4_K_M.gguf --local-dir logical_model --local-dir-use-symlinks False\n",
        "\n",
        "\n",
        "import ipdb"
      ],
      "metadata": {
        "id": "8gFC8igq0FLg"
      },
      "execution_count": null,
      "outputs": []
    },
    {
      "cell_type": "markdown",
      "source": [
        "# Personnal config"
      ],
      "metadata": {
        "id": "1Aqr9mqNCc8S"
      }
    },
    {
      "cell_type": "code",
      "source": [
        "##############################################################\n",
        "##         YOUR PERSONNAL COLLAB CONFIG\n",
        "##############################################################\n",
        "\n",
        "LOGICAL_MODEL = \"./logical_model/flatorcamaid-13b-v0.2.Q6_K.gguf\"\n",
        "\n",
        "LARGE_LOGICAL_MODEL = \"./logical_model/airoboros-l2-70b-3.1.2.Q4_K_M.gguf\"\n",
        "\n",
        "ASSISTANT_MODE = True\n",
        "\n",
        "DOUBLE_CHECK_COUNTER = 3\n",
        "\n",
        "USE_SUBSET = True\n",
        "\n",
        "REARRANGEMENTS_TO_TAKE = 3\n",
        "\n",
        "source_texts = [\n",
        "    \"Simple Sabotage, by the Office of Strategic Services, published 1944.txt\"\n",
        "]\n",
        "\n",
        "TEXT_MANUALLY_CLEANED=False\n"
      ],
      "metadata": {
        "id": "oVSV4c391SgW"
      },
      "execution_count": 8,
      "outputs": []
    },
    {
      "cell_type": "markdown",
      "metadata": {
        "id": "VRZbUIxnz8SO"
      },
      "source": [
        "# Welcome to Augmentoolkit\n",
        "\n",
        "This notebook is where you generate all your data.\n",
        "\n",
        "Augmentoolkit is meant to allow instruct-tuned models to learn from books, even using themselves to generate new data through a sort-of bootstrapping method. It is meant to stop model creators from having to work as data annotators, and not actual model trainers. It is meant to allow anyone to make their own high-quality dataset with thousands of entries.\n",
        "\n",
        "## Quickstart:\n",
        "\n",
        "- Get this notebook and the other repo code onto a machine with the power to run Airoboros-l2-70b-3.1.2.Q4_K_M\n",
        "- Put the model into ./logical_models (relative to this notebook).\n",
        "- Run all the cells below and watch as the notebook generates questions, answers, and conversations based on Principles of Chemistry, Simple Sabotage, and Introduction to Philosophy.\n",
        "\n",
        "If you want to add your own texts, follow the instructions in list item #1 above.\n",
        "\n",
        "### Note: this notebook makes roughly 1/3 characters generated to be **mildly NSFW** by default. You will need to modify the character personality code in `./generation_functions/special_instructions.py` or use \"Assistant mode\" if you want something cleaner.\n",
        "\n",
        "## Customization:\n",
        "### Here are some ways you can adapt this notebook to your use case, along with a brief description of how to do so, arranged in increasing order of difficulty (this information is also available in the README):\n",
        "1. ***Change the source texts used to generate training data.*** You can do this in the cell right below this one. **IMPORTANT** the filenames of these should be formatted in a specific way, since the filenames are used as part of the prompts and in at least one regex. You need to have them be like: `[textname], by authorname`. You can also include the publication date after the author name if you want, but note that this will tend to bias most of the characters to live in the era of the textbook, which may or may not be what you want.\n",
        "\n",
        "2. ***Change the personalities of the characters generated.*** Currently, when generating characters for the multiturn conversation step, three randomly-selected traits are appended to the \"special instructions\" set of the prompt to constrain what kind of character is generated by the model. Depending on what kind of model you want to make, or even just if your preferences vary, then you will probably want to modify this a bit. You can do so in `./generation_functions/special_instructions.py`. A more in-depth description of the trait-axis system that I (over)thought up is available in the comments of that file.\n",
        "\n",
        "3. ***Change the constants.*** There are a few constant values in this notebook, and in `./generation_functions/constant_values.py`. These constants are tested, but if your use case requires special settings (e.g., you want to make conversations from more permutations of existing questions; or you think the character counts for the \"duplicate question/answer\" validation functions are too restrictive) then feel free to change the related setting. The most intuitive and least-likely-to-break-anything settings to change are rearrangements_to_take and double_check_counter. Beyond that... you'll need to figure out what the function does before changing it if you expect it to run.\n",
        "\n",
        "4. ***Assistant Mode*** Technically this could be considered part of 3), but it's different enough that I feel it warrants separate explanation. By default, the notebook is configured to produce RP-style data; \"Assistant mode\" is something you can toggle in the settings cell immediately below this one, which skips character and scenario generation and answers every question in a chat between a user and a helpful AI assistant (with no personality). In the limited testing I have done with this, **it seems that assistant mode is simple enough to work with 13b models** such as Flatorcamaid by Ikari. So if your compute or time are very limited, or you are using this for a more professional use case, feel free to turn this on.\n",
        "\n",
        "5. ***Change the model.*** This is as simple as switching the LOGICAL_MODEL parameter out for another one, but your mileage may vary, significantly. You will also have to adjust RoPE scaling for non-llama 2 models -- e.g., if you're using Mixtral, don't leave `rope_freq_scale=0.33`, which 3xes the context (you do not need 96k context, only 12k).\n",
        "\n",
        "6. ***Change the examples.*** If you change the examples you can completely overhaul what this notebook does, but this requires a lot of prompting skill and possibly huge amounts of time to get it working again (source: most of my last three months were spent prompting, and most of this prompting was spent on the examples). Unless you want to convert this notebook from question-and-answer generation to some completely other task, I'd recommend changing only the conversation generation prompts -- they're a bit less finnicky, and if you just want to change the kind of characters generated (maybe you want a different writing style) that's where you'd find the differences.\n",
        "\n"
      ]
    },
    {
      "cell_type": "code",
      "execution_count": null,
      "metadata": {
        "id": "4YAPDntWz8SP"
      },
      "outputs": [],
      "source": [
        "# NOTE NOTEBOOK SETTINGS AND CONSTANTS (some script file constants are in generation_functions/constants.py)\n",
        "\n",
        "# Put your desired quant of your desired model in the relevant directories\n",
        "\n",
        "\n",
        "# \"airoboros-l2-70b-3.1.2.Q4_K_M.gguf\" <- recommended for the large logical model\n",
        "# \"flatorcamaid-13b-v0.2.Q8_0.gguf\" <- recommended for the normal logical model\n",
        "# A6000s on Vast.ai are a good choice for running this notebook\n",
        "\n",
        "LOGICAL_MODEL = \"./logical_model/flatorcamaid-13b-v0.2.Q8_0.gguf\"  # model used for decision-making and base question generation (should be \"smart\")\n",
        "LARGE_LOGICAL_MODEL = \"./logical_model/airoboros-l2-70b-3.1.2.Q4_K_M.gguf\"\n",
        "ASSISTANT_MODE = False  # change to true if you want all conversations to be with an \"AI language model\" and not characters. Useful for more professional use cases.\n",
        "DOUBLE_CHECK_COUNTER = 3  # Set to 1 to check outputs only once; set to 2 to check twice; set to 3 to check thrice, etc. Set to 0 to break everything in vet_question_loop() and elsewhere. Set to -1 and cause the universe to implode?\n",
        "\n",
        "REARRANGEMENTS_TO_TAKE = 3  # How many of the possible permutations of tuples in a group to take and make multiturn convs out of. Adjust higher to get more data out of less text, but it might be a bit repetitive. NOTE your eval loss will be basically worthless if you aren't careful with how you shuffle your dataset when you're about to train.\n",
        "\n",
        "TEXT_MANUALLY_CLEANED = False  # If you've manually cut out all the parts of the text not worthy for questions, you can skip the first LLM step. NOTE I might actually recommend doing this if your source text is small, given how permissive the filtering prompt is; it really only disallows metadata.\n",
        "\n",
        "source_texts = [\n",
        "    \"Simple Sabotage, by the Office of Strategic Services, published 1944.txt\",\n",
        "    \"Principles of Chemistry, by Demitry Mendeleev, published 1897.txt\",\n",
        "]"
      ]
    },
    {
      "cell_type": "markdown",
      "metadata": {
        "id": "rpwMd1y1z8SQ"
      },
      "source": [
        "# Below: Defines and imports functions that you will probably use no matter what cells in the notebook you choose to run:\n",
        "\n",
        "### Also: The below will absolutely flood your terminal, due to heavy gbnf grammar use. I don't think this can be configured. Be prepared to scroll to reach the next cell."
      ]
    },
    {
      "cell_type": "code",
      "execution_count": null,
      "metadata": {
        "id": "hKx__RZKz8SQ"
      },
      "outputs": [],
      "source": [
        "import os\n",
        "import uuid\n",
        "\n",
        "multi_turn_convs_info_dir = \"./multi_turn_convs_info\"  # we generate all the information fed to the multiturn prompt, and generate the actual multiturn prompt, separately; since every step but the last is capable of being done by a 13b\n",
        "\n",
        "\n",
        "def make_id():\n",
        "    return str(uuid.uuid4())\n",
        "\n",
        "\n",
        "def write_output_to_file(output, directory, uuid):\n",
        "    # Ensure directory exists\n",
        "    if not os.path.exists(directory):\n",
        "        os.makedirs(directory)\n",
        "\n",
        "    # Define the file path using the directory and UUID\n",
        "    file_path = os.path.join(directory, f\"{uuid}.txt\")\n",
        "\n",
        "    # Write the output to the file\n",
        "    with open(file_path, \"w\") as file:\n",
        "        file.write(output)\n",
        "\n",
        "    print(f\"Output written to {file_path}\")\n",
        "\n",
        "    # This is in no way best practices, but all my prompts being searchable and separate files is a good way to make my life easier.\n",
        "\n",
        "\n",
        "import pkgutil\n",
        "import importlib\n",
        "import generation_functions  # This is the package directory\n",
        "import sys\n",
        "\n",
        "sys.path.append(\"./generation_functions\")\n",
        "\n",
        "# First, import all modules so they can be reloaded\n",
        "for _, module_name, _ in pkgutil.iter_modules(\n",
        "    generation_functions.__path__, generation_functions.__name__ + \".\"\n",
        "):\n",
        "    importlib.import_module(module_name)\n",
        "\n",
        "# Now, reload each module and import all callable attributes\n",
        "for _, module_name, _ in pkgutil.iter_modules(\n",
        "    generation_functions.__path__, generation_functions.__name__ + \".\"\n",
        "):\n",
        "    # Reload the module\n",
        "    module = importlib.reload(sys.modules[module_name])\n",
        "    # Iterate through each attribute in the reloaded module\n",
        "    for attribute_name in dir(module):\n",
        "        # Retrieve the attribute\n",
        "        attribute = getattr(module, attribute_name)\n",
        "        if callable(attribute):\n",
        "            # If it's callable, it's a function or class, so you set it in the globals dictionary\n",
        "            globals()[attribute_name] = attribute\n",
        "\n",
        "\n",
        "def make_multiturn_conversation(info, logic_llm):\n",
        "    conv, conv_output = multi_turn_conversation(\n",
        "        info[0], info[1], info[2], info[3], logic_llm, assistant_mode=ASSISTANT_MODE\n",
        "    )  # based on what was originally: multi_turn_conversation(qa_tuples, character, scenario, scenario_plan, logic_llm)\n",
        "    write_output_to_file(conv_output, \"./multiturn_conversation_generations\", info[4])\n",
        "\n",
        "    return conv\n",
        "\n",
        "\n",
        "def ensure_multiple_answers_are_same(\n",
        "    info, conv, scenario\n",
        "):  # why is this a whole separate function? Once upon a time, LLMs were used in validation here, too. But programmatic validation SEEMS to catch the common problems. This is here so that I can add it back in if I have to.\n",
        "    \"\"\"Loop to ensure that the answer is consistent in the conversation and in the tuple.\"\"\"\n",
        "    retries = 0\n",
        "    c = conv\n",
        "    while retries < 2:  # try twice, since multiturn is an expensive operation\n",
        "        if call_all_processors(c[0], info[0]):  # if programmatic validation passes\n",
        "            return c\n",
        "\n",
        "        retries += 1\n",
        "        if retries >= 2:\n",
        "            return None\n",
        "        # If we're here, majority of relevance checks failed\n",
        "        print(\"----------------\\n\\n\\n\\nRETRYING!!!!\\n\\n\\n\\n----------------\")\n",
        "        # Broken info is 1) rare and 2) handled by the retry limit. We don't want to waste compute on regenerating info as they take time.\n",
        "        retry = make_multiturn_conversation(info, logic_llm)\n",
        "        if retry is not None:  # Note: retry CANNOT actually be None\n",
        "            c = retry\n",
        "        else:\n",
        "            # If we failed to generate a retry, don't waste compute\n",
        "            return None\n",
        "\n",
        "    return None"
      ]
    },
    {
      "cell_type": "code",
      "execution_count": null,
      "metadata": {
        "id": "xOUPkZ1nz8SQ"
      },
      "outputs": [],
      "source": [
        "from transformers import AutoTokenizer\n",
        "import re\n",
        "from tqdm import tqdm\n",
        "import nltk\n",
        "\n",
        "nltk.download(\"punkt\")\n",
        "from nltk.tokenize import sent_tokenize\n",
        "\n",
        "tokenizer = AutoTokenizer.from_pretrained(\n",
        "    \"Gryphe/MythoMax-L2-13b\"\n",
        ")  # It doesn't matter what model goes here as long as it is sentencepiece\n",
        "\n",
        "\n",
        "def sentence_chunking_algorithm(file_path, tokenizer, max_token_length=400):\n",
        "    \"\"\"\n",
        "    This function takes a plaintext file and chunks it into sentences.\n",
        "\n",
        "    :param file_path: Path to the plaintext file\n",
        "    :param tokenizer: SentencePiece tokenizer\n",
        "    :param max_token_length: The maximum token length for a chunk of sentences\n",
        "    :return: List of sentence chunks with source text information\n",
        "    \"\"\"\n",
        "    sentence_chunks_with_source = []\n",
        "    current_chunk = []\n",
        "    token_count = 0\n",
        "    source_name = file_path.replace(\".txt\", \"\")\n",
        "\n",
        "    with open(file_path, \"r\", encoding=\"utf-8\") as f:\n",
        "        content = f.read()\n",
        "\n",
        "    # Remove Gutenberg header and footer\n",
        "    content = re.sub(\n",
        "        r\"^.*?START OF (THIS|THE) PROJECT GUTENBERG EBOOK.*$\\n\",\n",
        "        \"\",\n",
        "        content,\n",
        "        flags=re.MULTILINE,\n",
        "    )\n",
        "    content = re.sub(\n",
        "        r\"^.*?END OF (THIS|THE) PROJECT GUTENBERG EBOOK.*$\\n\",\n",
        "        \"\",\n",
        "        content,\n",
        "        flags=re.MULTILINE,\n",
        "    )\n",
        "\n",
        "    sentences = sent_tokenize(content)\n",
        "\n",
        "    for sentence in tqdm(sentences, desc=f\"Processing {file_path}\"):\n",
        "        sentence_token_count = len(tokenizer.encode(sentence))\n",
        "\n",
        "        if token_count + sentence_token_count <= max_token_length:\n",
        "            current_chunk.append(sentence)\n",
        "            token_count += sentence_token_count\n",
        "        else:\n",
        "            sentence_chunks_with_source.append((\" \".join(current_chunk), source_name))\n",
        "            current_chunk = [sentence]\n",
        "            token_count = sentence_token_count\n",
        "\n",
        "    # Add the last chunk if it exists\n",
        "    if current_chunk:\n",
        "        sentence_chunks_with_source.append((\" \".join(current_chunk), source_name))\n",
        "\n",
        "    return sentence_chunks_with_source\n",
        "\n",
        "\n",
        "sentence_chunks = []\n",
        "for source_text in source_texts:\n",
        "    sentence_chunks += sentence_chunking_algorithm(source_text, tokenizer)\n",
        "\n",
        "\n",
        "def fix_text(to_replace_arr, text):\n",
        "    for startup in to_replace_arr:\n",
        "        text = text.replace(startup[0], startup[1])\n",
        "    return text\n",
        "\n",
        "\n",
        "conversions = [(\"\\n\", \" \"), (\"  \", \" \")]\n",
        "\n",
        "paragraphs_processed = [\n",
        "    (fix_text(conversions, seq[0]), seq[1]) for seq in sentence_chunks\n",
        "]"
      ]
    },
    {
      "cell_type": "code",
      "execution_count": null,
      "metadata": {
        "id": "ZEeNjeRKz8SQ"
      },
      "outputs": [],
      "source": [
        "len(paragraphs_processed)"
      ]
    },
    {
      "cell_type": "code",
      "execution_count": null,
      "metadata": {
        "id": "aJ4y_BQtz8SR"
      },
      "outputs": [],
      "source": [
        "paragraphs_processed[5]"
      ]
    },
    {
      "cell_type": "code",
      "execution_count": null,
      "metadata": {
        "id": "RuV9Y8cEz8SR"
      },
      "outputs": [],
      "source": [
        "# Load model into vram\n",
        "from llama_cpp import Llama\n",
        "\n",
        "logic_llm = Llama(\n",
        "    model_path=LOGICAL_MODEL,\n",
        "    n_gqa=8,\n",
        "    offload_kqv=True,\n",
        "    n_ctx=4000,\n",
        "    rope_freq_scale=0.33,\n",
        "    n_gpu_layers=50,\n",
        "    verbose=True,\n",
        ")  # load the logical LLM and offload everything"
      ]
    },
    {
      "cell_type": "code",
      "execution_count": 16,
      "metadata": {
        "id": "ZeXqLighz8SR",
        "outputId": "e14b1d17-631f-4662-bf2c-bc27dea3421a",
        "colab": {
          "base_uri": "https://localhost:8080/",
          "height": 1000
        }
      },
      "outputs": [
        {
          "output_type": "stream",
          "name": "stderr",
          "text": [
            "\r0it [00:00, ?it/s]Llama.generate: prefix-match hit\n",
            "\n",
            "llama_print_timings:        load time =    1365.31 ms\n",
            "llama_print_timings:      sample time =     429.73 ms /    17 runs   (   25.28 ms per token,    39.56 tokens per second)\n",
            "llama_print_timings: prompt eval time =       0.00 ms /     1 tokens (    0.00 ms per token,      inf tokens per second)\n",
            "llama_print_timings:        eval time =    1353.49 ms /    17 runs   (   79.62 ms per token,    12.56 tokens per second)\n",
            "llama_print_timings:       total time =    1988.86 ms /    18 tokens\n",
            "Llama.generate: prefix-match hit\n"
          ]
        },
        {
          "output_type": "stream",
          "name": "stdout",
          "text": [
            "\n",
            "Step 1. Identify Paragraph Content: This paragraph is from the introduct\n"
          ]
        },
        {
          "output_type": "stream",
          "name": "stderr",
          "text": [
            "\n",
            "llama_print_timings:        load time =    1365.31 ms\n",
            "llama_print_timings:      sample time =     233.57 ms /    17 runs   (   13.74 ms per token,    72.78 tokens per second)\n",
            "llama_print_timings: prompt eval time =       0.00 ms /     1 tokens (    0.00 ms per token,      inf tokens per second)\n",
            "llama_print_timings:        eval time =    1340.45 ms /    17 runs   (   78.85 ms per token,    12.68 tokens per second)\n",
            "llama_print_timings:       total time =    1726.38 ms /    18 tokens\n",
            "Llama.generate: prefix-match hit\n"
          ]
        },
        {
          "output_type": "stream",
          "name": "stdout",
          "text": [
            "\n",
            "Step 1. Identify Paragraph Content: This paragraph is from \"Simple Sab\n"
          ]
        },
        {
          "output_type": "stream",
          "name": "stderr",
          "text": [
            "\n",
            "llama_print_timings:        load time =    1365.31 ms\n",
            "llama_print_timings:      sample time =     355.45 ms /    17 runs   (   20.91 ms per token,    47.83 tokens per second)\n",
            "llama_print_timings: prompt eval time =       0.00 ms /     1 tokens (    0.00 ms per token,      inf tokens per second)\n",
            "llama_print_timings:        eval time =    1372.18 ms /    17 runs   (   80.72 ms per token,    12.39 tokens per second)\n",
            "llama_print_timings:       total time =    1947.08 ms /    18 tokens\n",
            "Llama.generate: prefix-match hit\n"
          ]
        },
        {
          "output_type": "stream",
          "name": "stdout",
          "text": [
            "\n",
            "Step 1. Identify Paragraph Content: This paragraph is from \"Simple Sab\n"
          ]
        },
        {
          "output_type": "stream",
          "name": "stderr",
          "text": [
            "\n",
            "llama_print_timings:        load time =    1365.31 ms\n",
            "llama_print_timings:      sample time =     156.23 ms /    17 runs   (    9.19 ms per token,   108.82 tokens per second)\n",
            "llama_print_timings: prompt eval time =       0.00 ms /     1 tokens (    0.00 ms per token,      inf tokens per second)\n",
            "llama_print_timings:        eval time =    1455.00 ms /    17 runs   (   85.59 ms per token,    11.68 tokens per second)\n",
            "llama_print_timings:       total time =    1698.78 ms /    18 tokens\n",
            "1it [00:07,  7.50s/it]Llama.generate: prefix-match hit\n"
          ]
        },
        {
          "output_type": "stream",
          "name": "stdout",
          "text": [
            "\n",
            "Step 1. Identify Paragraph Content: This paragraph is from the introduction of\n",
            "##################################################\n",
            "None\n",
            "##################################################\n",
            "DEBUG max retries exceeded for index 0\n"
          ]
        },
        {
          "output_type": "stream",
          "name": "stderr",
          "text": [
            "\n",
            "llama_print_timings:        load time =    1365.31 ms\n",
            "llama_print_timings:      sample time =     216.53 ms /    25 runs   (    8.66 ms per token,   115.46 tokens per second)\n",
            "llama_print_timings: prompt eval time =    1274.61 ms /   465 tokens (    2.74 ms per token,   364.82 tokens per second)\n",
            "llama_print_timings:        eval time =    2096.62 ms /    24 runs   (   87.36 ms per token,    11.45 tokens per second)\n",
            "llama_print_timings:       total time =    3710.47 ms /   489 tokens\n",
            "Llama.generate: prefix-match hit\n"
          ]
        },
        {
          "output_type": "stream",
          "name": "stdout",
          "text": [
            "\n",
            "Step 1. Identify Paragraph Content: This paragraph is from \"Simple Sabotage,\" discussing the purpose and\n"
          ]
        },
        {
          "output_type": "stream",
          "name": "stderr",
          "text": [
            "\n",
            "llama_print_timings:        load time =    1365.31 ms\n",
            "llama_print_timings:      sample time =     280.50 ms /    25 runs   (   11.22 ms per token,    89.13 tokens per second)\n",
            "llama_print_timings: prompt eval time =       0.00 ms /     1 tokens (    0.00 ms per token,      inf tokens per second)\n",
            "llama_print_timings:        eval time =    2136.50 ms /    25 runs   (   85.46 ms per token,    11.70 tokens per second)\n",
            "llama_print_timings:       total time =    2566.36 ms /    26 tokens\n",
            "Llama.generate: prefix-match hit\n"
          ]
        },
        {
          "output_type": "stream",
          "name": "stdout",
          "text": [
            "\n",
            "Step 1. Identify Paragraph Content: This paragraph is from \"Simple Sabotage,\" discussing the purpose and\n"
          ]
        },
        {
          "output_type": "stream",
          "name": "stderr",
          "text": [
            "\n",
            "llama_print_timings:        load time =    1365.31 ms\n",
            "llama_print_timings:      sample time =     322.47 ms /    25 runs   (   12.90 ms per token,    77.53 tokens per second)\n",
            "llama_print_timings: prompt eval time =       0.00 ms /     1 tokens (    0.00 ms per token,      inf tokens per second)\n",
            "llama_print_timings:        eval time =    2064.21 ms /    25 runs   (   82.57 ms per token,    12.11 tokens per second)\n",
            "llama_print_timings:       total time =    2554.68 ms /    26 tokens\n",
            "Llama.generate: prefix-match hit\n"
          ]
        },
        {
          "output_type": "stream",
          "name": "stdout",
          "text": [
            "\n",
            "Step 1. Identify Paragraph Content: This paragraph is from \"Simple Sabotage\" by the Office of Str\n"
          ]
        },
        {
          "output_type": "stream",
          "name": "stderr",
          "text": [
            "\n",
            "llama_print_timings:        load time =    1365.31 ms\n",
            "llama_print_timings:      sample time =     213.85 ms /    25 runs   (    8.55 ms per token,   116.90 tokens per second)\n",
            "llama_print_timings: prompt eval time =       0.00 ms /     1 tokens (    0.00 ms per token,      inf tokens per second)\n",
            "llama_print_timings:        eval time =    2224.80 ms /    25 runs   (   88.99 ms per token,    11.24 tokens per second)\n",
            "llama_print_timings:       total time =    2554.16 ms /    26 tokens\n",
            "2it [00:19,  9.86s/it]Llama.generate: prefix-match hit\n"
          ]
        },
        {
          "output_type": "stream",
          "name": "stdout",
          "text": [
            "\n",
            "Step 1. Identify Paragraph Content: This text is from \"Simple Sabotage,\" discussing the purpose and\n",
            "##################################################\n",
            "None\n",
            "##################################################\n",
            "DEBUG max retries exceeded for index 1\n"
          ]
        },
        {
          "output_type": "stream",
          "name": "stderr",
          "text": [
            "\n",
            "llama_print_timings:        load time =    1365.31 ms\n",
            "llama_print_timings:      sample time =     181.16 ms /    21 runs   (    8.63 ms per token,   115.92 tokens per second)\n",
            "llama_print_timings: prompt eval time =    1328.67 ms /   469 tokens (    2.83 ms per token,   352.98 tokens per second)\n",
            "llama_print_timings:        eval time =    1840.01 ms /    20 runs   (   92.00 ms per token,    10.87 tokens per second)\n",
            "llama_print_timings:       total time =    3449.15 ms /   489 tokens\n",
            "Llama.generate: prefix-match hit\n"
          ]
        },
        {
          "output_type": "stream",
          "name": "stdout",
          "text": [
            "\n",
            "Step 1. Identify Paragraph Content: This paragraph discusses simple sabotage techniques and their\n"
          ]
        },
        {
          "output_type": "stream",
          "name": "stderr",
          "text": [
            "\n",
            "llama_print_timings:        load time =    1365.31 ms\n",
            "llama_print_timings:      sample time =     178.95 ms /    21 runs   (    8.52 ms per token,   117.35 tokens per second)\n",
            "llama_print_timings: prompt eval time =       0.00 ms /     1 tokens (    0.00 ms per token,      inf tokens per second)\n",
            "llama_print_timings:        eval time =    1928.61 ms /    21 runs   (   91.84 ms per token,    10.89 tokens per second)\n",
            "llama_print_timings:       total time =    2208.30 ms /    22 tokens\n",
            "Llama.generate: prefix-match hit\n"
          ]
        },
        {
          "output_type": "stream",
          "name": "stdout",
          "text": [
            "\n",
            "Step 1. Identify Paragraph Content: This paragraph discusses simple sabotage techniques and their\n"
          ]
        },
        {
          "output_type": "stream",
          "name": "stderr",
          "text": [
            "\n",
            "llama_print_timings:        load time =    1365.31 ms\n",
            "llama_print_timings:      sample time =     302.37 ms /    21 runs   (   14.40 ms per token,    69.45 tokens per second)\n",
            "llama_print_timings: prompt eval time =       0.00 ms /     1 tokens (    0.00 ms per token,      inf tokens per second)\n",
            "llama_print_timings:        eval time =    1826.52 ms /    21 runs   (   86.98 ms per token,    11.50 tokens per second)\n",
            "llama_print_timings:       total time =    2291.63 ms /    22 tokens\n",
            "Llama.generate: prefix-match hit\n"
          ]
        },
        {
          "output_type": "stream",
          "name": "stdout",
          "text": [
            "\n",
            "Step 1. Identify Paragraph Content: This paragraph discusses simple sabotage methods and their\n"
          ]
        },
        {
          "output_type": "stream",
          "name": "stderr",
          "text": [
            "\n",
            "llama_print_timings:        load time =    1365.31 ms\n",
            "llama_print_timings:      sample time =     209.52 ms /    21 runs   (    9.98 ms per token,   100.23 tokens per second)\n",
            "llama_print_timings: prompt eval time =       0.00 ms /     1 tokens (    0.00 ms per token,      inf tokens per second)\n",
            "llama_print_timings:        eval time =    1942.36 ms /    21 runs   (   92.49 ms per token,    10.81 tokens per second)\n",
            "llama_print_timings:       total time =    2274.64 ms /    22 tokens\n",
            "3it [00:29, 10.08s/it]Llama.generate: prefix-match hit\n"
          ]
        },
        {
          "output_type": "stream",
          "name": "stdout",
          "text": [
            "\n",
            "Step 1. Identify Paragraph Content: This paragraph discusses simple sabotage techniques and their\n",
            "##################################################\n",
            "None\n",
            "##################################################\n",
            "DEBUG max retries exceeded for index 2\n"
          ]
        },
        {
          "output_type": "stream",
          "name": "stderr",
          "text": [
            "\n",
            "llama_print_timings:        load time =    1365.31 ms\n",
            "llama_print_timings:      sample time =      97.97 ms /    12 runs   (    8.16 ms per token,   122.49 tokens per second)\n",
            "llama_print_timings: prompt eval time =    1400.94 ms /   478 tokens (    2.93 ms per token,   341.20 tokens per second)\n",
            "llama_print_timings:        eval time =    1070.81 ms /    11 runs   (   97.35 ms per token,    10.27 tokens per second)\n",
            "llama_print_timings:       total time =    2633.27 ms /   489 tokens\n",
            "Llama.generate: prefix-match hit\n"
          ]
        },
        {
          "output_type": "stream",
          "name": "stdout",
          "text": [
            "\n",
            "Step 1. Identify Paragraph Content: This paragraph\n"
          ]
        },
        {
          "output_type": "stream",
          "name": "stderr",
          "text": [
            "\n",
            "llama_print_timings:        load time =    1365.31 ms\n",
            "llama_print_timings:      sample time =     101.15 ms /    12 runs   (    8.43 ms per token,   118.63 tokens per second)\n",
            "llama_print_timings: prompt eval time =       0.00 ms /     1 tokens (    0.00 ms per token,      inf tokens per second)\n",
            "llama_print_timings:        eval time =    1181.36 ms /    12 runs   (   98.45 ms per token,    10.16 tokens per second)\n",
            "llama_print_timings:       total time =    1350.24 ms /    13 tokens\n",
            "Llama.generate: prefix-match hit\n"
          ]
        },
        {
          "output_type": "stream",
          "name": "stdout",
          "text": [
            "\n",
            "Step 1. Identify Paragraph Content: This paragraph\n"
          ]
        },
        {
          "output_type": "stream",
          "name": "stderr",
          "text": [
            "\n",
            "llama_print_timings:        load time =    1365.31 ms\n",
            "llama_print_timings:      sample time =     272.11 ms /    12 runs   (   22.68 ms per token,    44.10 tokens per second)\n",
            "llama_print_timings: prompt eval time =       0.00 ms /     1 tokens (    0.00 ms per token,      inf tokens per second)\n",
            "llama_print_timings:        eval time =    1055.09 ms /    12 runs   (   87.92 ms per token,    11.37 tokens per second)\n",
            "llama_print_timings:       total time =    1453.28 ms /    13 tokens\n",
            "Llama.generate: prefix-match hit\n"
          ]
        },
        {
          "output_type": "stream",
          "name": "stdout",
          "text": [
            "\n",
            "Step 1. Identify Paragraph Content: This paragraph\n"
          ]
        },
        {
          "output_type": "stream",
          "name": "stderr",
          "text": [
            "\n",
            "llama_print_timings:        load time =    1365.31 ms\n",
            "llama_print_timings:      sample time =     186.48 ms /    12 runs   (   15.54 ms per token,    64.35 tokens per second)\n",
            "llama_print_timings: prompt eval time =       0.00 ms /     1 tokens (    0.00 ms per token,      inf tokens per second)\n",
            "llama_print_timings:        eval time =    1046.39 ms /    12 runs   (   87.20 ms per token,    11.47 tokens per second)\n",
            "llama_print_timings:       total time =    1344.94 ms /    13 tokens\n",
            "4it [00:36,  8.84s/it]Llama.generate: prefix-match hit\n"
          ]
        },
        {
          "output_type": "stream",
          "name": "stdout",
          "text": [
            "\n",
            "Step 1. Identify Paragraph Content: This paragraph\n",
            "##################################################\n",
            "None\n",
            "##################################################\n",
            "DEBUG max retries exceeded for index 3\n"
          ]
        },
        {
          "output_type": "stream",
          "name": "stderr",
          "text": [
            "\n",
            "llama_print_timings:        load time =    1365.31 ms\n",
            "llama_print_timings:      sample time =     754.48 ms /    38 runs   (   19.85 ms per token,    50.37 tokens per second)\n",
            "llama_print_timings: prompt eval time =    1362.17 ms /   452 tokens (    3.01 ms per token,   331.82 tokens per second)\n",
            "llama_print_timings:        eval time =    3260.97 ms /    37 runs   (   88.13 ms per token,    11.35 tokens per second)\n",
            "llama_print_timings:       total time =    5783.69 ms /   489 tokens\n",
            "Llama.generate: prefix-match hit\n"
          ]
        },
        {
          "output_type": "stream",
          "name": "stdout",
          "text": [
            "\n",
            "Step 1. Identify Paragraph Content: This paragraph discusses human nature and motivations for simple sabotage, offering suggestions and insights into how to encourage it.\n",
            "\n"
          ]
        },
        {
          "output_type": "stream",
          "name": "stderr",
          "text": [
            "\n",
            "llama_print_timings:        load time =    1365.31 ms\n",
            "llama_print_timings:      sample time =     332.63 ms /    38 runs   (    8.75 ms per token,   114.24 tokens per second)\n",
            "llama_print_timings: prompt eval time =       0.00 ms /     1 tokens (    0.00 ms per token,      inf tokens per second)\n",
            "llama_print_timings:        eval time =    3701.56 ms /    38 runs   (   97.41 ms per token,    10.27 tokens per second)\n",
            "llama_print_timings:       total time =    4203.11 ms /    39 tokens\n",
            "Llama.generate: prefix-match hit\n"
          ]
        },
        {
          "output_type": "stream",
          "name": "stdout",
          "text": [
            "\n",
            "Step 1. Identify Paragraph Content: This paragraph discusses human nature and motivations for simple sabotage and how to encourage it among ordinary citizens.\n",
            "Step 2\n"
          ]
        },
        {
          "output_type": "stream",
          "name": "stderr",
          "text": [
            "\n",
            "llama_print_timings:        load time =    1365.31 ms\n",
            "llama_print_timings:      sample time =     351.27 ms /    38 runs   (    9.24 ms per token,   108.18 tokens per second)\n",
            "llama_print_timings: prompt eval time =       0.00 ms /     1 tokens (    0.00 ms per token,      inf tokens per second)\n",
            "llama_print_timings:        eval time =    3611.99 ms /    38 runs   (   95.05 ms per token,    10.52 tokens per second)\n",
            "llama_print_timings:       total time =    4148.74 ms /    39 tokens\n",
            "Llama.generate: prefix-match hit\n"
          ]
        },
        {
          "output_type": "stream",
          "name": "stdout",
          "text": [
            "\n",
            "Step 1. Identify Paragraph Content: This paragraph discusses human nature and motivations for simple sabotage and how to encourage it among ordinary citizens.\n",
            "Step 2\n"
          ]
        },
        {
          "output_type": "stream",
          "name": "stderr",
          "text": [
            "\n",
            "llama_print_timings:        load time =    1365.31 ms\n",
            "llama_print_timings:      sample time =     422.25 ms /    38 runs   (   11.11 ms per token,    89.99 tokens per second)\n",
            "llama_print_timings: prompt eval time =       0.00 ms /     1 tokens (    0.00 ms per token,      inf tokens per second)\n",
            "llama_print_timings:        eval time =    3421.23 ms /    38 runs   (   90.03 ms per token,    11.11 tokens per second)\n",
            "llama_print_timings:       total time =    4066.78 ms /    39 tokens\n",
            "5it [00:54, 12.26s/it]Llama.generate: prefix-match hit\n"
          ]
        },
        {
          "output_type": "stream",
          "name": "stdout",
          "text": [
            "\n",
            "Step 1. Identify Paragraph Content: This paragraph discusses human nature and motivations for simple sabotage, focusing on personal and group-related aspects.\n",
            "Step \n",
            "##################################################\n",
            "None\n",
            "##################################################\n",
            "DEBUG max retries exceeded for index 4\n"
          ]
        },
        {
          "output_type": "stream",
          "name": "stderr",
          "text": [
            "\n",
            "llama_print_timings:        load time =    1365.31 ms\n",
            "llama_print_timings:      sample time =      73.08 ms /    10 runs   (    7.31 ms per token,   136.84 tokens per second)\n",
            "llama_print_timings: prompt eval time =    1364.43 ms /   480 tokens (    2.84 ms per token,   351.80 tokens per second)\n",
            "llama_print_timings:        eval time =     853.80 ms /     9 runs   (   94.87 ms per token,    10.54 tokens per second)\n",
            "llama_print_timings:       total time =    2339.88 ms /   489 tokens\n",
            "Llama.generate: prefix-match hit\n"
          ]
        },
        {
          "output_type": "stream",
          "name": "stdout",
          "text": [
            "\n",
            "Step 1. Identify Paragraph Content:\n"
          ]
        },
        {
          "output_type": "stream",
          "name": "stderr",
          "text": [
            "\n",
            "llama_print_timings:        load time =    1365.31 ms\n",
            "llama_print_timings:      sample time =      74.67 ms /    10 runs   (    7.47 ms per token,   133.93 tokens per second)\n",
            "llama_print_timings: prompt eval time =       0.00 ms /     1 tokens (    0.00 ms per token,      inf tokens per second)\n",
            "llama_print_timings:        eval time =     913.81 ms /    10 runs   (   91.38 ms per token,    10.94 tokens per second)\n",
            "llama_print_timings:       total time =    1042.86 ms /    11 tokens\n",
            "Llama.generate: prefix-match hit\n"
          ]
        },
        {
          "output_type": "stream",
          "name": "stdout",
          "text": [
            "\n",
            "Step 1. Identify Paragraph Content:\n"
          ]
        },
        {
          "output_type": "stream",
          "name": "stderr",
          "text": [
            "\n",
            "llama_print_timings:        load time =    1365.31 ms\n",
            "llama_print_timings:      sample time =      78.87 ms /    10 runs   (    7.89 ms per token,   126.79 tokens per second)\n",
            "llama_print_timings: prompt eval time =       0.00 ms /     1 tokens (    0.00 ms per token,      inf tokens per second)\n",
            "llama_print_timings:        eval time =     917.59 ms /    10 runs   (   91.76 ms per token,    10.90 tokens per second)\n",
            "llama_print_timings:       total time =    1069.41 ms /    11 tokens\n",
            "Llama.generate: prefix-match hit\n"
          ]
        },
        {
          "output_type": "stream",
          "name": "stdout",
          "text": [
            "\n",
            "Step 1. Identify Paragraph Content:\n"
          ]
        },
        {
          "output_type": "stream",
          "name": "stderr",
          "text": [
            "\n",
            "llama_print_timings:        load time =    1365.31 ms\n",
            "llama_print_timings:      sample time =      79.07 ms /    10 runs   (    7.91 ms per token,   126.46 tokens per second)\n",
            "llama_print_timings: prompt eval time =       0.00 ms /     1 tokens (    0.00 ms per token,      inf tokens per second)\n",
            "llama_print_timings:        eval time =     905.65 ms /    10 runs   (   90.57 ms per token,    11.04 tokens per second)\n",
            "llama_print_timings:       total time =    1038.50 ms /    11 tokens\n",
            "6it [01:00, 10.01s/it]Llama.generate: prefix-match hit\n"
          ]
        },
        {
          "output_type": "stream",
          "name": "stdout",
          "text": [
            "\n",
            "Step 1. Identify Paragraph Content:\n",
            "##################################################\n",
            "None\n",
            "##################################################\n",
            "DEBUG max retries exceeded for index 5\n"
          ]
        },
        {
          "output_type": "stream",
          "name": "stderr",
          "text": [
            "\n",
            "llama_print_timings:        load time =    1365.31 ms\n",
            "llama_print_timings:      sample time =      92.20 ms /     9 runs   (   10.24 ms per token,    97.62 tokens per second)\n",
            "llama_print_timings: prompt eval time =    1346.15 ms /   481 tokens (    2.80 ms per token,   357.32 tokens per second)\n",
            "llama_print_timings:        eval time =     710.12 ms /     8 runs   (   88.76 ms per token,    11.27 tokens per second)\n",
            "llama_print_timings:       total time =    2204.99 ms /   489 tokens\n",
            "Llama.generate: prefix-match hit\n"
          ]
        },
        {
          "output_type": "stream",
          "name": "stdout",
          "text": [
            "\n",
            "Step 1. Identify Paragraph Content\n"
          ]
        },
        {
          "output_type": "stream",
          "name": "stderr",
          "text": [
            "\n",
            "llama_print_timings:        load time =    1365.31 ms\n",
            "llama_print_timings:      sample time =     124.25 ms /     9 runs   (   13.81 ms per token,    72.43 tokens per second)\n",
            "llama_print_timings: prompt eval time =       0.00 ms /     1 tokens (    0.00 ms per token,      inf tokens per second)\n",
            "llama_print_timings:        eval time =     778.33 ms /     9 runs   (   86.48 ms per token,    11.56 tokens per second)\n",
            "llama_print_timings:       total time =     981.90 ms /    10 tokens\n",
            "Llama.generate: prefix-match hit\n"
          ]
        },
        {
          "output_type": "stream",
          "name": "stdout",
          "text": [
            "\n",
            "Step 1. Identify Paragraph Content\n"
          ]
        },
        {
          "output_type": "stream",
          "name": "stderr",
          "text": [
            "\n",
            "llama_print_timings:        load time =    1365.31 ms\n",
            "llama_print_timings:      sample time =     110.45 ms /     9 runs   (   12.27 ms per token,    81.48 tokens per second)\n",
            "llama_print_timings: prompt eval time =       0.00 ms /     1 tokens (    0.00 ms per token,      inf tokens per second)\n",
            "llama_print_timings:        eval time =     763.83 ms /     9 runs   (   84.87 ms per token,    11.78 tokens per second)\n",
            "llama_print_timings:       total time =     945.93 ms /    10 tokens\n",
            "Llama.generate: prefix-match hit\n"
          ]
        },
        {
          "output_type": "stream",
          "name": "stdout",
          "text": [
            "\n",
            "Step 1. Identify Paragraph Content\n"
          ]
        },
        {
          "output_type": "stream",
          "name": "stderr",
          "text": [
            "\n",
            "llama_print_timings:        load time =    1365.31 ms\n",
            "llama_print_timings:      sample time =      68.87 ms /     9 runs   (    7.65 ms per token,   130.68 tokens per second)\n",
            "llama_print_timings: prompt eval time =       0.00 ms /     1 tokens (    0.00 ms per token,      inf tokens per second)\n",
            "llama_print_timings:        eval time =     794.81 ms /     9 runs   (   88.31 ms per token,    11.32 tokens per second)\n",
            "llama_print_timings:       total time =     909.43 ms /    10 tokens\n",
            "7it [01:05,  8.43s/it]Llama.generate: prefix-match hit\n"
          ]
        },
        {
          "output_type": "stream",
          "name": "stdout",
          "text": [
            "\n",
            "Step 1. Identify Paragraph Content\n",
            "##################################################\n",
            "None\n",
            "##################################################\n",
            "DEBUG max retries exceeded for index 6\n"
          ]
        },
        {
          "output_type": "stream",
          "name": "stderr",
          "text": [
            "\n",
            "llama_print_timings:        load time =    1365.31 ms\n",
            "llama_print_timings:      sample time =     154.50 ms /    19 runs   (    8.13 ms per token,   122.98 tokens per second)\n",
            "llama_print_timings: prompt eval time =    1292.36 ms /   468 tokens (    2.76 ms per token,   362.13 tokens per second)\n",
            "llama_print_timings:        eval time =    1627.98 ms /    18 runs   (   90.44 ms per token,    11.06 tokens per second)\n",
            "llama_print_timings:       total time =    3161.66 ms /   486 tokens\n",
            "Llama.generate: prefix-match hit\n"
          ]
        },
        {
          "output_type": "stream",
          "name": "stdout",
          "text": [
            "\n",
            "Step 1. Identify Paragraph Content: This paragraph is from \"Simple Sabotage\n"
          ]
        },
        {
          "output_type": "stream",
          "name": "stderr",
          "text": [
            "\n",
            "llama_print_timings:        load time =    1365.31 ms\n",
            "llama_print_timings:      sample time =     168.16 ms /    19 runs   (    8.85 ms per token,   112.98 tokens per second)\n",
            "llama_print_timings: prompt eval time =       0.00 ms /     1 tokens (    0.00 ms per token,      inf tokens per second)\n",
            "llama_print_timings:        eval time =    1655.52 ms /    19 runs   (   87.13 ms per token,    11.48 tokens per second)\n",
            "llama_print_timings:       total time =    1919.16 ms /    20 tokens\n",
            "Llama.generate: prefix-match hit\n"
          ]
        },
        {
          "output_type": "stream",
          "name": "stdout",
          "text": [
            "\n",
            "Step 1. Identify Paragraph Content: This paragraph is from \"Simple Sabotage\n"
          ]
        },
        {
          "output_type": "stream",
          "name": "stderr",
          "text": [
            "\n",
            "llama_print_timings:        load time =    1365.31 ms\n",
            "llama_print_timings:      sample time =     158.35 ms /    19 runs   (    8.33 ms per token,   119.99 tokens per second)\n",
            "llama_print_timings: prompt eval time =       0.00 ms /     1 tokens (    0.00 ms per token,      inf tokens per second)\n",
            "llama_print_timings:        eval time =    1695.30 ms /    19 runs   (   89.23 ms per token,    11.21 tokens per second)\n",
            "llama_print_timings:       total time =    1947.10 ms /    20 tokens\n",
            "Llama.generate: prefix-match hit\n"
          ]
        },
        {
          "output_type": "stream",
          "name": "stdout",
          "text": [
            "\n",
            "Step 1. Identify Paragraph Content: This paragraph is from \"Simple Sabotage\n"
          ]
        },
        {
          "output_type": "stream",
          "name": "stderr",
          "text": [
            "\n",
            "llama_print_timings:        load time =    1365.31 ms\n",
            "llama_print_timings:      sample time =     173.90 ms /    19 runs   (    9.15 ms per token,   109.26 tokens per second)\n",
            "llama_print_timings: prompt eval time =       0.00 ms /     1 tokens (    0.00 ms per token,      inf tokens per second)\n",
            "llama_print_timings:        eval time =    1661.21 ms /    19 runs   (   87.43 ms per token,    11.44 tokens per second)\n",
            "llama_print_timings:       total time =    1929.91 ms /    20 tokens\n",
            "8it [01:14,  8.63s/it]Llama.generate: prefix-match hit\n"
          ]
        },
        {
          "output_type": "stream",
          "name": "stdout",
          "text": [
            "\n",
            "Step 1. Identify Paragraph Content: This paragraph is from \"Simple Sabotage\n",
            "##################################################\n",
            "None\n",
            "##################################################\n",
            "DEBUG max retries exceeded for index 7\n"
          ]
        },
        {
          "output_type": "stream",
          "name": "stderr",
          "text": [
            "\n",
            "llama_print_timings:        load time =    1365.31 ms\n",
            "llama_print_timings:      sample time =     135.78 ms /    14 runs   (    9.70 ms per token,   103.11 tokens per second)\n",
            "llama_print_timings: prompt eval time =    1311.34 ms /   476 tokens (    2.75 ms per token,   362.99 tokens per second)\n",
            "llama_print_timings:        eval time =    1134.28 ms /    13 runs   (   87.25 ms per token,    11.46 tokens per second)\n",
            "llama_print_timings:       total time =    2662.50 ms /   489 tokens\n",
            "Llama.generate: prefix-match hit\n"
          ]
        },
        {
          "output_type": "stream",
          "name": "stdout",
          "text": [
            "\n",
            "Step 1. Identify Paragraph Content: This paragraph discusses\n"
          ]
        },
        {
          "output_type": "stream",
          "name": "stderr",
          "text": [
            "\n",
            "llama_print_timings:        load time =    1365.31 ms\n",
            "llama_print_timings:      sample time =     114.32 ms /    14 runs   (    8.17 ms per token,   122.47 tokens per second)\n",
            "llama_print_timings: prompt eval time =       0.00 ms /     1 tokens (    0.00 ms per token,      inf tokens per second)\n",
            "llama_print_timings:        eval time =    1225.03 ms /    14 runs   (   87.50 ms per token,    11.43 tokens per second)\n",
            "llama_print_timings:       total time =    1406.47 ms /    15 tokens\n",
            "Llama.generate: prefix-match hit\n"
          ]
        },
        {
          "output_type": "stream",
          "name": "stdout",
          "text": [
            "\n",
            "Step 1. Identify Paragraph Content: This paragraph discusses\n"
          ]
        },
        {
          "output_type": "stream",
          "name": "stderr",
          "text": [
            "\n",
            "llama_print_timings:        load time =    1365.31 ms\n",
            "llama_print_timings:      sample time =     167.57 ms /    14 runs   (   11.97 ms per token,    83.55 tokens per second)\n",
            "llama_print_timings: prompt eval time =       0.00 ms /     1 tokens (    0.00 ms per token,      inf tokens per second)\n",
            "llama_print_timings:        eval time =    1214.03 ms /    14 runs   (   86.72 ms per token,    11.53 tokens per second)\n",
            "llama_print_timings:       total time =    1501.75 ms /    15 tokens\n",
            "Llama.generate: prefix-match hit\n"
          ]
        },
        {
          "output_type": "stream",
          "name": "stdout",
          "text": [
            "\n",
            "Step 1. Identify Paragraph Content: This paragraph is from\n"
          ]
        },
        {
          "output_type": "stream",
          "name": "stderr",
          "text": [
            "\n",
            "llama_print_timings:        load time =    1365.31 ms\n",
            "llama_print_timings:      sample time =     113.16 ms /    14 runs   (    8.08 ms per token,   123.72 tokens per second)\n",
            "llama_print_timings: prompt eval time =       0.00 ms /     1 tokens (    0.00 ms per token,      inf tokens per second)\n",
            "llama_print_timings:        eval time =    1257.71 ms /    14 runs   (   89.84 ms per token,    11.13 tokens per second)\n",
            "llama_print_timings:       total time =    1442.00 ms /    15 tokens\n",
            "9it [01:21,  8.17s/it]Llama.generate: prefix-match hit\n"
          ]
        },
        {
          "output_type": "stream",
          "name": "stdout",
          "text": [
            "\n",
            "Step 1. Identify Paragraph Content: This paragraph discusses\n",
            "##################################################\n",
            "None\n",
            "##################################################\n",
            "DEBUG max retries exceeded for index 8\n"
          ]
        },
        {
          "output_type": "stream",
          "name": "stderr",
          "text": [
            "\n",
            "llama_print_timings:        load time =    1365.31 ms\n",
            "llama_print_timings:      sample time =     191.16 ms /    23 runs   (    8.31 ms per token,   120.32 tokens per second)\n",
            "llama_print_timings: prompt eval time =    1284.61 ms /   467 tokens (    2.75 ms per token,   363.53 tokens per second)\n",
            "llama_print_timings:        eval time =    1943.53 ms /    22 runs   (   88.34 ms per token,    11.32 tokens per second)\n",
            "llama_print_timings:       total time =    3524.95 ms /   489 tokens\n",
            "Llama.generate: prefix-match hit\n"
          ]
        },
        {
          "output_type": "stream",
          "name": "stdout",
          "text": [
            "\n",
            "Step 1. Identify Paragraph Content: This paragraph is from \"Simple Sabotage,\" providing guidel\n"
          ]
        },
        {
          "output_type": "stream",
          "name": "stderr",
          "text": [
            "\n",
            "llama_print_timings:        load time =    1365.31 ms\n",
            "llama_print_timings:      sample time =     286.83 ms /    23 runs   (   12.47 ms per token,    80.19 tokens per second)\n",
            "llama_print_timings: prompt eval time =       0.00 ms /     1 tokens (    0.00 ms per token,      inf tokens per second)\n",
            "llama_print_timings:        eval time =    1938.68 ms /    23 runs   (   84.29 ms per token,    11.86 tokens per second)\n",
            "llama_print_timings:       total time =    2377.97 ms /    24 tokens\n",
            "Llama.generate: prefix-match hit\n"
          ]
        },
        {
          "output_type": "stream",
          "name": "stdout",
          "text": [
            "\n",
            "Step 1. Identify Paragraph Content: This paragraph is from \"Simple Sabotage,\" a guidebook\n"
          ]
        },
        {
          "output_type": "stream",
          "name": "stderr",
          "text": [
            "\n",
            "llama_print_timings:        load time =    1365.31 ms\n",
            "llama_print_timings:      sample time =     238.43 ms /    23 runs   (   10.37 ms per token,    96.46 tokens per second)\n",
            "llama_print_timings: prompt eval time =       0.00 ms /     1 tokens (    0.00 ms per token,      inf tokens per second)\n",
            "llama_print_timings:        eval time =    1977.99 ms /    23 runs   (   86.00 ms per token,    11.63 tokens per second)\n",
            "llama_print_timings:       total time =    2353.17 ms /    24 tokens\n",
            "Llama.generate: prefix-match hit\n"
          ]
        },
        {
          "output_type": "stream",
          "name": "stdout",
          "text": [
            "\n",
            "Step 1. Identify Paragraph Content: This paragraph contains guidelines on simple sabotage from the\n"
          ]
        },
        {
          "output_type": "stream",
          "name": "stderr",
          "text": [
            "\n",
            "llama_print_timings:        load time =    1365.31 ms\n",
            "llama_print_timings:      sample time =     242.98 ms /    23 runs   (   10.56 ms per token,    94.66 tokens per second)\n",
            "llama_print_timings: prompt eval time =       0.00 ms /     1 tokens (    0.00 ms per token,      inf tokens per second)\n",
            "llama_print_timings:        eval time =    1998.48 ms /    23 runs   (   86.89 ms per token,    11.51 tokens per second)\n",
            "llama_print_timings:       total time =    2361.46 ms /    24 tokens\n",
            "10it [01:32,  8.97s/it]Llama.generate: prefix-match hit\n"
          ]
        },
        {
          "output_type": "stream",
          "name": "stdout",
          "text": [
            "\n",
            "Step 1. Identify Paragraph Content: This paragraph is from \"Simple Sabotage,\" offering guidel\n",
            "##################################################\n",
            "None\n",
            "##################################################\n",
            "DEBUG max retries exceeded for index 9\n"
          ]
        },
        {
          "output_type": "stream",
          "name": "stderr",
          "text": [
            "\n",
            "llama_print_timings:        load time =    1365.31 ms\n",
            "llama_print_timings:      sample time =      37.16 ms /     5 runs   (    7.43 ms per token,   134.55 tokens per second)\n",
            "llama_print_timings: prompt eval time =    1335.96 ms /   485 tokens (    2.75 ms per token,   363.03 tokens per second)\n",
            "llama_print_timings:        eval time =     351.79 ms /     4 runs   (   87.95 ms per token,    11.37 tokens per second)\n",
            "llama_print_timings:       total time =    1753.19 ms /   489 tokens\n",
            "Llama.generate: prefix-match hit\n"
          ]
        },
        {
          "output_type": "stream",
          "name": "stdout",
          "text": [
            "\n",
            "Step 1. Ident\n"
          ]
        },
        {
          "output_type": "stream",
          "name": "stderr",
          "text": [
            "\n",
            "llama_print_timings:        load time =    1365.31 ms\n",
            "llama_print_timings:      sample time =      43.22 ms /     5 runs   (    8.64 ms per token,   115.68 tokens per second)\n",
            "llama_print_timings: prompt eval time =       0.00 ms /     1 tokens (    0.00 ms per token,      inf tokens per second)\n",
            "llama_print_timings:        eval time =     434.99 ms /     5 runs   (   87.00 ms per token,    11.49 tokens per second)\n",
            "llama_print_timings:       total time =     509.56 ms /     6 tokens\n",
            "Llama.generate: prefix-match hit\n"
          ]
        },
        {
          "output_type": "stream",
          "name": "stdout",
          "text": [
            "\n",
            "Step 1. Ident\n"
          ]
        },
        {
          "output_type": "stream",
          "name": "stderr",
          "text": [
            "\n",
            "llama_print_timings:        load time =    1365.31 ms\n",
            "llama_print_timings:      sample time =      42.52 ms /     5 runs   (    8.50 ms per token,   117.60 tokens per second)\n",
            "llama_print_timings: prompt eval time =       0.00 ms /     1 tokens (    0.00 ms per token,      inf tokens per second)\n",
            "llama_print_timings:        eval time =     435.28 ms /     5 runs   (   87.06 ms per token,    11.49 tokens per second)\n",
            "llama_print_timings:       total time =     510.55 ms /     6 tokens\n",
            "Llama.generate: prefix-match hit\n"
          ]
        },
        {
          "output_type": "stream",
          "name": "stdout",
          "text": [
            "\n",
            "Step 1. Ident\n"
          ]
        },
        {
          "output_type": "stream",
          "name": "stderr",
          "text": [
            "\n",
            "llama_print_timings:        load time =    1365.31 ms\n",
            "llama_print_timings:      sample time =      42.27 ms /     5 runs   (    8.45 ms per token,   118.29 tokens per second)\n",
            "llama_print_timings: prompt eval time =       0.00 ms /     1 tokens (    0.00 ms per token,      inf tokens per second)\n",
            "llama_print_timings:        eval time =     429.94 ms /     5 runs   (   85.99 ms per token,    11.63 tokens per second)\n",
            "llama_print_timings:       total time =     502.46 ms /     6 tokens\n",
            "11it [01:35,  7.26s/it]Llama.generate: prefix-match hit\n"
          ]
        },
        {
          "output_type": "stream",
          "name": "stdout",
          "text": [
            "\n",
            "Step 1. Ident\n",
            "##################################################\n",
            "None\n",
            "##################################################\n",
            "DEBUG max retries exceeded for index 10\n"
          ]
        },
        {
          "output_type": "stream",
          "name": "stderr",
          "text": [
            "\n",
            "llama_print_timings:        load time =    1365.31 ms\n",
            "llama_print_timings:      sample time =      22.66 ms /     3 runs   (    7.55 ms per token,   132.42 tokens per second)\n",
            "llama_print_timings: prompt eval time =    1335.56 ms /   487 tokens (    2.74 ms per token,   364.64 tokens per second)\n",
            "llama_print_timings:        eval time =     173.41 ms /     2 runs   (   86.70 ms per token,    11.53 tokens per second)\n",
            "llama_print_timings:       total time =    1551.16 ms /   489 tokens\n",
            "Llama.generate: prefix-match hit\n"
          ]
        },
        {
          "output_type": "stream",
          "name": "stdout",
          "text": [
            "\n",
            "Step 1\n"
          ]
        },
        {
          "output_type": "stream",
          "name": "stderr",
          "text": [
            "\n",
            "llama_print_timings:        load time =    1365.31 ms\n",
            "llama_print_timings:      sample time =      22.87 ms /     3 runs   (    7.62 ms per token,   131.17 tokens per second)\n",
            "llama_print_timings: prompt eval time =       0.00 ms /     1 tokens (    0.00 ms per token,      inf tokens per second)\n",
            "llama_print_timings:        eval time =     263.28 ms /     3 runs   (   87.76 ms per token,    11.39 tokens per second)\n",
            "llama_print_timings:       total time =     309.47 ms /     4 tokens\n",
            "Llama.generate: prefix-match hit\n"
          ]
        },
        {
          "output_type": "stream",
          "name": "stdout",
          "text": [
            "\n",
            "Step 1\n"
          ]
        },
        {
          "output_type": "stream",
          "name": "stderr",
          "text": [
            "\n",
            "llama_print_timings:        load time =    1365.31 ms\n",
            "llama_print_timings:      sample time =      37.14 ms /     3 runs   (   12.38 ms per token,    80.78 tokens per second)\n",
            "llama_print_timings: prompt eval time =       0.00 ms /     1 tokens (    0.00 ms per token,      inf tokens per second)\n",
            "llama_print_timings:        eval time =     241.56 ms /     3 runs   (   80.52 ms per token,    12.42 tokens per second)\n",
            "llama_print_timings:       total time =     310.83 ms /     4 tokens\n",
            "Llama.generate: prefix-match hit\n"
          ]
        },
        {
          "output_type": "stream",
          "name": "stdout",
          "text": [
            "\n",
            "Step 1\n"
          ]
        },
        {
          "output_type": "stream",
          "name": "stderr",
          "text": [
            "\n",
            "llama_print_timings:        load time =    1365.31 ms\n",
            "llama_print_timings:      sample time =      69.38 ms /     3 runs   (   23.13 ms per token,    43.24 tokens per second)\n",
            "llama_print_timings: prompt eval time =       0.00 ms /     1 tokens (    0.00 ms per token,      inf tokens per second)\n",
            "llama_print_timings:        eval time =     240.80 ms /     3 runs   (   80.27 ms per token,    12.46 tokens per second)\n",
            "llama_print_timings:       total time =     381.32 ms /     4 tokens\n",
            "12it [01:38,  5.89s/it]Llama.generate: prefix-match hit\n"
          ]
        },
        {
          "output_type": "stream",
          "name": "stdout",
          "text": [
            "\n",
            "Step 1\n",
            "##################################################\n",
            "None\n",
            "##################################################\n",
            "DEBUG max retries exceeded for index 11\n"
          ]
        },
        {
          "output_type": "stream",
          "name": "stderr",
          "text": [
            "\n",
            "llama_print_timings:        load time =    1365.31 ms\n",
            "llama_print_timings:      sample time =     188.15 ms /     7 runs   (   26.88 ms per token,    37.20 tokens per second)\n",
            "llama_print_timings: prompt eval time =    1356.15 ms /   483 tokens (    2.81 ms per token,   356.16 tokens per second)\n",
            "llama_print_timings:        eval time =     468.21 ms /     6 runs   (   78.03 ms per token,    12.81 tokens per second)\n",
            "llama_print_timings:       total time =    2156.76 ms /   489 tokens\n",
            "Llama.generate: prefix-match hit\n"
          ]
        },
        {
          "output_type": "stream",
          "name": "stdout",
          "text": [
            "\n",
            "Step 1. Identify Par\n"
          ]
        },
        {
          "output_type": "stream",
          "name": "stderr",
          "text": [
            "\n",
            "llama_print_timings:        load time =    1365.31 ms\n",
            "llama_print_timings:      sample time =     142.15 ms /     7 runs   (   20.31 ms per token,    49.24 tokens per second)\n",
            "llama_print_timings: prompt eval time =       0.00 ms /     1 tokens (    0.00 ms per token,      inf tokens per second)\n",
            "llama_print_timings:        eval time =     565.72 ms /     7 runs   (   80.82 ms per token,    12.37 tokens per second)\n",
            "llama_print_timings:       total time =     795.67 ms /     8 tokens\n",
            "Llama.generate: prefix-match hit\n"
          ]
        },
        {
          "output_type": "stream",
          "name": "stdout",
          "text": [
            "\n",
            "Step 1. Identify Par\n"
          ]
        },
        {
          "output_type": "stream",
          "name": "stderr",
          "text": [
            "\n",
            "llama_print_timings:        load time =    1365.31 ms\n",
            "llama_print_timings:      sample time =     100.08 ms /     7 runs   (   14.30 ms per token,    69.94 tokens per second)\n",
            "llama_print_timings: prompt eval time =       0.00 ms /     1 tokens (    0.00 ms per token,      inf tokens per second)\n",
            "llama_print_timings:        eval time =     570.00 ms /     7 runs   (   81.43 ms per token,    12.28 tokens per second)\n",
            "llama_print_timings:       total time =     735.18 ms /     8 tokens\n",
            "Llama.generate: prefix-match hit\n"
          ]
        },
        {
          "output_type": "stream",
          "name": "stdout",
          "text": [
            "\n",
            "Step 1. Identify Par\n"
          ]
        },
        {
          "output_type": "stream",
          "name": "stderr",
          "text": [
            "\n",
            "llama_print_timings:        load time =    1365.31 ms\n",
            "llama_print_timings:      sample time =     109.04 ms /     7 runs   (   15.58 ms per token,    64.20 tokens per second)\n",
            "llama_print_timings: prompt eval time =       0.00 ms /     1 tokens (    0.00 ms per token,      inf tokens per second)\n",
            "llama_print_timings:        eval time =     571.49 ms /     7 runs   (   81.64 ms per token,    12.25 tokens per second)\n",
            "llama_print_timings:       total time =     747.25 ms /     8 tokens\n",
            "13it [01:43,  5.51s/it]Llama.generate: prefix-match hit\n"
          ]
        },
        {
          "output_type": "stream",
          "name": "stdout",
          "text": [
            "\n",
            "Step 1. Identify Par\n",
            "##################################################\n",
            "None\n",
            "##################################################\n",
            "DEBUG max retries exceeded for index 12\n"
          ]
        },
        {
          "output_type": "stream",
          "name": "stderr",
          "text": [
            "\n",
            "llama_print_timings:        load time =    1365.31 ms\n",
            "llama_print_timings:      sample time =      81.70 ms /     5 runs   (   16.34 ms per token,    61.20 tokens per second)\n",
            "llama_print_timings: prompt eval time =    1352.56 ms /   484 tokens (    2.79 ms per token,   357.84 tokens per second)\n",
            "llama_print_timings:        eval time =     322.18 ms /     4 runs   (   80.55 ms per token,    12.42 tokens per second)\n",
            "llama_print_timings:       total time =    1816.15 ms /   488 tokens\n",
            "Llama.generate: prefix-match hit\n"
          ]
        },
        {
          "output_type": "stream",
          "name": "stdout",
          "text": [
            "\n",
            "Step 1. Ident\n"
          ]
        },
        {
          "output_type": "stream",
          "name": "stderr",
          "text": [
            "\n",
            "llama_print_timings:        load time =    1365.31 ms\n",
            "llama_print_timings:      sample time =      38.99 ms /     5 runs   (    7.80 ms per token,   128.22 tokens per second)\n",
            "llama_print_timings: prompt eval time =       0.00 ms /     1 tokens (    0.00 ms per token,      inf tokens per second)\n",
            "llama_print_timings:        eval time =     440.04 ms /     5 runs   (   88.01 ms per token,    11.36 tokens per second)\n",
            "llama_print_timings:       total time =     514.15 ms /     6 tokens\n",
            "Llama.generate: prefix-match hit\n"
          ]
        },
        {
          "output_type": "stream",
          "name": "stdout",
          "text": [
            "\n",
            "Step 1. Ident\n"
          ]
        },
        {
          "output_type": "stream",
          "name": "stderr",
          "text": [
            "\n",
            "llama_print_timings:        load time =    1365.31 ms\n",
            "llama_print_timings:      sample time =      49.15 ms /     5 runs   (    9.83 ms per token,   101.74 tokens per second)\n",
            "llama_print_timings: prompt eval time =       0.00 ms /     1 tokens (    0.00 ms per token,      inf tokens per second)\n",
            "llama_print_timings:        eval time =     434.23 ms /     5 runs   (   86.84 ms per token,    11.51 tokens per second)\n",
            "llama_print_timings:       total time =     515.05 ms /     6 tokens\n",
            "Llama.generate: prefix-match hit\n"
          ]
        },
        {
          "output_type": "stream",
          "name": "stdout",
          "text": [
            "\n",
            "Step 1. Ident\n"
          ]
        },
        {
          "output_type": "stream",
          "name": "stderr",
          "text": [
            "\n",
            "llama_print_timings:        load time =    1365.31 ms\n",
            "llama_print_timings:      sample time =      37.63 ms /     5 runs   (    7.53 ms per token,   132.86 tokens per second)\n",
            "llama_print_timings: prompt eval time =       0.00 ms /     1 tokens (    0.00 ms per token,      inf tokens per second)\n",
            "llama_print_timings:        eval time =     438.03 ms /     5 runs   (   87.61 ms per token,    11.41 tokens per second)\n",
            "llama_print_timings:       total time =     503.95 ms /     6 tokens\n",
            "14it [01:46,  4.90s/it]Llama.generate: prefix-match hit\n"
          ]
        },
        {
          "output_type": "stream",
          "name": "stdout",
          "text": [
            "\n",
            "Step 1. Ident\n",
            "##################################################\n",
            "None\n",
            "##################################################\n",
            "DEBUG max retries exceeded for index 13\n"
          ]
        },
        {
          "output_type": "stream",
          "name": "stderr",
          "text": [
            "\n",
            "llama_print_timings:        load time =    1365.31 ms\n",
            "llama_print_timings:      sample time =     235.43 ms /    28 runs   (    8.41 ms per token,   118.93 tokens per second)\n",
            "llama_print_timings: prompt eval time =    1288.06 ms /   462 tokens (    2.79 ms per token,   358.68 tokens per second)\n",
            "llama_print_timings:        eval time =    2455.41 ms /    27 runs   (   90.94 ms per token,    11.00 tokens per second)\n",
            "llama_print_timings:       total time =    4104.88 ms /   489 tokens\n",
            "Llama.generate: prefix-match hit\n"
          ]
        },
        {
          "output_type": "stream",
          "name": "stdout",
          "text": [
            "\n",
            "Step 1. Identify Paragraph Content: This paragraph contains sabotage techniques and tactics from \"Simple Sabotage\" published\n"
          ]
        },
        {
          "output_type": "stream",
          "name": "stderr",
          "text": [
            "\n",
            "llama_print_timings:        load time =    1365.31 ms\n",
            "llama_print_timings:      sample time =     528.57 ms /    28 runs   (   18.88 ms per token,    52.97 tokens per second)\n",
            "llama_print_timings: prompt eval time =       0.00 ms /     1 tokens (    0.00 ms per token,      inf tokens per second)\n",
            "llama_print_timings:        eval time =    2353.29 ms /    28 runs   (   84.05 ms per token,    11.90 tokens per second)\n",
            "llama_print_timings:       total time =    3158.92 ms /    29 tokens\n",
            "Llama.generate: prefix-match hit\n"
          ]
        },
        {
          "output_type": "stream",
          "name": "stdout",
          "text": [
            "\n",
            "Step 1. Identify Paragraph Content: This text is from \"Simple Sabotage,\" a guidebook published by the Office of\n"
          ]
        },
        {
          "output_type": "stream",
          "name": "stderr",
          "text": [
            "\n",
            "llama_print_timings:        load time =    1365.31 ms\n",
            "llama_print_timings:      sample time =     290.67 ms /    28 runs   (   10.38 ms per token,    96.33 tokens per second)\n",
            "llama_print_timings: prompt eval time =       0.00 ms /     1 tokens (    0.00 ms per token,      inf tokens per second)\n",
            "llama_print_timings:        eval time =    2513.29 ms /    28 runs   (   89.76 ms per token,    11.14 tokens per second)\n",
            "llama_print_timings:       total time =    2975.75 ms /    29 tokens\n",
            "Llama.generate: prefix-match hit\n"
          ]
        },
        {
          "output_type": "stream",
          "name": "stdout",
          "text": [
            "\n",
            "Step 1. Identify Paragraph Content: This text is from \"Simple Sabotage,\" a guidebook published by the Office of\n"
          ]
        },
        {
          "output_type": "stream",
          "name": "stderr",
          "text": [
            "\n",
            "llama_print_timings:        load time =    1365.31 ms\n",
            "llama_print_timings:      sample time =     237.53 ms /    28 runs   (    8.48 ms per token,   117.88 tokens per second)\n",
            "llama_print_timings: prompt eval time =       0.00 ms /     1 tokens (    0.00 ms per token,      inf tokens per second)\n",
            "llama_print_timings:        eval time =    2547.29 ms /    28 runs   (   90.97 ms per token,    10.99 tokens per second)\n",
            "llama_print_timings:       total time =    2912.56 ms /    29 tokens\n",
            "15it [02:00,  7.45s/it]Llama.generate: prefix-match hit\n"
          ]
        },
        {
          "output_type": "stream",
          "name": "stdout",
          "text": [
            "\n",
            "Step 1. Identify Paragraph Content: This paragraph contains sabotage techniques and tactics from \"Simple Sabotage\" published\n",
            "##################################################\n",
            "None\n",
            "##################################################\n",
            "DEBUG max retries exceeded for index 14\n"
          ]
        },
        {
          "output_type": "stream",
          "name": "stderr",
          "text": [
            "\n",
            "llama_print_timings:        load time =    1365.31 ms\n",
            "llama_print_timings:      sample time =     342.68 ms /    30 runs   (   11.42 ms per token,    87.54 tokens per second)\n",
            "llama_print_timings: prompt eval time =    1303.98 ms /   460 tokens (    2.83 ms per token,   352.77 tokens per second)\n",
            "llama_print_timings:        eval time =    2586.85 ms /    29 runs   (   89.20 ms per token,    11.21 tokens per second)\n",
            "llama_print_timings:       total time =    4409.04 ms /   489 tokens\n",
            "Llama.generate: prefix-match hit\n"
          ]
        },
        {
          "output_type": "stream",
          "name": "stdout",
          "text": [
            "\n",
            "Step 1. Identify Paragraph Content: This paragraph is from \"Simple Sabotage,\" discussing various methods of sabotaging machin\n"
          ]
        },
        {
          "output_type": "stream",
          "name": "stderr",
          "text": [
            "\n",
            "llama_print_timings:        load time =    1365.31 ms\n",
            "llama_print_timings:      sample time =     297.35 ms /    30 runs   (    9.91 ms per token,   100.89 tokens per second)\n",
            "llama_print_timings: prompt eval time =       0.00 ms /     1 tokens (    0.00 ms per token,      inf tokens per second)\n",
            "llama_print_timings:        eval time =    2704.14 ms /    30 runs   (   90.14 ms per token,    11.09 tokens per second)\n",
            "llama_print_timings:       total time =    3160.92 ms /    31 tokens\n",
            "Llama.generate: prefix-match hit\n"
          ]
        },
        {
          "output_type": "stream",
          "name": "stdout",
          "text": [
            "\n",
            "Step 1. Identify Paragraph Content: This paragraph contains practical sabotage techniques and their effects on machines and systems.\n",
            "Step 2\n"
          ]
        },
        {
          "output_type": "stream",
          "name": "stderr",
          "text": [
            "\n",
            "llama_print_timings:        load time =    1365.31 ms\n",
            "llama_print_timings:      sample time =     261.33 ms /    30 runs   (    8.71 ms per token,   114.80 tokens per second)\n",
            "llama_print_timings: prompt eval time =       0.00 ms /     1 tokens (    0.00 ms per token,      inf tokens per second)\n",
            "llama_print_timings:        eval time =    2749.18 ms /    30 runs   (   91.64 ms per token,    10.91 tokens per second)\n",
            "llama_print_timings:       total time =    3148.52 ms /    31 tokens\n",
            "Llama.generate: prefix-match hit\n"
          ]
        },
        {
          "output_type": "stream",
          "name": "stdout",
          "text": [
            "\n",
            "Step 1. Identify Paragraph Content: This paragraph contains examples and explanations of simple sabotage techniques targeting machinery and industrial\n"
          ]
        },
        {
          "output_type": "stream",
          "name": "stderr",
          "text": [
            "\n",
            "llama_print_timings:        load time =    1365.31 ms\n",
            "llama_print_timings:      sample time =     255.06 ms /    30 runs   (    8.50 ms per token,   117.62 tokens per second)\n",
            "llama_print_timings: prompt eval time =       0.00 ms /     1 tokens (    0.00 ms per token,      inf tokens per second)\n",
            "llama_print_timings:        eval time =    2774.53 ms /    30 runs   (   92.48 ms per token,    10.81 tokens per second)\n",
            "llama_print_timings:       total time =    3168.17 ms /    31 tokens\n",
            "16it [02:14,  9.42s/it]Llama.generate: prefix-match hit\n"
          ]
        },
        {
          "output_type": "stream",
          "name": "stdout",
          "text": [
            "\n",
            "Step 1. Identify Paragraph Content: This paragraph contains examples and advice on simple sabotage techniques from the Office of Strategic Services\n",
            "##################################################\n",
            "None\n",
            "##################################################\n",
            "DEBUG max retries exceeded for index 15\n"
          ]
        },
        {
          "output_type": "stream",
          "name": "stderr",
          "text": [
            "\n",
            "llama_print_timings:        load time =    1365.31 ms\n",
            "llama_print_timings:      sample time =     534.19 ms /    18 runs   (   29.68 ms per token,    33.70 tokens per second)\n",
            "llama_print_timings: prompt eval time =    1314.75 ms /   471 tokens (    2.79 ms per token,   358.24 tokens per second)\n",
            "llama_print_timings:        eval time =    1452.93 ms /    17 runs   (   85.47 ms per token,    11.70 tokens per second)\n",
            "llama_print_timings:       total time =    3546.61 ms /   488 tokens\n",
            "Llama.generate: prefix-match hit\n"
          ]
        },
        {
          "output_type": "stream",
          "name": "stdout",
          "text": [
            "\n",
            "Step 1. Identify Paragraph Content: This paragraph contains sabotage techniques target\n"
          ]
        },
        {
          "output_type": "stream",
          "name": "stderr",
          "text": [
            "\n",
            "llama_print_timings:        load time =    1365.31 ms\n",
            "llama_print_timings:      sample time =     154.80 ms /    18 runs   (    8.60 ms per token,   116.28 tokens per second)\n",
            "llama_print_timings: prompt eval time =       0.00 ms /     1 tokens (    0.00 ms per token,      inf tokens per second)\n",
            "llama_print_timings:        eval time =    1642.69 ms /    18 runs   (   91.26 ms per token,    10.96 tokens per second)\n",
            "llama_print_timings:       total time =    1892.30 ms /    19 tokens\n",
            "Llama.generate: prefix-match hit\n"
          ]
        },
        {
          "output_type": "stream",
          "name": "stdout",
          "text": [
            "\n",
            "Step 1. Identify Paragraph Content: This paragraph contains sabotage techniques target\n"
          ]
        },
        {
          "output_type": "stream",
          "name": "stderr",
          "text": [
            "\n",
            "llama_print_timings:        load time =    1365.31 ms\n",
            "llama_print_timings:      sample time =     150.48 ms /    18 runs   (    8.36 ms per token,   119.62 tokens per second)\n",
            "llama_print_timings: prompt eval time =       0.00 ms /     1 tokens (    0.00 ms per token,      inf tokens per second)\n",
            "llama_print_timings:        eval time =    1638.11 ms /    18 runs   (   91.01 ms per token,    10.99 tokens per second)\n",
            "llama_print_timings:       total time =    1873.31 ms /    19 tokens\n",
            "Llama.generate: prefix-match hit\n"
          ]
        },
        {
          "output_type": "stream",
          "name": "stdout",
          "text": [
            "\n",
            "Step 1. Identify Paragraph Content: This paragraph contains sabotage techniques target\n"
          ]
        },
        {
          "output_type": "stream",
          "name": "stderr",
          "text": [
            "\n",
            "llama_print_timings:        load time =    1365.31 ms\n",
            "llama_print_timings:      sample time =     146.98 ms /    18 runs   (    8.17 ms per token,   122.47 tokens per second)\n",
            "llama_print_timings: prompt eval time =       0.00 ms /     1 tokens (    0.00 ms per token,      inf tokens per second)\n",
            "llama_print_timings:        eval time =    1624.97 ms /    18 runs   (   90.28 ms per token,    11.08 tokens per second)\n",
            "llama_print_timings:       total time =    1857.61 ms /    19 tokens\n",
            "17it [02:23,  8.43s/it]"
          ]
        },
        {
          "output_type": "stream",
          "name": "stdout",
          "text": [
            "\n",
            "Step 1. Identify Paragraph Content: This paragraph contains sabotage techniques target\n",
            "##################################################\n",
            "None\n",
            "##################################################\n",
            "DEBUG max retries exceeded for index 16\n"
          ]
        },
        {
          "output_type": "stream",
          "name": "stderr",
          "text": [
            "\n"
          ]
        },
        {
          "output_type": "error",
          "ename": "ValueError",
          "evalue": "Requested tokens (4002) exceed context window of 4000",
          "traceback": [
            "\u001b[0;31m---------------------------------------------------------------------------\u001b[0m",
            "\u001b[0;31mValueError\u001b[0m                                Traceback (most recent call last)",
            "\u001b[0;32m<ipython-input-16-8c06edc2fc38>\u001b[0m in \u001b[0;36m<cell line: 10>\u001b[0;34m()\u001b[0m\n\u001b[1;32m     27\u001b[0m                 )\n\u001b[1;32m     28\u001b[0m         \u001b[0;32melse\u001b[0m\u001b[0;34m:\u001b[0m\u001b[0;34m\u001b[0m\u001b[0;34m\u001b[0m\u001b[0m\n\u001b[0;32m---> 29\u001b[0;31m             \u001b[0mjudgement\u001b[0m \u001b[0;34m=\u001b[0m \u001b[0mjudge_paragraph\u001b[0m\u001b[0;34m(\u001b[0m\u001b[0mp\u001b[0m\u001b[0;34m,\u001b[0m \u001b[0mlogic_llm\u001b[0m\u001b[0;34m)\u001b[0m\u001b[0;34m\u001b[0m\u001b[0;34m\u001b[0m\u001b[0m\n\u001b[0m\u001b[1;32m     30\u001b[0m             \u001b[0mjudged_worthy_for_questions\u001b[0m\u001b[0;34m.\u001b[0m\u001b[0mappend\u001b[0m\u001b[0;34m(\u001b[0m\u001b[0mjudgement\u001b[0m\u001b[0;34m)\u001b[0m\u001b[0;34m\u001b[0m\u001b[0;34m\u001b[0m\u001b[0m\n\u001b[1;32m     31\u001b[0m             \u001b[0mprint\u001b[0m\u001b[0;34m(\u001b[0m\u001b[0;34m\"##################################################\"\u001b[0m\u001b[0;34m)\u001b[0m\u001b[0;34m\u001b[0m\u001b[0;34m\u001b[0m\u001b[0m\n",
            "\u001b[0;32m/content/generation_functions/judge_paragraph.py\u001b[0m in \u001b[0;36mjudge_paragraph\u001b[0;34m(p, logic_llm)\u001b[0m\n\u001b[1;32m    258\u001b[0m \"\"\"\n\u001b[1;32m    259\u001b[0m         \u001b[0;31m# print(\"DEBUG\\n\\n\" + decision_prompt)\u001b[0m\u001b[0;34m\u001b[0m\u001b[0;34m\u001b[0m\u001b[0m\n\u001b[0;32m--> 260\u001b[0;31m         completion = logic_llm(\n\u001b[0m\u001b[1;32m    261\u001b[0m             \u001b[0mdecision_prompt\u001b[0m\u001b[0;34m,\u001b[0m\u001b[0;34m\u001b[0m\u001b[0;34m\u001b[0m\u001b[0m\n\u001b[1;32m    262\u001b[0m             \u001b[0mmax_tokens\u001b[0m\u001b[0;34m=\u001b[0m\u001b[0;36m6000\u001b[0m\u001b[0;34m,\u001b[0m\u001b[0;34m\u001b[0m\u001b[0;34m\u001b[0m\u001b[0m\n",
            "\u001b[0;32m/usr/local/lib/python3.10/dist-packages/llama_cpp/llama.py\u001b[0m in \u001b[0;36m__call__\u001b[0;34m(self, prompt, suffix, max_tokens, temperature, top_p, min_p, typical_p, logprobs, echo, stop, frequency_penalty, presence_penalty, repeat_penalty, top_k, stream, seed, tfs_z, mirostat_mode, mirostat_tau, mirostat_eta, model, stopping_criteria, logits_processor, grammar, logit_bias)\u001b[0m\n\u001b[1;32m   1514\u001b[0m             \u001b[0mResponse\u001b[0m \u001b[0mobject\u001b[0m \u001b[0mcontaining\u001b[0m \u001b[0mthe\u001b[0m \u001b[0mgenerated\u001b[0m \u001b[0mtext\u001b[0m\u001b[0;34m.\u001b[0m\u001b[0;34m\u001b[0m\u001b[0;34m\u001b[0m\u001b[0m\n\u001b[1;32m   1515\u001b[0m         \"\"\"\n\u001b[0;32m-> 1516\u001b[0;31m         return self.create_completion(\n\u001b[0m\u001b[1;32m   1517\u001b[0m             \u001b[0mprompt\u001b[0m\u001b[0;34m=\u001b[0m\u001b[0mprompt\u001b[0m\u001b[0;34m,\u001b[0m\u001b[0;34m\u001b[0m\u001b[0;34m\u001b[0m\u001b[0m\n\u001b[1;32m   1518\u001b[0m             \u001b[0msuffix\u001b[0m\u001b[0;34m=\u001b[0m\u001b[0msuffix\u001b[0m\u001b[0;34m,\u001b[0m\u001b[0;34m\u001b[0m\u001b[0;34m\u001b[0m\u001b[0m\n",
            "\u001b[0;32m/usr/local/lib/python3.10/dist-packages/llama_cpp/llama.py\u001b[0m in \u001b[0;36mcreate_completion\u001b[0;34m(self, prompt, suffix, max_tokens, temperature, top_p, min_p, typical_p, logprobs, echo, stop, frequency_penalty, presence_penalty, repeat_penalty, top_k, stream, seed, tfs_z, mirostat_mode, mirostat_tau, mirostat_eta, model, stopping_criteria, logits_processor, grammar, logit_bias)\u001b[0m\n\u001b[1;32m   1447\u001b[0m             \u001b[0mchunks\u001b[0m\u001b[0;34m:\u001b[0m \u001b[0mIterator\u001b[0m\u001b[0;34m[\u001b[0m\u001b[0mCreateCompletionStreamResponse\u001b[0m\u001b[0;34m]\u001b[0m \u001b[0;34m=\u001b[0m \u001b[0mcompletion_or_chunks\u001b[0m\u001b[0;34m\u001b[0m\u001b[0;34m\u001b[0m\u001b[0m\n\u001b[1;32m   1448\u001b[0m             \u001b[0;32mreturn\u001b[0m \u001b[0mchunks\u001b[0m\u001b[0;34m\u001b[0m\u001b[0;34m\u001b[0m\u001b[0m\n\u001b[0;32m-> 1449\u001b[0;31m         \u001b[0mcompletion\u001b[0m\u001b[0;34m:\u001b[0m \u001b[0mCompletion\u001b[0m \u001b[0;34m=\u001b[0m \u001b[0mnext\u001b[0m\u001b[0;34m(\u001b[0m\u001b[0mcompletion_or_chunks\u001b[0m\u001b[0;34m)\u001b[0m  \u001b[0;31m# type: ignore\u001b[0m\u001b[0;34m\u001b[0m\u001b[0;34m\u001b[0m\u001b[0m\n\u001b[0m\u001b[1;32m   1450\u001b[0m         \u001b[0;32mreturn\u001b[0m \u001b[0mcompletion\u001b[0m\u001b[0;34m\u001b[0m\u001b[0;34m\u001b[0m\u001b[0m\n\u001b[1;32m   1451\u001b[0m \u001b[0;34m\u001b[0m\u001b[0m\n",
            "\u001b[0;32m/usr/local/lib/python3.10/dist-packages/llama_cpp/llama.py\u001b[0m in \u001b[0;36m_create_completion\u001b[0;34m(self, prompt, suffix, max_tokens, temperature, top_p, min_p, typical_p, logprobs, echo, stop, frequency_penalty, presence_penalty, repeat_penalty, top_k, stream, seed, tfs_z, mirostat_mode, mirostat_tau, mirostat_eta, model, stopping_criteria, logits_processor, grammar, logit_bias)\u001b[0m\n\u001b[1;32m    926\u001b[0m \u001b[0;34m\u001b[0m\u001b[0m\n\u001b[1;32m    927\u001b[0m         \u001b[0;32mif\u001b[0m \u001b[0mlen\u001b[0m\u001b[0;34m(\u001b[0m\u001b[0mprompt_tokens\u001b[0m\u001b[0;34m)\u001b[0m \u001b[0;34m>=\u001b[0m \u001b[0mself\u001b[0m\u001b[0;34m.\u001b[0m\u001b[0m_n_ctx\u001b[0m\u001b[0;34m:\u001b[0m\u001b[0;34m\u001b[0m\u001b[0;34m\u001b[0m\u001b[0m\n\u001b[0;32m--> 928\u001b[0;31m             raise ValueError(\n\u001b[0m\u001b[1;32m    929\u001b[0m                 \u001b[0;34mf\"Requested tokens ({len(prompt_tokens)}) exceed context window of {llama_cpp.llama_n_ctx(self.ctx)}\"\u001b[0m\u001b[0;34m\u001b[0m\u001b[0;34m\u001b[0m\u001b[0m\n\u001b[1;32m    930\u001b[0m             )\n",
            "\u001b[0;31mValueError\u001b[0m: Requested tokens (4002) exceed context window of 4000"
          ]
        }
      ],
      "source": [
        "import json\n",
        "import os\n",
        "from tqdm import tqdm\n",
        "\n",
        "# Create directory if it doesn't exist\n",
        "output_dir = \"./worthy_for_questions\"\n",
        "os.makedirs(output_dir, exist_ok=True)\n",
        "\n",
        "# Determine which paragraphs are worthy of making questions from\n",
        "if not TEXT_MANUALLY_CLEANED:\n",
        "    judged_worthy_for_questions = []\n",
        "    for idx, p in tqdm(enumerate(paragraphs_processed)):\n",
        "        # for idx, p in tqdm(enumerate(paragraphs_processed[:10])):\n",
        "        file_name = f\"{idx}.json\"\n",
        "        file_path = os.path.join(output_dir, file_name)\n",
        "\n",
        "        # Check if the judgement for this paragraph already exists\n",
        "        if os.path.isfile(file_path):\n",
        "            with open(file_path, \"r\") as file:\n",
        "                data = json.load(file)\n",
        "                print(\"LOADING: \", data)\n",
        "            if isinstance(data, str):\n",
        "                judged_worthy_for_questions.append((None, data[7:]))\n",
        "            else:\n",
        "                judged_worthy_for_questions.append(\n",
        "                    (data[\"paragraph\"], data[\"metadata\"])\n",
        "                )\n",
        "        else:\n",
        "            judgement = judge_paragraph(p, logic_llm)\n",
        "            judged_worthy_for_questions.append(judgement)\n",
        "            print(\"##################################################\")\n",
        "            print(judgement)\n",
        "            print(\"##################################################\")\n",
        "            # Prepare the data to be written to the file\n",
        "            if judgement is None:\n",
        "               data_to_write = f\"failed|{p}\"\n",
        "\n",
        "            elif judgement[0] is not None:\n",
        "                # The paragraph passed the judgement\n",
        "                data_to_write = {\"paragraph\": judgement[0], \"metadata\": judgement[1]}\n",
        "            else:\n",
        "                # The paragraph did not pass the judgement\n",
        "                data_to_write = f\"failed|{judgement[1]}\"\n",
        "\n",
        "            # Write the judgement to a unique file as JSON\n",
        "            with open(file_path, \"w\") as file:\n",
        "                json.dump(data_to_write, file)\n",
        "\n",
        "            # Debug messages\n",
        "            try:\n",
        "                if judgement[0] is not None:\n",
        "                    print(f\"DEBUG model decided that index {idx} was suitable\")\n",
        "                else:\n",
        "                    print(f\"DEBUG model decided that index {idx} was not suitable\")\n",
        "            except:\n",
        "                print(f\"DEBUG max retries exceeded for index {idx}\")\n",
        "\n",
        "else:\n",
        "    judged_worthy_for_questions = paragraphs_processed\n",
        "    # No need to write to file since paragraph chunking is deterministic"
      ]
    },
    {
      "cell_type": "code",
      "execution_count": null,
      "metadata": {
        "id": "_Fn3v8ZQz8SR"
      },
      "outputs": [],
      "source": [
        "# Graphing code generated by GPT-4. May be suboptimal/ugly.\n",
        "import matplotlib.pyplot as plt\n",
        "from collections import Counter\n",
        "\n",
        "\n",
        "def filter_and_graph(tuples):\n",
        "    # Count the occurrences of None and non-None for each source text\n",
        "    source_counts = Counter()\n",
        "    for paragraph, source in tuples:\n",
        "        if paragraph is None:\n",
        "            source_counts[source] = source_counts.get(source, [0, 0])\n",
        "            source_counts[source][0] += 1\n",
        "        else:\n",
        "            source_counts[source] = source_counts.get(source, [0, 0])\n",
        "            source_counts[source][1] += 1\n",
        "\n",
        "    # Prepare data for the graph\n",
        "    labels = list(source_counts.keys())\n",
        "    none_counts = [source_counts[source][0] for source in labels]\n",
        "    non_none_counts = [source_counts[source][1] for source in labels]\n",
        "\n",
        "    # Plotting the graph\n",
        "    x = range(len(labels))\n",
        "    plt.bar(x, none_counts, width=0.4, label=\"Not suitable\", align=\"center\")\n",
        "    plt.bar(x, non_none_counts, width=0.4, label=\"Valid Paragraphs\", align=\"edge\")\n",
        "    plt.xlabel(\"Source Text\")\n",
        "    plt.ylabel(\"Number of Paragraphs\")\n",
        "    plt.title(\"Paragraphs Suitable for Questions by Source Text\")\n",
        "    plt.xticks(x, labels, rotation=\"vertical\")\n",
        "    plt.legend()\n",
        "    plt.tight_layout()\n",
        "    plt.show()\n",
        "\n",
        "    # Filter out tuples with None and return the new list\n",
        "    filtered_list = [t for t in tuples if t[0] is not None]\n",
        "    return filtered_list"
      ]
    },
    {
      "cell_type": "code",
      "execution_count": null,
      "metadata": {
        "id": "Bt7CMkooz8SR"
      },
      "outputs": [],
      "source": [
        "filtered_worthy_for_questions = filter_and_graph(judged_worthy_for_questions)"
      ]
    },
    {
      "cell_type": "code",
      "execution_count": null,
      "metadata": {
        "id": "-1H29rJnz8SR"
      },
      "outputs": [],
      "source": [
        "print(filtered_worthy_for_questions[0])"
      ]
    },
    {
      "cell_type": "code",
      "execution_count": null,
      "metadata": {
        "id": "31kBnnvPz8SR"
      },
      "outputs": [],
      "source": [
        "# Control flow helpers\n",
        "\n",
        "# Change this value to change how many times the checks must pass consecutively for a thing to be accepted\n",
        "\n",
        "import logging\n",
        "from math import ceil\n",
        "\n",
        "\n",
        "# Setup logging\n",
        "# Except I actually don't use this because I switched to print() because jupyter is annoying with logging\n",
        "logging.basicConfig(\n",
        "    filename=\"data_generation.log\",\n",
        "    filemode=\"a\",\n",
        "    format=\"%(asctime)s - %(levelname)s - %(message)s\",\n",
        "    level=logging.INFO,\n",
        ")\n",
        "\n",
        "\n",
        "def vet_answer_accuracy_loop(qa_tuple, total_retries, run_id):\n",
        "    try:\n",
        "        qtuple = qa_tuple\n",
        "        print(\n",
        "            f\"\\n\\nStarting ACCURACY loop for question: {qtuple[0]}, context: {qtuple[2]}\"\n",
        "        )\n",
        "        passed_checks = 0\n",
        "        times_checked = 0\n",
        "        dissenting_reasoning = \"\"\n",
        "        while times_checked < DOUBLE_CHECK_COUNTER:\n",
        "            print(\n",
        "                f\"\\n\\nACCURACY CALL CHECK ANSWER: {qtuple[0]}, context: {qtuple[2]}, retries: {total_retries}, dissenting reasoning: {dissenting_reasoning}\"\n",
        "            )\n",
        "            judgement, answer_accuracy_output = check_answer(qtuple, logic_llm)\n",
        "            write_output_to_file(\n",
        "                answer_accuracy_output, \"./check_answer_accuracy_generations\", run_id\n",
        "            )\n",
        "            if not judgement[0]:  # if not accurate\n",
        "                dissenting_reasoning = judgement[1]\n",
        "            else:\n",
        "                passed_checks += 1\n",
        "            times_checked += 1\n",
        "            if passed_checks >= ceil(DOUBLE_CHECK_COUNTER / 2):\n",
        "                break\n",
        "            failed_checks = times_checked - passed_checks\n",
        "            if failed_checks >= ceil(DOUBLE_CHECK_COUNTER / 2):\n",
        "                break\n",
        "\n",
        "        if passed_checks >= ceil(DOUBLE_CHECK_COUNTER / 2):  # if question checks passed\n",
        "            print(f\"\\n\\ANSWER ACCURACY CHECKS PASSED retries: {total_retries}\")\n",
        "            return qtuple\n",
        "        else:\n",
        "            # Generate new question and restart the loop\n",
        "            print(\n",
        "                f\"\\n\\nACCURACY CHECKS FAILED - SENDING BACK TO QUESTION LOOP retries: {total_retries}\"\n",
        "            )\n",
        "            total_retries += 1\n",
        "            qtuple, generate_new_q_output = generate_new_question(qtuple, logic_llm)\n",
        "            write_output_to_file(\n",
        "                generate_new_q_output, \"./regenerate_question_generations\", run_id\n",
        "            )\n",
        "            vet_question_loop(\n",
        "                qtuple, total_retries, run_id=run_id.split(\"--subquestion--\")[0]\n",
        "            )  # going to get one hell of a call stack by the end of this, but it should be fine\n",
        "    except Exception as e:\n",
        "        print(\"!!ERROR!!\")\n",
        "        print(e)\n",
        "        pass\n",
        "\n",
        "    return (None, None, None, qtuple[3])\n",
        "\n",
        "\n",
        "def vet_answer_relevance_loop(qa_tuple, total_retries, run_id):\n",
        "    try:\n",
        "        qtuple = qa_tuple\n",
        "        print(\n",
        "            f\"\\n\\nStarting RELEVANCE loop for question: {qtuple[0]}, context: {qtuple[2]}\"\n",
        "        )\n",
        "        passed_checks = 0\n",
        "        times_checked = 0\n",
        "        dissenting_reasoning = \"\"\n",
        "        while times_checked < DOUBLE_CHECK_COUNTER:\n",
        "            print(\n",
        "                f\"\\n\\nRELEVANCE CALL CHECK ANSWER: {qtuple[0]}, context: {qtuple[2]}, retries: {total_retries}, dissenting reasoning: {dissenting_reasoning}\"\n",
        "            )\n",
        "            judgement, answer_relevancy_output = check_answer_relevancy_with_text(\n",
        "                qtuple, logic_llm\n",
        "            )\n",
        "            write_output_to_file(\n",
        "                answer_relevancy_output, \"./check_answer_relevancy_generations\", run_id\n",
        "            )\n",
        "            if not judgement[0]:  # if not relevant\n",
        "                dissenting_reasoning = judgement[1]\n",
        "            else:\n",
        "                passed_checks += 1\n",
        "            times_checked += 1\n",
        "            if passed_checks >= ceil(DOUBLE_CHECK_COUNTER / 2):\n",
        "                break\n",
        "            failed_checks = times_checked - passed_checks\n",
        "            if failed_checks >= ceil(DOUBLE_CHECK_COUNTER / 2):\n",
        "                break\n",
        "\n",
        "        if passed_checks >= ceil(DOUBLE_CHECK_COUNTER / 2):\n",
        "            print(f\"\\n\\nRELEVANCE CHECKS PASSED\")\n",
        "            return vet_answer_accuracy_loop(qtuple, total_retries, run_id)\n",
        "        else:\n",
        "            print(f\"\\n\\nRELEVANCE CHECKS FAILED - SENDING BACK TO QUESTION LOOP\")\n",
        "            total_retries += 1\n",
        "            qtuple, generate_new_q_output = generate_new_question(qtuple, logic_llm)\n",
        "            write_output_to_file(\n",
        "                generate_new_q_output, \"./regenerate_question_generations\", run_id\n",
        "            )\n",
        "            return vet_question_loop(\n",
        "                qtuple, total_retries, run_id=run_id.split(\"--subquestion--\")[0]\n",
        "            )\n",
        "    except Exception as e:\n",
        "        print(\"!!ERROR!!\")\n",
        "        print(e)\n",
        "        pass\n",
        "\n",
        "    return (None, None, None, qtuple[3])\n",
        "\n",
        "\n",
        "def vet_question_loop(qa_tuple, question_group_id=None, total_retries=0):\n",
        "    try:\n",
        "        qtuple = qa_tuple\n",
        "        print(\n",
        "            f\"\\n\\nStarting QUESTION loop for question: {qtuple[0]}, context: {qtuple[2]}\"\n",
        "        )\n",
        "        while total_retries <= 4:\n",
        "            run_id = question_group_id + \"--subquestion--\" + make_id()\n",
        "            passed_checks = 0\n",
        "            times_checked = 0\n",
        "            dissenting_reasoning = \"\"\n",
        "            while times_checked < DOUBLE_CHECK_COUNTER:\n",
        "                print(\n",
        "                    f\"\\n\\nQUESTION CALL CHECK ANSWER: {qtuple[0]}, context: {qtuple[2]}, retries: {total_retries}, dissenting reasoning: {dissenting_reasoning}\"\n",
        "                )\n",
        "                judgement, check_q_output = check_question(qtuple, logic_llm)\n",
        "                write_output_to_file(\n",
        "                    check_q_output, \"./check_question_generations\", run_id\n",
        "                )\n",
        "                if not judgement[0]:  # if not relevant\n",
        "                    dissenting_reasoning = judgement[1]\n",
        "                else:\n",
        "                    passed_checks += 1\n",
        "                times_checked += 1\n",
        "                if passed_checks >= ceil(DOUBLE_CHECK_COUNTER / 2):\n",
        "                    break\n",
        "                failed_checks = times_checked - passed_checks\n",
        "                if failed_checks >= ceil(DOUBLE_CHECK_COUNTER / 2):\n",
        "                    break\n",
        "\n",
        "            if passed_checks >= ceil(\n",
        "                DOUBLE_CHECK_COUNTER / 2\n",
        "            ):  # if all question checks passed\n",
        "                print(f\"\\n\\nQUESTION CHECKS PASSED retries: {total_retries}\")\n",
        "                return vet_answer_relevance_loop(qtuple, total_retries, run_id)\n",
        "            else:\n",
        "                # Generate new question and restart the loop\n",
        "                print(\n",
        "                    f\"\\n\\nQUESTION CHECKS FAILED - GENERATING NEW QUESTION retries: {total_retries}\"\n",
        "                )\n",
        "                total_retries += 1\n",
        "                if (\n",
        "                    total_retries <= 4\n",
        "                ):  # only regen question if we're not already at max regens\n",
        "                    qtuple, generate_new_q_output = generate_new_question(\n",
        "                        qtuple, logic_llm\n",
        "                    )\n",
        "                    write_output_to_file(\n",
        "                        generate_new_q_output,\n",
        "                        \"./regenerate_question_generations\",\n",
        "                        run_id,\n",
        "                    )\n",
        "                    print(\"New question: \", qtuple)\n",
        "                # no calling of vet_question_loop, since we're already in a while loop\n",
        "    except Exception as e:\n",
        "        print(\"!!ERROR!!\")\n",
        "        print(e)\n",
        "\n",
        "    return (None, None, None, qtuple[3])"
      ]
    },
    {
      "cell_type": "code",
      "execution_count": null,
      "metadata": {
        "id": "G6Yrn0ygz8SR"
      },
      "outputs": [],
      "source": [
        "# control flow\n",
        "import json\n",
        "import os\n",
        "from tqdm import tqdm\n",
        "import glob\n",
        "\n",
        "# Directory for QA tuples\n",
        "qa_tuples_dir = \"./qatuples_raw\"\n",
        "if not os.path.exists(qa_tuples_dir):\n",
        "    os.makedirs(qa_tuples_dir)\n",
        "\n",
        "# Initialize vetted_qa_tuples\n",
        "vetted_qa_tuples = []  # tuple list of qa tuples that have been judged good\n",
        "\n",
        "# Attempt to initialize filtered_worthy_for_questions\n",
        "try:\n",
        "    _ = filtered_worthy_for_questions\n",
        "except NameError:\n",
        "    filtered_worthy_for_questions = []\n",
        "\n",
        "if not filtered_worthy_for_questions:\n",
        "    # Load all files in the qa_tuples_dir if filtered_worthy_for_questions is not initialized\n",
        "    existing_files = glob.glob(os.path.join(qa_tuples_dir, \"*.json\"))\n",
        "    for file_path in existing_files:\n",
        "        with open(file_path, \"r\") as file:\n",
        "            qa_tuple = tuple(json.load(file))\n",
        "        vetted_qa_tuples.append(qa_tuple)\n",
        "\n",
        "\n",
        "else:\n",
        "    for idx, para in enumerate(tqdm(filtered_worthy_for_questions)):\n",
        "        # for idx, para in enumerate(tqdm(filtered_worthy_for_questions[:10])): # Use this instead if you are just testing all steps of the notebook\n",
        "        try:\n",
        "            existing_files = glob.glob(\n",
        "                os.path.join(qa_tuples_dir, f\"para_{idx}_*.json\")\n",
        "            )  # check if qs already exist\n",
        "\n",
        "            if len(existing_files) > 0:  # If files exist, skip this paragraph entirely\n",
        "                print(f\"Skipping para_{idx} as files already exist; loading said files\")\n",
        "                for file_path in existing_files:\n",
        "                    with open(file_path, \"r\") as file:\n",
        "                        qa_tuple = tuple(json.load(file))\n",
        "                    vetted_qa_tuples.append(qa_tuple)\n",
        "                continue\n",
        "\n",
        "            question_group_id = make_id()\n",
        "            print(f\"\\n\\n\\nOUTER LOOP CALL GENERATE QPLAN para: {para}, \\n\\n idx: {idx}\")\n",
        "            plan, questions_plan_output = generate_questions_plan(para, logic_llm)\n",
        "            write_output_to_file(\n",
        "                questions_plan_output, \"./question_plan_generations\", question_group_id\n",
        "            )\n",
        "            print(\n",
        "                f\"\\n\\n\\nOUTER LOOP CALL GENERATE Q: {para}, \\n\\n idx: {idx} \\n\\n plan: {plan}\"\n",
        "            )\n",
        "            question_answer_tuples, question_generation_output = generate_questions(\n",
        "                para, plan, logic_llm\n",
        "            )\n",
        "            write_output_to_file(\n",
        "                question_generation_output,\n",
        "                \"./question_generation_generations\",\n",
        "                question_group_id,\n",
        "            )\n",
        "            for qnum, question_answer_tuple in enumerate(question_answer_tuples):\n",
        "                print(\n",
        "                    f\"\\n\\n=======!!=BEGIN VETTING QA TUPLE {idx}_{qnum}=!!=======\\n\\n\"\n",
        "                )\n",
        "                good_qa_tuple = vet_question_loop(\n",
        "                    question_answer_tuple, question_group_id=question_group_id\n",
        "                )\n",
        "\n",
        "                # Write resulting question file if the tuple is not None\n",
        "                if good_qa_tuple[0] is not None:\n",
        "                    file_path = os.path.join(qa_tuples_dir, f\"para_{idx}_q_{qnum}.json\")\n",
        "                    with open(file_path, \"w\") as file:\n",
        "                        json.dump(good_qa_tuple, file, indent=4)\n",
        "\n",
        "                vetted_qa_tuples.append(\n",
        "                    good_qa_tuple\n",
        "                )  # We must filter out all None values at the end; but appending Nones lets us know where things went wrong, and how often.\n",
        "        except Exception as e:\n",
        "            print(f\"Q ERROR: {e}\")"
      ]
    },
    {
      "cell_type": "code",
      "execution_count": null,
      "metadata": {
        "id": "kmyW1MsAz8SS"
      },
      "outputs": [],
      "source": [
        "print(\n",
        "    \"-------------- QUESTIONS CREATED ------------- STATS SO FAR (may be wrong if run was continued from interruption):\"\n",
        ")\n",
        "nones = list(filter(lambda x: x[0] is None, vetted_qa_tuples))\n",
        "print(f\"Nones: {len(nones)}\")\n",
        "print(f\"Non-nones: {len(vetted_qa_tuples) - len(nones)}\")\n",
        "print(f\"Total: {len(vetted_qa_tuples)}\")\n",
        "# filter out all None values\n",
        "vetted_qa_tuples = [qa for qa in vetted_qa_tuples if qa[0] is not None]\n",
        "print(\"---------------- ONTO EXAMPLES GENERATION-------------------\")"
      ]
    },
    {
      "cell_type": "code",
      "execution_count": null,
      "metadata": {
        "id": "sFCmKnFgz8SS"
      },
      "outputs": [],
      "source": [
        "# Check for and fix the common mistake: mentioning \"the text\".\n",
        "# TODO refactor to be continuable, should take like 30 mins at most\n",
        "\n",
        "writepath = \"./qatuples_revised\"\n",
        "\n",
        "\n",
        "# Assuming vetted_qa_tuples is a list that might or might not exist\n",
        "try:\n",
        "    _ = vetted_qa_tuples\n",
        "except NameError:\n",
        "    vetted_qa_tuples = []\n",
        "\n",
        "\n",
        "# Load all files at the start if vetted_qa_tuples is empty\n",
        "if not vetted_qa_tuples:\n",
        "    # Check if the directory exists\n",
        "    if os.path.exists(writepath):\n",
        "        # List all files in directory\n",
        "        for file_name in os.listdir(writepath):\n",
        "            file_path = os.path.join(writepath, file_name)\n",
        "            try:\n",
        "                with open(file_path, \"r\", encoding=\"utf-8\") as f:\n",
        "                    content = f.read()\n",
        "                    print(f\"Loading file: {file_path}\")\n",
        "                    if content == \"failed\":\n",
        "                        vetted_qa_tuples.append(None)\n",
        "                    else:\n",
        "                        try:\n",
        "                            data = json.loads(content)\n",
        "                            vetted_qa_tuples.append(\n",
        "                                (data[0], data[1], data[2], data[3])\n",
        "                            )\n",
        "                        except json.JSONDecodeError:\n",
        "                            print(\"JSON decode error with the contents:\", content)\n",
        "                            vetted_qa_tuples.append(None)\n",
        "            except Exception as e:\n",
        "                print(f\"Error reading {file_path}: {e}\")\n",
        "\n",
        "else:\n",
        "    old_tuples = vetted_qa_tuples.copy()\n",
        "\n",
        "    for idx, tup in enumerate(vetted_qa_tuples):\n",
        "        file_path = os.path.join(writepath, f\"revised_{idx}.json\")\n",
        "        if os.path.exists(file_path):\n",
        "            with open(file_path, \"r\", encoding=\"utf-8\") as f:\n",
        "                content = f.read()  # Read the file once and store its content\n",
        "                print(file_path)\n",
        "                if content == \"failed\":\n",
        "                    print(\"Loaded failed file\")\n",
        "                    vetted_qa_tuples[idx] = None\n",
        "                    continue\n",
        "                print(\"Loaded file:\")\n",
        "                print(content)\n",
        "                # Reset the file pointer to the beginning if you need to read again or convert string back to JSON\n",
        "                try:\n",
        "                    data = json.loads(content)  # Convert the string back to JSON\n",
        "                    vetted_qa_tuples[idx] = (data[0], data[1], data[2], data[3])\n",
        "                    continue\n",
        "                except json.JSONDecodeError:\n",
        "                    print(\"JSON decode error with the contents:\", content)\n",
        "                    # Handle the error appropriately\n",
        "\n",
        "        try:\n",
        "            revision_id = make_id()\n",
        "            revision, revision_output = check_qatuple_context(tup, logic_llm)\n",
        "            write_output_to_file(\n",
        "                revision_output, \"./question_context_revision_generations\", revision_id\n",
        "            )  # incidentally, identifying the problem and fixing it in the same step (without another planning step) works a lot better than identifying it and then trying to fix it in the next step.\n",
        "            if isinstance(revision[0], str):  # if the thing was reworded\n",
        "                vetted_qa_tuples[idx] = revision\n",
        "            elif not revision[0]:\n",
        "                vetted_qa_tuples[\n",
        "                    idx\n",
        "                ] = None  # prepare item for deletion later; right now we just store it as None because indexes\n",
        "            # else, if it passed, we just leave it be.\n",
        "\n",
        "            # Write in-progress\n",
        "            if not os.path.exists(writepath):\n",
        "                os.makedirs(writepath)\n",
        "\n",
        "            if vetted_qa_tuples[idx]:\n",
        "                with open(file_path, \"w\") as file:\n",
        "                    json.dump(vetted_qa_tuples[idx], file, indent=4)\n",
        "            else:\n",
        "                with open(file_path, \"w\") as file:\n",
        "                    file.write(\"failed\")\n",
        "\n",
        "        except Exception as e:\n",
        "            print(\"!!! ERROR!\", e)"
      ]
    },
    {
      "cell_type": "code",
      "execution_count": null,
      "metadata": {
        "id": "RwNqo2Suz8SS"
      },
      "outputs": [],
      "source": [
        "# Print stats related to revised qatuples, and filter out nones (questions that were unanswerable due to lack of context).\n",
        "import json\n",
        "import os\n",
        "\n",
        "print(\"-------------- QUESTIONS REVISED ------------- STATS SO FAR:\")\n",
        "nones = list(filter(lambda x: x is None, vetted_qa_tuples))\n",
        "print(f\"Nones: {len(nones)}\")\n",
        "print(f\"Non-nones: {len(vetted_qa_tuples) - len(nones)}\")\n",
        "print(f\"Total: {len(vetted_qa_tuples)}\")\n",
        "# filter out all None values\n",
        "vetted_qa_tuples = [qa for qa in vetted_qa_tuples if qa is not None]\n",
        "print(\"---------------- ONTO EXAMPLES GENERATION-------------------\")"
      ]
    },
    {
      "cell_type": "code",
      "execution_count": null,
      "metadata": {
        "id": "6HYLxGRXz8SS"
      },
      "outputs": [],
      "source": [
        "# Group tuples for multiturn example generation (by chunk of source text) and then run that helper (so that we can make multiturn conversations from questions based on the same paragraphs)\n",
        "def group_by_text(tuples_list):\n",
        "    # Dictionary to hold the groups with text as the key\n",
        "    groups = {}\n",
        "\n",
        "    # Iterate over each tuple in the list\n",
        "    for question, answer, text, textname in tuples_list:\n",
        "        # If the text is not yet a key in the dictionary, add it with an empty list\n",
        "        if text not in groups:\n",
        "            groups[text] = []\n",
        "\n",
        "        # Append the current tuple to the appropriate list\n",
        "        groups[text].append((question, answer, text, textname))\n",
        "\n",
        "    # Return the values of the dictionary, which are the lists of tuples grouped by text; also remove duplicates\n",
        "    return [identify_duplicates(group) for group in list(groups.values())]"
      ]
    },
    {
      "cell_type": "code",
      "execution_count": null,
      "metadata": {
        "id": "SHaSSr4Az8SS"
      },
      "outputs": [],
      "source": [
        "qa_tuples_by_paragraph = group_by_text(vetted_qa_tuples)"
      ]
    },
    {
      "cell_type": "code",
      "execution_count": null,
      "metadata": {
        "id": "k6e2x7ALz8SS"
      },
      "outputs": [],
      "source": [
        "from math import ceil\n",
        "\n",
        "# multiturn helpers\n",
        "# These will probably be used for multiturn rapid-fire answering.\n",
        "\n",
        "\n",
        "# Idea: use multiple short answers to train the task of answering multiple questions in one response. Two-three short answers per response should be enough.\n",
        "def make_multiturn_character(qa_tuples, conv_id):\n",
        "    if (\n",
        "        ASSISTANT_MODE\n",
        "    ):  # If assistant mode is on, multiturn convs will have hardcoded information in its prompt file; but we still need to put something in the file\n",
        "        return \"will_be_replaced\", \"will_be_replaced\"\n",
        "    plan, instructions, card_plan_output = create_character_card_plan_many_tuples(\n",
        "        qa_tuples, logic_llm\n",
        "    )  # I will reuse the many tuples function for short question-answers, there's a lot of prompting in here already\n",
        "    write_output_to_file(card_plan_output, \"./multiturn_card_plan_generations\", conv_id)\n",
        "    char, char_output = create_character_card_many_tuples(\n",
        "        qa_tuples, plan, instructions, logic_llm\n",
        "    )  # creates a character card\n",
        "    write_output_to_file(char_output, \"./multiturn_card_generations\", conv_id)\n",
        "    return char, instructions\n",
        "\n",
        "\n",
        "def make_multiturn_scenario(qa_tuples, character, conv_id):\n",
        "    if (\n",
        "        ASSISTANT_MODE\n",
        "    ):  # If assistant mode is on, multiturn convs will have hardcoded information in its prompt file; but we still need to put something in the file\n",
        "        return \"will_be_replaced\", \"will_be_replaced\"\n",
        "    plan, scenario_plan_output = create_scenario_plan_many_tuples(\n",
        "        qa_tuples, character, logic_llm\n",
        "    )\n",
        "    write_output_to_file(\n",
        "        scenario_plan_output, \"./multiturn_scenario_plan_generations\", conv_id\n",
        "    )\n",
        "    scenario, scenario_output = create_scenario_many_tuples(\n",
        "        qa_tuples, character, plan, logic_llm\n",
        "    )  # creates a scenario based on a character card and question/answer tuple\n",
        "    write_output_to_file(scenario_output, \"./multiturn_scenario_generations\", conv_id)\n",
        "    return scenario, plan\n",
        "\n",
        "\n",
        "def make_multiturn_conversation_info(qa_tuples, logic_llm):\n",
        "    conv_id = make_id()\n",
        "    if (\n",
        "        ASSISTANT_MODE\n",
        "    ):  # If assistant mode is on, multiturn convs will have hardcoded information in its prompt file; but we still need to put something in the file\n",
        "        return (qa_tuples, \"will\", \"be\", \"replaced\", conv_id)\n",
        "    # thought_plan = create_thought_plan_many_tuples(qa_tuples,character,scenario,logic_llm) # There IS a way to make multiturn chain of thought answering work: generate each pair of messages using a separate prompt or a separate function, each of which has only the thought plan for that question/answer pair. But simply cramming in all the step-by-step things will confuse the hell out of the poor model. So for the first release version we're skipping it and just giving the response, with no reasoning, in the multiturn convs.\n",
        "    character, instructions = make_multiturn_character(qa_tuples, conv_id)\n",
        "    scenario, scenario_plan = make_multiturn_scenario(qa_tuples, character, conv_id)\n",
        "\n",
        "    return (qa_tuples, character, scenario, scenario_plan, conv_id)"
      ]
    },
    {
      "cell_type": "code",
      "execution_count": null,
      "metadata": {
        "id": "3dneTAg0z8SS"
      },
      "outputs": [],
      "source": [
        "import os\n",
        "import json\n",
        "import random\n",
        "import itertools\n",
        "\n",
        "\n",
        "if not os.path.exists(multi_turn_convs_info_dir):\n",
        "    os.makedirs(multi_turn_convs_info_dir)"
      ]
    },
    {
      "cell_type": "code",
      "execution_count": null,
      "metadata": {
        "id": "af0KE6WUz8SS"
      },
      "outputs": [],
      "source": [
        "multi_turn_convs_info = []\n",
        "for idx, group in enumerate(qa_tuples_by_paragraph):\n",
        "    all_permutations = list(itertools.permutations(group))\n",
        "\n",
        "    sample_size = min(REARRANGEMENTS_TO_TAKE, len(all_permutations))\n",
        "    sampled_permutations = random.sample(all_permutations, sample_size)\n",
        "\n",
        "    group_convs_info = []\n",
        "\n",
        "    for iter, perm in enumerate(sampled_permutations):\n",
        "        file_path = os.path.join(multi_turn_convs_info_dir, f\"info_{idx}_{iter}.json\")\n",
        "\n",
        "        # Skip if file already exists\n",
        "        if not os.path.exists(file_path):\n",
        "            info = make_multiturn_conversation_info(perm, logic_llm)\n",
        "\n",
        "            if info is not None:\n",
        "                with open(file_path, \"w\") as file:\n",
        "                    json.dump(info, file, indent=4)\n",
        "\n",
        "            group_convs_info.append(info)\n",
        "        else:\n",
        "            print(f\"Skipped generating {file_path} as it already exists\")\n",
        "\n",
        "    multi_turn_convs_info.append(group_convs_info)"
      ]
    },
    {
      "cell_type": "code",
      "execution_count": null,
      "metadata": {
        "id": "UJ3KMgpdz8SS"
      },
      "outputs": [],
      "source": [
        "del logic_llm  # Apparently frees the model, haven't tested this extensively"
      ]
    },
    {
      "cell_type": "markdown",
      "metadata": {
        "id": "mj4tFj3Az8SS"
      },
      "source": [
        "# Stop Here, Restart the Notebook, and Reimport Everything IF you are doing 2-step Generation (where you do the easy bits with a small model, and the hard bit with a large one)."
      ]
    },
    {
      "cell_type": "code",
      "execution_count": null,
      "metadata": {
        "id": "PYW6-5R-z8SS"
      },
      "outputs": [],
      "source": [
        "# Load model into vram\n",
        "from llama_cpp import Llama\n",
        "\n",
        "logic_llm = Llama(\n",
        "    model_path=LARGE_LOGICAL_MODEL,\n",
        "    n_gqa=8,\n",
        "    offload_kqv=True,\n",
        "    n_ctx=12000,\n",
        "    rope_freq_scale=0.33,\n",
        "    n_gpu_layers=100,\n",
        "    verbose=False,\n",
        ")  # load the logical LLM and offload everything"
      ]
    },
    {
      "cell_type": "code",
      "execution_count": null,
      "metadata": {
        "id": "lmz64SpFz8SS"
      },
      "outputs": [],
      "source": [
        "import os\n",
        "import json\n",
        "\n",
        "\n",
        "def read_json_files_info(directory):\n",
        "    # Create a list to hold the tuples\n",
        "    tuple_list = []\n",
        "\n",
        "    # Get all the .json files in the directory, sorted\n",
        "    json_files = sorted([f for f in os.listdir(directory) if f.endswith(\".json\")])\n",
        "\n",
        "    # Read each file and convert the contents\n",
        "    for file in json_files:\n",
        "        with open(os.path.join(directory, file), \"r\") as f:\n",
        "            data = json.load(f)\n",
        "            # Ensure the data is in the correct format before converting to tuple\n",
        "            if (\n",
        "                isinstance(data, list)\n",
        "                and len(data) == 5\n",
        "                and isinstance(data[0], list)\n",
        "                and all(len(item) == 4 for item in data[0])\n",
        "                and all(isinstance(i, str) for i in data[1:])\n",
        "            ):\n",
        "                tuple_list.append((data[0], data[1], data[2], data[3], data[4]))\n",
        "\n",
        "    return tuple_list\n",
        "\n",
        "\n",
        "convs_info = read_json_files_info(multi_turn_convs_info_dir)"
      ]
    },
    {
      "cell_type": "code",
      "execution_count": null,
      "metadata": {
        "id": "u3yo_04yz8SS"
      },
      "outputs": [],
      "source": [
        "import os\n",
        "import json\n",
        "import random\n",
        "import itertools\n",
        "\n",
        "multi_turn_convs_dir = \"./multi_turn_convs\"\n",
        "if not os.path.exists(multi_turn_convs_dir):\n",
        "    os.makedirs(multi_turn_convs_dir)\n",
        "\n",
        "multi_turn_convs = []\n",
        "for idx, info in enumerate(convs_info):\n",
        "    file_path = os.path.join(multi_turn_convs_dir, f\"conv_{idx}.json\")\n",
        "\n",
        "    # Skip if file already exists\n",
        "    if not os.path.exists(file_path):\n",
        "        conv = make_multiturn_conversation(info, logic_llm)\n",
        "        final_conv = ensure_multiple_answers_are_same(info, conv, logic_llm)\n",
        "\n",
        "        if final_conv is not None:\n",
        "            with open(file_path, \"w\") as file:\n",
        "                json.dump(final_conv, file, indent=4)\n",
        "\n",
        "        multi_turn_convs.append(final_conv)\n",
        "    else:\n",
        "        with open(file_path, \"r\", encoding=\"utf-8\") as f:\n",
        "            data = json.load(f)\n",
        "            multi_turn_convs.append(data)\n",
        "        print(f\"Skipped generating {file_path} as it already exists\")"
      ]
    },
    {
      "cell_type": "markdown",
      "metadata": {
        "id": "AyENWEckz8ST"
      },
      "source": [
        "# Yay! Now you have a dataset!\n",
        "### GPT wrote the cell below. I think it successfully converts things to ShareGPT format for use with axolotl, but I am not sure because I don't know that format very well and haven't used Axolotl. However, the json produced by the second function looks fine."
      ]
    },
    {
      "cell_type": "code",
      "execution_count": null,
      "metadata": {
        "id": "e2DoSv3Oz8ST"
      },
      "outputs": [],
      "source": [
        "import os\n",
        "import json\n",
        "\n",
        "\n",
        "def convert_directory_to_list(directory_path):\n",
        "    master_list = []\n",
        "    simplified_list = []\n",
        "\n",
        "    for filename in os.listdir(directory_path):\n",
        "        if filename.endswith(\".json\"):\n",
        "            filepath = os.path.join(directory_path, filename)\n",
        "            with open(filepath, \"r\") as file:\n",
        "                data = json.load(file)\n",
        "                if isinstance(data, list) and all(\n",
        "                    isinstance(item, (list, str)) for item in data\n",
        "                ):\n",
        "                    master_list.append(data)\n",
        "\n",
        "                    # Extract and process conversation\n",
        "                    conversation, primary_char_desc = data[0], data[1]\n",
        "                    primary_char_name = extract_name(primary_char_desc)\n",
        "                    dialogues = extract_conversation(conversation)\n",
        "\n",
        "                    # Convert to simplified format\n",
        "                    simplified_conversations = []\n",
        "                    for i, (charname, message) in enumerate(\n",
        "                        dialogues\n",
        "                    ):  # Skipping the first message\n",
        "                        from_person = (\n",
        "                            \"human\" if charname == primary_char_name else \"gpt\"\n",
        "                        )\n",
        "                        simplified_conversations.append(\n",
        "                            {\"from\": from_person, \"value\": f\"{charname}: {message}\"}\n",
        "                        )\n",
        "\n",
        "                    if simplified_conversations:  # If there are any conversations\n",
        "                        simplified_list.append(\n",
        "                            {\"conversations\": simplified_conversations}\n",
        "                        )\n",
        "\n",
        "    # Write the master list to a new .jsonl file\n",
        "    with open(\"master_list.jsonl\", \"w\") as file:\n",
        "        for item in master_list:\n",
        "            file.write(json.dumps(item) + \"\\n\")\n",
        "\n",
        "    # Write the simplified data to a different .jsonl file\n",
        "    with open(\"simplified_data.jsonl\", \"w\") as file:\n",
        "        for item in simplified_list:\n",
        "            file.write(json.dumps(item) + \"\\n\")\n",
        "\n",
        "    print(\n",
        "        \"Conversion complete. Master list written to 'master_list.json'. Simplified data written to 'simplified_data.json'.\"\n",
        "    )\n",
        "\n",
        "\n",
        "convert_directory_to_list(\"./multi_turn_convs/\")\n",
        "\n",
        "# Write version where each line in the conversation is separate, so that you do not need to write an extract_convs function if you want a custom format.\n",
        "\n",
        "\n",
        "def convert_directory_and_process_conversations(directory_path):\n",
        "    master_list = []\n",
        "\n",
        "    for filename in os.listdir(directory_path):\n",
        "        if filename.endswith(\".json\"):\n",
        "            filepath = os.path.join(directory_path, filename)\n",
        "            with open(filepath, \"r\") as file:\n",
        "                data = json.load(file)\n",
        "\n",
        "                if isinstance(data, list) and all(\n",
        "                    isinstance(item, (list, str)) for item in data\n",
        "                ):\n",
        "                    # Extract and process the conversation part\n",
        "                    conversations = extract_conversation(data[0])\n",
        "                    # Convert tuples back to the formatted string as required\n",
        "                    data[0] = [\n",
        "                        f\"{charname}: {message}\" for charname, message in conversations\n",
        "                    ]\n",
        "                    master_list.append(data)\n",
        "                else:\n",
        "                    print(f\"File {filename} is not in the expected format.\")\n",
        "\n",
        "    # Write the master list to a new file\n",
        "    with open(\"processed_master_list.json\", \"w\") as file:\n",
        "        json.dump(master_list, file)\n",
        "\n",
        "    print(\n",
        "        \"Conversion complete. The processed master list is written to 'processed_master_list.json'.\"\n",
        "    )\n",
        "\n",
        "\n",
        "# Usage: replace 'path_to_directory' with the actual directory path\n",
        "convert_directory_and_process_conversations(\"./multi_turn_convs/\")"
      ]
    },
    {
      "cell_type": "code",
      "execution_count": null,
      "metadata": {
        "id": "c3wqza_oz8ST"
      },
      "outputs": [],
      "source": [
        "with open(\"./processed_master_list.json\") as f:\n",
        "    first = f.read()\n",
        "    data = json.loads(first)\n",
        "\n",
        "\n",
        "# For curiosity's sake, you can find out how many lines of dialogue you generated\n",
        "def filter_and_flatten(lst):\n",
        "    # Initialize an empty list to hold the flattened elements\n",
        "    flat_list = []\n",
        "\n",
        "    # Loop through each sublist in the main list\n",
        "    for sublst in lst:\n",
        "        # Check if the first element of the sublist is itself a list (subsublist1)\n",
        "        if isinstance(sublst[0], list):\n",
        "            # Extend the flat_list with the elements from subsublist1\n",
        "            flat_list.extend(sublst[0])\n",
        "\n",
        "    return flat_list\n",
        "\n",
        "\n",
        "len(filter_and_flatten(data))"
      ]
    }
  ],
  "metadata": {
    "kernelspec": {
      "display_name": "Python 3",
      "name": "python3"
    },
    "language_info": {
      "codemirror_mode": {
        "name": "ipython",
        "version": 3
      },
      "file_extension": ".py",
      "mimetype": "text/x-python",
      "name": "python",
      "nbconvert_exporter": "python",
      "pygments_lexer": "ipython3",
      "version": "3.8.15"
    },
    "orig_nbformat": 4,
    "vscode": {
      "interpreter": {
        "hash": "4976e0179d97dd6d59b1329a76e601e17b789c2571b41c8b57f5fd69821c0dd3"
      }
    },
    "colab": {
      "provenance": [],
      "gpuType": "T4"
    },
    "accelerator": "GPU"
  },
  "nbformat": 4,
  "nbformat_minor": 0
}