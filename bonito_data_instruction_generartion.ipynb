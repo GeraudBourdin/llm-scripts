{
  "nbformat": 4,
  "nbformat_minor": 0,
  "metadata": {
    "colab": {
      "provenance": [],
      "gpuType": "A100",
      "include_colab_link": true
    },
    "kernelspec": {
      "name": "python3",
      "display_name": "Python 3"
    },
    "language_info": {
      "name": "python"
    },
    "accelerator": "GPU"
  },
  "cells": [
    {
      "cell_type": "markdown",
      "metadata": {
        "id": "view-in-github",
        "colab_type": "text"
      },
      "source": [
        "<a href=\"https://colab.research.google.com/github/GeraudBourdin/llm-scripts/blob/main/bonito_data_instruction_generartion.ipynb\" target=\"_parent\"><img src=\"https://colab.research.google.com/assets/colab-badge.svg\" alt=\"Open In Colab\"/></a>"
      ]
    },
    {
      "cell_type": "markdown",
      "source": [],
      "metadata": {
        "id": "eyAw8cOJvlIE"
      }
    },
    {
      "cell_type": "markdown",
      "source": [
        "Needs A100 CPU  (used 34G nvram)"
      ],
      "metadata": {
        "id": "8xiJAJPIvnLH"
      }
    },
    {
      "cell_type": "markdown",
      "source": [
        "## Step 1 - Install the dependencies"
      ],
      "metadata": {
        "id": "trUyAQom8QaN"
      }
    },
    {
      "cell_type": "code",
      "source": [
        "import locale\n",
        "locale.getpreferredencoding = lambda: \"UTF-8\""
      ],
      "metadata": {
        "id": "BdP46_3BsjDX"
      },
      "execution_count": 30,
      "outputs": []
    },
    {
      "cell_type": "code",
      "execution_count": null,
      "metadata": {
        "id": "QGKIriXPmDuU"
      },
      "outputs": [],
      "source": [
        "!pip install -e git+https://github.com/BatsResearch/bonito#egg=bonito"
      ]
    },
    {
      "cell_type": "code",
      "source": [
        "!pip install datasets huggingface_hub"
      ],
      "metadata": {
        "id": "ayXPdhaqg1xD"
      },
      "execution_count": null,
      "outputs": []
    },
    {
      "cell_type": "code",
      "source": [
        "!pip install pymupdf spacy"
      ],
      "metadata": {
        "id": "sydeh-wIbN49"
      },
      "execution_count": null,
      "outputs": []
    },
    {
      "cell_type": "markdown",
      "source": [
        "## Step 2: Processing the PDF documentExtract Text from PDF"
      ],
      "metadata": {
        "id": "vQreZDgibd1Q"
      }
    },
    {
      "cell_type": "markdown",
      "source": [
        "### 2.1 Exract texts"
      ],
      "metadata": {
        "id": "XMKS38GaPfyX"
      }
    },
    {
      "cell_type": "code",
      "source": [
        "import fitz  # PyMuPDF\n",
        "\n",
        "def extract_text_from_pdf(pdf_path):\n",
        "    doc = fitz.open(pdf_path)\n",
        "    text = \"\"\n",
        "    for page in doc:\n",
        "        text += page.get_text()\n",
        "    return text\n",
        "\n",
        "pdf_path = 'Catalogue-Hyundai-KONA.pdf'\n",
        "text = extract_text_from_pdf(pdf_path)\n",
        "print(text)"
      ],
      "metadata": {
        "id": "x3kokLKXbdSR"
      },
      "execution_count": null,
      "outputs": []
    },
    {
      "cell_type": "markdown",
      "source": [
        "### 2.2 Split Text into Sentences"
      ],
      "metadata": {
        "id": "lgt-7t3BcTXi"
      }
    },
    {
      "cell_type": "code",
      "source": [
        "import spacy\n",
        "\n",
        "spacy.require_gpu()\n",
        "nlp = spacy.load(\"en_core_web_sm\")  # Load English tokenizer, tagger, parser, NER, and word vectors\n",
        "\n",
        "def split_into_sentences(text):\n",
        "    doc = nlp(text)\n",
        "    print(doc)\n",
        "    sentences = [sent.text.strip() for sent in doc.sents]\n",
        "    return sentences\n",
        "\n",
        "sentences = split_into_sentences(text)\n"
      ],
      "metadata": {
        "id": "YMFbTQu9bV87"
      },
      "execution_count": null,
      "outputs": []
    },
    {
      "cell_type": "code",
      "source": [
        "print(sentences)"
      ],
      "metadata": {
        "id": "Rb3Ytrs_dFKd"
      },
      "execution_count": null,
      "outputs": []
    },
    {
      "cell_type": "code",
      "source": [
        "print(sentences[50])"
      ],
      "metadata": {
        "id": "og30edmMdN9h"
      },
      "execution_count": null,
      "outputs": []
    },
    {
      "cell_type": "markdown",
      "source": [
        "### 2.3 Create a Transformers Dataset\n",
        "You'll now transform the sentences into a format suitable for the Hugging Face datasets library."
      ],
      "metadata": {
        "id": "Bmfn0hVcc3fz"
      }
    },
    {
      "cell_type": "code",
      "source": [
        "from datasets import Dataset\n",
        "\n",
        "# Assuming sentences is a list of strings, where each string is a sentence\n",
        "data = {\"sentence\": sentences}\n",
        "dataset = Dataset.from_dict(data)\n",
        "\n",
        "print(dataset)\n"
      ],
      "metadata": {
        "id": "UCxV6QRNc4gy"
      },
      "execution_count": null,
      "outputs": []
    },
    {
      "cell_type": "markdown",
      "source": [
        "## Step 3 : Generate synthetic dataset using Bonito"
      ],
      "metadata": {
        "id": "1pM6XVgrPtdB"
      }
    },
    {
      "cell_type": "code",
      "source": [
        "from bonito import Bonito, SamplingParams\n",
        "from datasets import load_dataset\n",
        "\n",
        "# Initialize the Bonito model\n",
        "bonito = Bonito(\"BatsResearch/bonito-v1\")\n",
        "\n"
      ],
      "metadata": {
        "id": "bgbgUB2zgxSw"
      },
      "execution_count": null,
      "outputs": []
    },
    {
      "cell_type": "code",
      "source": [
        "# load dataset with unannotated text\n",
        "# Supported Task Types [full name (short form)]: extractive question answering (exqa),\n",
        "# multiple-choice question answering (mcqa),\n",
        "# question generation (qg),\n",
        "# question answering without choices (qa),\n",
        "# yes-no question answering (ynqa),\n",
        "# coreference resolution (coref),\n",
        "# paraphrase generation (paraphrase),\n",
        "# paraphrase identification (paraphrase_id),\n",
        "# sentence completion (sent_comp),\n",
        "# sentiment (sentiment),\n",
        "# summarization (summarization),\n",
        "# text generation (text_gen),\n",
        "# topic classification (topic_class),\n",
        "# word sense disambiguation (wsd), textual entailment (te), natural language inference (nli)\n",
        "# Generate synthetic instruction tuning dataset\n",
        "\n",
        "sampling_params = SamplingParams(max_tokens=256, top_p=0.95, temperature=0.5, n=1)\n",
        "synthetic_dataset = bonito.generate_tasks(\n",
        "    dataset,\n",
        "    context_col=\"sentence\",\n",
        "    task_type=\"qg\",\n",
        "    sampling_params=sampling_params\n",
        ")"
      ],
      "metadata": {
        "id": "9q0p4lJN-Iht"
      },
      "execution_count": null,
      "outputs": []
    },
    {
      "cell_type": "code",
      "source": [
        "print(synthetic_dataset)"
      ],
      "metadata": {
        "id": "w24qHCcx-3f_"
      },
      "execution_count": null,
      "outputs": []
    },
    {
      "cell_type": "code",
      "source": [
        "import pandas as pd\n",
        "\n",
        "df = pd.DataFrame(synthetic_dataset)\n",
        "\n",
        "print(df.head(50))  # Adjust the number inside head() to see more or fewer rows\n"
      ],
      "metadata": {
        "id": "zzDz8dCA9Fv9"
      },
      "execution_count": null,
      "outputs": []
    },
    {
      "cell_type": "markdown",
      "source": [
        "## Step 4 : Saving the generated dataset\n",
        "\n",
        "4.1Authenticate with Hugging Face"
      ],
      "metadata": {
        "id": "QILIAb3a2icb"
      }
    },
    {
      "cell_type": "code",
      "source": [
        "from huggingface_hub import notebook_login\n",
        "\n",
        "notebook_login()"
      ],
      "metadata": {
        "id": "nMPRLvAW2MlS"
      },
      "execution_count": null,
      "outputs": []
    },
    {
      "cell_type": "markdown",
      "source": [
        "4.2 Push the dataset to the Hub"
      ],
      "metadata": {
        "id": "PUmJ8-YmQD3s"
      }
    },
    {
      "cell_type": "code",
      "source": [
        "from huggingface_hub import create_repo\n",
        "from huggingface_hub import Repository\n",
        "\n",
        "repo_name = \"test_bonito\"  # Choose a name for your dataset repository\n",
        "repo_url = create_repo(repo_name, repo_type=\"dataset\")\n",
        "print(\"Repository URL:\", repo_url)\n",
        "\n",
        "\n",
        "\n",
        "\n"
      ],
      "metadata": {
        "id": "BUJWJBy02egW"
      },
      "execution_count": 16,
      "outputs": []
    },
    {
      "cell_type": "code",
      "source": [
        "synthetic_dataset.push_to_hub(f\"Bourdin/test_bonito\")"
      ],
      "metadata": {
        "id": "PRu9WW3GBtrt"
      },
      "execution_count": null,
      "outputs": []
    }
  ]
}